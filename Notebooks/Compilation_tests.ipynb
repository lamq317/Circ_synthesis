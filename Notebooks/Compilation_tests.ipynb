{
 "cells": [
  {
   "cell_type": "code",
   "execution_count": 118,
   "id": "4836b972-df4e-4d11-9d61-e55111094bb4",
   "metadata": {},
   "outputs": [],
   "source": [
    "from __future__ import annotations\n",
    "\n",
    "import logging\n",
    "import os\n",
    "from timeit import default_timer as timer\n",
    "import pickle\n",
    "import numpy as np\n",
    "from scipy.linalg import expm\n",
    "import scipy\n",
    "import sys\n",
    "sys.path.append('./utils/')\n",
    "sys.path.append('../utils/')\n",
    "sys.path.append('/Users/luismartinezmartinez/GitHubProjs/CSA/')\n",
    "#import LayerGenDef\n",
    "\n",
    "from LayerGenDef import AltLayer\n",
    "\n",
    "from bqskit import Circuit\n",
    "from bqskit import enable_logging\n",
    "from bqskit.compiler import Compiler\n",
    "from bqskit.passes import ForEachBlockPass\n",
    "from bqskit.passes import QSearchSynthesisPass\n",
    "from bqskit.passes import QFASTDecompositionPass\n",
    "from bqskit.passes import ScanningGateRemovalPass\n",
    "from bqskit.passes import ToU3Pass\n",
    "from bqskit.passes import ToVariablePass\n",
    "from bqskit.passes import LEAPSynthesisPass\n",
    "from bqskit.passes import QSearchSynthesisPass\n",
    "from bqskit.passes import UnfoldPass\n",
    "from bqskit.passes import SimpleLayerGenerator\n",
    "from bqskit.ir.gates import VariableUnitaryGate\n",
    "\n",
    "from TapQub_utils import GenCliffUnit,GenQubitSym,TapperRotHam\n",
    "\n",
    "\n",
    "from bqskit import MachineModel\n",
    "from bqskit.ir.gates import CZGate, RZGate, SXGate"
   ]
  },
  {
   "cell_type": "code",
   "execution_count": 119,
   "id": "e0751c5f-2eac-48e8-9372-6f2a01b1d02d",
   "metadata": {},
   "outputs": [],
   "source": [
    "from bqskit.ir.gates.composed import ControlledGate "
   ]
  },
  {
   "cell_type": "code",
   "execution_count": 120,
   "id": "8c3592df-1102-4e2d-815e-9558bb5f967d",
   "metadata": {},
   "outputs": [],
   "source": [
    "import scipy.io as spio\n",
    "\n",
    "enable_logging()\n",
    "\n",
    "\n",
    "def loadMat(mol,path):\n",
    "    fname=path+f'generators_noesy_{mol}.mat'\n",
    "\n",
    "    return spio.loadmat(fname, squeeze_me=True)\n",
    "\n",
    "def EmbedInU(TarMat):\n",
    "\n",
    "    Dim = TarMat.shape[0]\n",
    "\n",
    "    UR = scipy.linalg.sqrtm(np.eye(Dim)-np.dot(TarMat,TarMat.conjugate().T))\n",
    "    LL = scipy.linalg.sqrtm(np.eye(Dim)-np.dot(TarMat.conjugate().T,TarMat))\n",
    "    \n",
    "    U_meth = np.zeros([2*Dim,2*Dim],dtype=complex)\n",
    "    U_meth[0:Dim,0:Dim] = TarMat\n",
    "    U_meth[0:Dim,Dim:2*Dim]=UR\n",
    "    U_meth[Dim:2*Dim,0:Dim]=LL\n",
    "    U_meth[Dim:2*Dim,Dim:2*Dim]=-TarMat.conjugate().T\n",
    "\n",
    "    return U_meth\n",
    "\n",
    "def Umetric(TarMat):\n",
    "    dim = TarMat.shape[0]\n",
    "    \n",
    "    return np.linalg.norm(np.dot(TarMat.conj().T,TarMat)-np.eye(dim))\n",
    "\n",
    "\n",
    "def run_simp_layer_flow_example(in_circuit,\n",
    "        amount_of_workers: int = 10, synt_pass = QSearchSynthesisPass\n",
    ") -> tuple[Circuit, float]:\n",
    "    \n",
    "    num_multistarts = 32\n",
    "   \n",
    "    instantiate_options = {\n",
    "        'method': 'qfactor',\n",
    "        'multistarts': num_multistarts,\n",
    "    }\n",
    "\n",
    "    # Prepare the compilation passes\n",
    "    #SimpleLayerGenerator(two_qudit_gate=CNOTGate, single_qudit_gate_1=U3Gate, single_qudit_gate_2=None, initial_layer_gate=None)\n",
    "\n",
    "    passes = [\n",
    "\n",
    "        # Split the circuit into partitions\n",
    "       #QSearchSynthesisPass(instantiate_options=instantiate_options),\n",
    "       synt_pass(layer_generator=SimpleLayerGenerator(two_qudit_gate=VariableUnitaryGate(2),single_qudit_gate_1=VariableUnitaryGate(1)),\n",
    "                 success_threshold=1e-3,max_layer=5000,instantiate_options=instantiate_options)\n",
    "       \n",
    "       #QSearchSynthesisPass(layer_generator=LayerGenDef.AltLayer(),instantiate_options=instantiate_options)\n",
    "\n",
    "    ]\n",
    "    # Create the compilation task\n",
    "\n",
    "    with Compiler(\n",
    "        num_workers=amount_of_workers,\n",
    "        runtime_log_level=logging.INFO,\n",
    "    ) as compiler:\n",
    "\n",
    "        print('Starting flow using QFactor instantiation')\n",
    "        start = timer()\n",
    "        out_circuit = compiler.compile(in_circuit, passes)\n",
    "        end = timer()\n",
    "        run_time = end - start\n",
    "\n",
    "    return out_circuit, run_time\n",
    "\n",
    "def run_custom_layer_flow_example(in_circuit,\n",
    "        amount_of_workers: int = 10, synt_pass = QSearchSynthesisPass\n",
    ") -> tuple[Circuit, float]:\n",
    "    \n",
    "    num_multistarts = 32\n",
    "   \n",
    "    instantiate_options = {\n",
    "        'method': 'qfactor',\n",
    "        'multistarts': num_multistarts,\n",
    "    }\n",
    "\n",
    "    # Prepare the compilation passes\n",
    "    #SimpleLayerGenerator(two_qudit_gate=CNOTGate, single_qudit_gate_1=U3Gate, single_qudit_gate_2=None, initial_layer_gate=None)\n",
    "\n",
    "    passes = [\n",
    "\n",
    "        # Split the circuit into partitions\n",
    "       #QSearchSynthesisPass(instantiate_options=instantiate_options),\n",
    "       synt_pass(layer_generator=AltLayer(),\n",
    "                 success_threshold=1e-3,max_layer=5000,instantiate_options=instantiate_options)\n",
    "       \n",
    "       #QSearchSynthesisPass(layer_generator=LayerGenDef.AltLayer(),instantiate_options=instantiate_options)\n",
    "\n",
    "    ]\n",
    "\n",
    "    # Create the compilation task\n",
    "\n",
    "    with Compiler(\n",
    "        num_workers=amount_of_workers,\n",
    "        runtime_log_level=logging.INFO,\n",
    "    ) as compiler:\n",
    "\n",
    "        print('Starting flow using QFactor instantiation')\n",
    "        start = timer()\n",
    "        out_circuit = compiler.compile(in_circuit, passes)\n",
    "        end = timer()\n",
    "        run_time = end - start\n",
    "\n",
    "    return out_circuit, run_time\n",
    "\n",
    "def run_qfast_flow(in_circuit,\n",
    "        amount_of_workers: int = 10,threshold = 1e-3\n",
    ") -> tuple[Circuit, float]:\n",
    "    \n",
    "    num_multistarts = 32\n",
    "   \n",
    "    instantiate_options = {\n",
    "        'method': 'minimization'\n",
    "        #'multistarts': num_multistarts,\n",
    "    }\n",
    "\n",
    "    # Prepare the compilation passes\n",
    "    #SimpleLayerGenerator(two_qudit_gate=CNOTGate, single_qudit_gate_1=U3Gate, single_qudit_gate_2=None, initial_layer_gate=None)\n",
    "\n",
    "    passes = [\n",
    "\n",
    "        # Split the circuit into partitions\n",
    "       #QSearchSynthesisPass(instantiate_options=instantiate_options),\n",
    "       #QFASTDecompositionPass(gate=VariableUnitaryGate(2),success_threshold=1e-3,instantiate_options=instantiate_options)\n",
    "        QFASTDecompositionPass(success_threshold=threshold,instantiate_options=instantiate_options)\n",
    "       \n",
    "       #QSearchSynthesisPass(layer_generator=LayerGenDef.AltLayer(),instantiate_options=instantiate_options)\n",
    "\n",
    "    ]\n",
    "    # Create the compilation task\n",
    "\n",
    "    with Compiler(\n",
    "        num_workers=amount_of_workers,\n",
    "        runtime_log_level=logging.INFO,\n",
    "    ) as compiler:\n",
    "\n",
    "        print('Starting flow using QFactor instantiation')\n",
    "        start = timer()\n",
    "        out_circuit = compiler.compile(in_circuit, passes)\n",
    "        end = timer()\n",
    "        run_time = end - start\n",
    "\n",
    "    return out_circuit, run_time\n",
    "\n",
    "\n",
    "def CompressMat(Mat,cutoff):\n",
    "    A = np.copy(Mat)\n",
    "\n",
    "    U,S,V = np.linalg.svd(A)\n",
    "\n",
    "    Dim = S.shape[0]\n",
    "\n",
    "    for i in range(Dim):\n",
    "        if S[i] <= cutoff:\n",
    "            S[i]=0\n",
    "\n",
    "    return U@np.diag(S)@V\n",
    "\n"
   ]
  },
  {
   "cell_type": "code",
   "execution_count": 4,
   "id": "93d6e78c-c0ba-42dc-b10c-07edc1c7d22f",
   "metadata": {},
   "outputs": [],
   "source": [
    "AuxMats = spio.loadmat('../data/DFG_NOESYmatrices.mat',squeeze_me=True)"
   ]
  },
  {
   "cell_type": "code",
   "execution_count": 5,
   "id": "710d1ea5-958d-4a96-9f53-1943fd05ec6b",
   "metadata": {},
   "outputs": [],
   "source": [
    "rho0 = np.array(AuxMats['rho0'].toarray())\n"
   ]
  },
  {
   "cell_type": "code",
   "execution_count": 6,
   "id": "22fd6a96-d9a7-444a-be6f-460c11dc0488",
   "metadata": {},
   "outputs": [
    {
     "data": {
      "text/plain": [
       "array([0. , 0. , 0.5, 0. , 0. , 0. , 0. , 0. , 0.5, 0. , 0. , 0. , 0. ,\n",
       "       0. , 0. , 0. ])"
      ]
     },
     "execution_count": 6,
     "metadata": {},
     "output_type": "execute_result"
    }
   ],
   "source": [
    "rho0.flatten()"
   ]
  },
  {
   "cell_type": "code",
   "execution_count": 38,
   "id": "00414edf-336d-424e-8eee-4f3df98c8ad9",
   "metadata": {},
   "outputs": [],
   "source": [
    "#AuxMats['Lx'].toarray()"
   ]
  },
  {
   "cell_type": "code",
   "execution_count": null,
   "id": "e380ab85-b50e-4e69-96c0-71946d6a8c59",
   "metadata": {},
   "outputs": [],
   "source": []
  },
  {
   "cell_type": "code",
   "execution_count": null,
   "id": "99e9c1c7-635a-41cc-bdb3-aa8f278acdd9",
   "metadata": {},
   "outputs": [],
   "source": []
  },
  {
   "cell_type": "code",
   "execution_count": 7,
   "id": "3ac5a1ae-2b92-4015-90f2-9dd3bdb4596e",
   "metadata": {},
   "outputs": [],
   "source": [
    "synt_pass = 'qfast' \n",
    "nworkers = 4\n",
    "t_idx = 256"
   ]
  },
  {
   "cell_type": "code",
   "execution_count": 8,
   "id": "39084e16-6314-4cb8-a940-940d52683bdd",
   "metadata": {},
   "outputs": [],
   "source": [
    "loadMat = spio.loadmat('../data/DFG.mat',squeeze_me=True)"
   ]
  },
  {
   "cell_type": "code",
   "execution_count": 9,
   "id": "c114a2c6-2761-4d33-bec2-950e933ca70f",
   "metadata": {},
   "outputs": [
    {
     "data": {
      "text/plain": [
       "256.0"
      ]
     },
     "execution_count": 9,
     "metadata": {},
     "output_type": "execute_result"
    }
   ],
   "source": [
    "len(loadMat['p']['time_grid1'].item())/2"
   ]
  },
  {
   "cell_type": "code",
   "execution_count": 10,
   "id": "824ccb09-4306-495b-a943-abbef455b06f",
   "metadata": {},
   "outputs": [],
   "source": [
    "#loadMat['p']['time_grid1'].item()-loadMat['p']['time_grid2'].item()"
   ]
  },
  {
   "cell_type": "code",
   "execution_count": 11,
   "id": "19cbdf76-3bb4-43f1-a251-9692f23e7620",
   "metadata": {},
   "outputs": [],
   "source": [
    "Ham = loadMat['p']['H'].item()\n",
    "R = loadMat['p']['R'].item()\n",
    "t_grid = loadMat['p']['time_grid1'].item()\n",
    "\n",
    "TimeGen = (-1j*Ham+R)*t_grid[t_idx]\n",
    "ExpGen = expm(TimeGen)\n",
    "\n",
    "####Embedding in unitary...\n",
    "\n",
    "EmbUn = EmbedInU(ExpGen)\n",
    "\n",
    "#nqubs = 4\n",
    "#SubU = np.copy(EmbUn[0:2**nqubs,0:2**nqubs])\n",
    "\n",
    "#SubEmbU = EmbedInU(SubU)\n",
    "\n",
    "\n",
    "#in_circuit = Circuit.from_unitary(SubEmbU)\n",
    "in_circuit = Circuit.from_unitary(EmbUn)"
   ]
  },
  {
   "cell_type": "code",
   "execution_count": 53,
   "id": "91830af5-1cfd-40e7-8f56-684bcd11187a",
   "metadata": {},
   "outputs": [],
   "source": [
    "U,D,Vdag = np.linalg.svd(ExpGen)\n",
    "D= np.diag(D)"
   ]
  },
  {
   "cell_type": "code",
   "execution_count": 65,
   "id": "70eebb38-180c-4d7a-b822-b5042586ec7a",
   "metadata": {},
   "outputs": [],
   "source": [
    "dimD = D.shape[0]\n",
    "RightUn = np.zeros([2*D.shape[0],2*D.shape[1]],dtype=complex)\n",
    "\n",
    "RightUn[0:dimD,0:dimD] = Vdag\n",
    "RightUn[dimD:2*dimD,0:dimD] = -Vdag\n",
    "RightUn[0:dimD,dimD:2*dimD] = U.conj().T\n",
    "RightUn[dimD:2*dimD,dimD:2*dimD] = U.conj().T\n",
    "\n",
    "RightUn = (1/np.sqrt(2))*RightUn\n",
    "\n",
    "#Matrix built out from singular values of propagator\n",
    "F_D = scipy.linalg.sqrtm(np.eye(16)-D@D)\n",
    "\n",
    "F_D = np.real(F_D)\n",
    "\n",
    "SV_mat = np.zeros([32,32],dtype=complex)\n",
    "\n",
    "SV_mat[0:16,0:16] = D\n",
    "SV_mat[16:32,16:32] = -D\n",
    "SV_mat[0:16,16:32] = F_D\n",
    "SV_mat[16:32,0:16] = F_D\n",
    "\n"
   ]
  },
  {
   "cell_type": "code",
   "execution_count": 66,
   "id": "4e1311a7-c010-4d5f-bdd4-39158741d209",
   "metadata": {},
   "outputs": [
    {
     "data": {
      "text/plain": [
       "2.771024778738677e-11"
      ]
     },
     "execution_count": 66,
     "metadata": {},
     "output_type": "execute_result"
    }
   ],
   "source": [
    "Umetric(SV_mat)"
   ]
  },
  {
   "cell_type": "code",
   "execution_count": 67,
   "id": "79e8b020-d939-4d2c-91ec-390ccdcf0275",
   "metadata": {},
   "outputs": [
    {
     "data": {
      "text/plain": [
       "2.771024778738677e-11"
      ]
     },
     "execution_count": 67,
     "metadata": {},
     "output_type": "execute_result"
    }
   ],
   "source": [
    "Umetric(SV_mat)"
   ]
  },
  {
   "cell_type": "code",
   "execution_count": 70,
   "id": "6e98ce8d-b51b-48bd-b9ef-fb557334902b",
   "metadata": {},
   "outputs": [
    {
     "data": {
      "text/plain": [
       "2.072383115361415"
      ]
     },
     "execution_count": 70,
     "metadata": {},
     "output_type": "execute_result"
    }
   ],
   "source": [
    "Umetric(D@Vdag-F_D@Vdag)"
   ]
  },
  {
   "cell_type": "markdown",
   "id": "fbf15fca-6133-48a6-88d8-98130bfda84c",
   "metadata": {},
   "source": [
    "# Leveraging tappering"
   ]
  },
  {
   "cell_type": "code",
   "execution_count": 97,
   "id": "5c387ea9-4069-4ce5-a9b2-2faaf290b904",
   "metadata": {},
   "outputs": [],
   "source": [
    "#The best idea we have is to find the basis to bring the Hamiltonian into taperable form...\n",
    "#However, the issue will be to synthesize the circuit for the Clifford that transforms the Hamiltonian into taperable\n",
    "#form. Intuitively, clifford unitaries should be easy to synthesize into circuits...\n",
    "from openfermion import QubitOperator\n",
    "import re\n",
    "import openfermion as of\n",
    "import pennylane as qml\n",
    "from scipy.cluster.hierarchy import fcluster, linkage\n",
    "import cmath\n",
    "from bqskit import compile\n",
    "\n",
    "\n",
    "def gram_schmidt(vectors):\n",
    "    \"\"\"Orthogonalize a set of vectors using the Gram-Schmidt process.\"\"\"\n",
    "    orthogonalized_vectors = []\n",
    "    for v in vectors:\n",
    "        for u in orthogonalized_vectors:\n",
    "            v -= np.dot(u.conj(), v) * u\n",
    "        v /= np.linalg.norm(v)\n",
    "        orthogonalized_vectors.append(v)\n",
    "    return np.array(orthogonalized_vectors)\n",
    "\n",
    "def cluster_eigenvalues(eigenvalues, tolerance):\n",
    "    \"\"\"Cluster eigenvalues that are within a certain tolerance.\"\"\"\n",
    "    Z = linkage(eigenvalues[:, None], method='single')\n",
    "    clusters = fcluster(Z, tolerance, criterion='distance')\n",
    "    return clusters\n",
    "\n",
    "\n",
    "def OrthEigs(Matrix):\n",
    "    \"\"\"\n",
    "    We obtain the eigenvalues and ensure that the eigenvectors are mutually orthogonal, something that is not always the case\n",
    "    when dealing with degeneracies\n",
    "    \"\"\"\n",
    "\n",
    "    # Step 1: Define a matrix\n",
    "    A = np.copy(Matrix)\n",
    "    \n",
    "    # Step 2: Compute the eigenvalues and eigenvectors\n",
    "    eigenvalues, eigenvectors = np.linalg.eig(A)\n",
    "    \n",
    "    # Step 3: Cluster eigenvalues based on the tolerance\n",
    "    tolerance = 1e-7\n",
    "    clusters = cluster_eigenvalues(np.real(eigenvalues)+np.imag(eigenvalues), tolerance)\n",
    "    \n",
    "    # Step 4: Orthogonalize the degenerate eigenspaces\n",
    "    orthogonalized_eigenvectors = eigenvectors.copy()\n",
    "    unique_clusters = np.unique(clusters)\n",
    "    for cluster in unique_clusters:\n",
    "        indices = np.where(clusters == cluster)[0]\n",
    "        if len(indices) > 1:\n",
    "            degenerate_vectors = eigenvectors[:, indices]\n",
    "            orthogonalized_vectors = gram_schmidt(degenerate_vectors.T).T\n",
    "            orthogonalized_eigenvectors[:, indices] = orthogonalized_vectors\n",
    "    return eigenvalues, orthogonalized_eigenvectors\n",
    "\n",
    "def pauli_word_to_string(pauli_word):\n",
    "    terms = []\n",
    "    for qubit, op in pauli_word.items():\n",
    "        terms.append(f\"{op}{qubit}\")\n",
    "    return ' '.join(terms)\n",
    "\n",
    "def transform_pauli_string(pauli_string):\n",
    "    # Regular expression to match the pattern X(0)@Z(1)@Y(2)\n",
    "    pattern = re.compile(r'([XYZ])\\((\\d+)\\)')\n",
    "    \n",
    "    # Find all matches and transform them to the desired format\n",
    "    transformed_string = pattern.sub(lambda match: f\"{match.group(1)}{match.group(2)}\", pauli_string)\n",
    "    \n",
    "    # Replace @ with space\n",
    "    transformed_string = transformed_string.replace('@', ' ')\n",
    "    \n",
    "    return transformed_string\n",
    "\n",
    "    \n",
    "def from_paulsen_to_of(PaulSen):\n",
    "    \"\"\"\n",
    "    Transforms a PennyLane's Pauli sentence object to openfermion qubit operator\n",
    "    \"\"\"\n",
    "    Qubs = QubitOperator()\n",
    "    for term, coeff in PaulSen.items():\n",
    "        \n",
    "        str_term = pauli_word_to_string(term)\n",
    "        \n",
    "        #print(str_term)\n",
    "        trans_str = transform_pauli_string(str_term)\n",
    "        #print(trans_str)\n",
    "        \n",
    "        Qubs+=QubitOperator(term=trans_str,coefficient=coeff)\n",
    "        #print(\"term is:\",term)\n",
    "        #print(\"coeff is:\",coeff)   \n",
    "\n",
    "    return Qubs\n",
    "\n",
    "def GroupTarQub(QubOp,term_to_find):\n",
    "    \"\"\"\n",
    "    Returns: the group of terms contained in QubOp that contain the single qubit operator term_to_find\n",
    "    \"\"\"\n",
    "    \n",
    "    grouped_terms = QubitOperator()\n",
    "    for term, coefficient in QubOp.terms.items():\n",
    "        #print(term)\n",
    "        for op in term:\n",
    "            if QubitOperator(op) == term_to_find: \n",
    "                grouped_terms+=coefficient*QubitOperator(term)\n",
    "    return grouped_terms\n",
    "\n",
    "\n",
    "####Utils for handling controlled versions fo circuits...\n",
    "def update_loc(location,insert_loc: int):\n",
    "    curr_loc = [q for q in location]\n",
    "    mod_loc = [num + 1 if num >= insert_loc else num for num in curr_loc]\n",
    "    return list([insert_loc])+mod_loc #The insert location must be first in the list, as it will be a control location\n",
    "\n",
    "  \n",
    "def control_circ(Inp_circ: Circuit,target_loc=0,ctrl_levels =[0],num_control_qubits: int = 1):\n",
    "    \"\"\"\n",
    "    Define a single-qubit controlled (TODO: generalization to more than one) version of the circuit Inp_circ ,\n",
    "    where the controlled qubit is located at target_loc\n",
    "    \"\"\"\n",
    "    num_original_qubits = Inp_circ.num_qudits\n",
    "    controlled_circuit = Circuit(num_control_qubits + num_original_qubits)\n",
    "    #print(controlled_circuit)\n",
    "    \n",
    "    for op in Inp_circ:\n",
    "        gate = op.gate\n",
    "        location = op.location\n",
    "        #print(gate)\n",
    "\n",
    "        controlled_gate = ControlledGate(gate, num_control_qubits,control_levels=ctrl_levels)\n",
    "        controlled_location = update_loc(location,target_loc)\n",
    "        if gate.is_parameterized():\n",
    "            params = op.params\n",
    "            #print(f\"Gate: {gate} with parameters {params}\")\n",
    "            #print(\"Params are:\", params)\n",
    "            #print(controlled_location)\n",
    "            controlled_circuit.append_gate(controlled_gate, controlled_location,params)\n",
    "            \n",
    "        else:\n",
    "            #print(controlled_location)\n",
    "            controlled_circuit.append_gate(controlled_gate, controlled_location)\n",
    "    \n",
    "    return controlled_circuit\n",
    "\n",
    "def FindQubHam(Untry):\n",
    "    \"\"\"\n",
    "    Generate the qubit Hamiltonian that generates the unitary Untry\n",
    "    \"\"\"\n",
    "    Eigs, EigVecs = OrthEigs(Untry)\n",
    "\n",
    "    Dim = Untry.shape[0]//2\n",
    "    \n",
    "    phases= [cmath.phase(c) for c in Eigs]\n",
    "    Mat_phases = np.zeros([2*Dim,2*Dim],dtype=complex)\n",
    "    \n",
    "    for i in range(2*Dim):\n",
    "        Mat_phases[i,i] = 1j*phases[i] \n",
    "    \n",
    "    RecMat = np.dot(EigVecs,np.dot(Mat_phases,EigVecs.conj().T))\n",
    "    \n",
    "    GenEvol = -1j*RecMat\n",
    "    \n",
    "    PauliHam = qml.pauli_decompose(GenEvol,pauli=True)\n",
    "    \n",
    "    QubHam = from_paulsen_to_of(PauliHam)\n",
    "\n",
    "    return QubHam\n",
    "\n",
    "def get_qubit_index(qubit_operator):\n",
    "    terms = list(qubit_operator.terms.keys())\n",
    "    if len(terms) != 1:\n",
    "        raise ValueError(\"The operator is not a single-qubit operator.\")\n",
    "    term = terms[0]\n",
    "    if len(term) != 1:\n",
    "        raise ValueError(\"The operator is not a single-qubit operator.\")\n",
    "    qubit_index = term[0][0]\n",
    "    return qubit_index\n",
    "\n",
    "def CliffRotSynthesis(Untry,passes,gate_set={CZGate(), RZGate(), SXGate()}):\n",
    "    \"\"\"\n",
    "    Return: circuit using generalized single and two-qbiut gates in BQSkit format. Can be transpiled to other gate sets\n",
    "    TODO: In progress\n",
    "    An approximate synthesis of target unitary Untry, with a workflow defined by passes, and the gate set gate_set\n",
    "    \"\"\"\n",
    "\n",
    "    #First find the generator of unitary as a linear combination of Pauli products:\n",
    "    QubHam = FindQubHam(Untry)\n",
    "    nqubs = of.count_qubits(QubHam)\n",
    "\n",
    "    #Then find the symmetries and clifford rotation that renders the QubHam in taperable form...\n",
    "    syms = GenQubitSym(QubHam)\n",
    "\n",
    "    print(\"Number of terms in the found Qubit Hamiltonian: \",len(QubHam.terms))\n",
    "\n",
    "    if len(syms)==0:\n",
    "        print(\"Couldnt find Z2 symmetries, aborting\")\n",
    "        exit()\n",
    "        \n",
    "    ClifffUn = GenCliffUnit(QubHam)\n",
    "    RotHam = ClifffUn*QubHam*ClifffUn\n",
    "\n",
    "    test = ClifffUn*syms[0][0]*ClifffUn # we only use one qubit symmetry for now, if any\n",
    "\n",
    "\n",
    "    for key in test.terms.keys():\n",
    "        tap_sym = QubitOperator(key)\n",
    "\n",
    "    #print(\"Tapering symmetry is:\", tap_sym)\n",
    "    qub_id = get_qubit_index(tap_sym)\n",
    "    rot_gen = QubitOperator('Y'+str(qub_id))\n",
    "    rot_gate = (1.0/np.sqrt(2))*(1-1j*rot_gen)\n",
    "    \n",
    "    ZRotHam = of.hermitian_conjugated(rot_gate)*RotHam*rot_gate\n",
    "    #Application of swapping gate if tappering symmetry is not X0:\n",
    "    qub_id = get_qubit_index(tap_sym)\n",
    "    if tap_sym != QubitOperator('X0'):\n",
    "        print(\"Using a swapping gate\")\n",
    "        Swap = 0.5*(1.0+QubitOperator('Z0')*QubitOperator('Z'+str(qub_id))+QubitOperator('X0')*QubitOperator('X'+str(qub_id))\n",
    "                    +QubitOperator('Y0')*QubitOperator('Y'+str(qub_id)))\n",
    "    else:\n",
    "        Swap = 1.0\n",
    "\n",
    "    ZRotHam = Swap*ZRotHam*Swap\n",
    "    \n",
    "    #We now rotate the X taperable qubit to Z:\n",
    "    m = nqubs-1\n",
    "    \n",
    "    spRotHam = of.get_sparse_operator(ZRotHam)\n",
    "\n",
    "    \n",
    "    Subs1 = spRotHam.toarray()[0:2**m,0:2**m]\n",
    "    Subs2 = spRotHam.toarray()[2**m:2**nqubs,2**m:2**nqubs]\n",
    "\n",
    "\n",
    "    SubUn1 = expm(-1j*Subs1)\n",
    "    SubUn2 = expm(-1j*Subs2)\n",
    "    \n",
    "    ###Compilation of the the unitaries separately...\n",
    "    Sub1Circ = Circuit.from_unitary(SubUn1)\n",
    "    out_circ1, run_time = run_qfast_flow(Sub1Circ,6)\n",
    "\n",
    "    print(\"Compilation of first circuit took:\",run_time)\n",
    "\n",
    "    Sub2Circ = Circuit.from_unitary(SubUn2)\n",
    "    out_circ2, run_time = run_qfast_flow(Sub2Circ,6)\n",
    "    \n",
    "    print(\"Compilation of second circuit took:\",run_time)\n",
    "\n",
    "    ctrl_Sub1Circ = control_circ(Sub1Circ,ctrl_levels=[0])\n",
    "\n",
    "    ctrl_Sub2Circ = control_circ(Sub2Circ,ctrl_levels=[1])\n",
    "    \n",
    "    ###Finally, compiling the gates that bring matrix into block-diagonal format...\n",
    "    sp_rot_gate = of.get_sparse_operator(rot_gate,n_qubits=nqubs)\n",
    "    sp_swap = of.get_sparse_operator(Swap,n_qubits=nqubs)\n",
    "    sp_Cliff = of.get_sparse_operator(ClifffUn,n_qubits=nqubs)\n",
    "    \n",
    "    \n",
    "    c_rot_gate = Circuit.from_unitary(sp_rot_gate.toarray())\n",
    "    c_swap = Circuit.from_unitary(sp_swap.toarray())\n",
    "    c_CliffUn = Circuit.from_unitary(sp_Cliff.toarray())\n",
    "\n",
    "    circ_rot_gate, run_time = run_qfast_flow(c_rot_gate,6)\n",
    "    print(\"Compilation of single_rot gate took:\",run_time)\n",
    "    \n",
    "    circ_swap, runtime = run_qfast_flow(c_swap,6)\n",
    "    print(\"Compilation of swap gate took:\",run_time)\n",
    "\n",
    "    circ_Cliff,runtime = run_custom_layer_flow_example(c_CliffUn)\n",
    "\n",
    "    \n",
    "    Tot_circ = Circuit(5)\n",
    "    Tot_circ.extend(circ_Cliff)\n",
    "    Tot_circ.extend(circ_rot_gate.get_inverse())\n",
    "    Tot_circ.extend(circ_swap)\n",
    "    Tot_circ.extend(ctrl_Sub1Circ)\n",
    "    Tot_circ.extend(ctrl_Sub2Circ)\n",
    "    Tot_circ.extend(circ_swap)\n",
    "    Tot_circ.extend(circ_rot_gate)\n",
    "    Tot_circ.extend(circ_Cliff)\n",
    "    \n",
    "    #Compilation using a given gate set:\n",
    "    #ctrl_circ = control_circ(inst_circuit,2)\n",
    "\n",
    "    \n",
    "    \"\"\"\n",
    "    model = MachineModel(out_circ1.num_qudits, gate_set=gate_set)\n",
    "    transCirc1 = compile(out_circ1,model=model)\n",
    "    transCirc2 = compile(out_circ2,model=model)\n",
    "\n",
    "    ctrl_trans_circ1 = control_circ(transCirc1,0,ctrl_levels=[0])\n",
    "    ctrl_trans_circ2 = control_circ(transCirc2,0,ctrl_levels=[1])\n",
    "    \n",
    "    \n",
    "    #inst_ctrl_circ = compile(ctrl_circ, model=model\n",
    "    \n",
    "    \n",
    "    #spRedGp = of.get_sparse_operator(RedGroupHam)\n",
    "    #RedUnit = expm(-1j*spRedGp.toarray())\n",
    "    \n",
    "    #in_circuit = Circuit.from_unitary(RedUnit)\n",
    "    #out_circ, run_time = run_qfast_flow(in_circuit,6)\n",
    "\n",
    "    #return RotHam,ClifffUn,tap_sym\n",
    "    \"\"\"\n",
    "    #return (SubUn1,out_circ1),(SubUn2,out_circ2) \n",
    "    return Tot_circ \n",
    "\n",
    "    \n",
    "\n",
    "\n",
    "\n"
   ]
  },
  {
   "cell_type": "code",
   "execution_count": 98,
   "id": "f2c36401-8321-4904-b120-aba65ce6e8af",
   "metadata": {},
   "outputs": [],
   "source": [
    "from matplotlib import pyplot as plt"
   ]
  },
  {
   "cell_type": "code",
   "execution_count": 99,
   "id": "8d1941cb-e46d-4c34-83e8-bb806159cb52",
   "metadata": {},
   "outputs": [
    {
     "name": "stdout",
     "output_type": "stream",
     "text": [
      "Number of terms in the found Qubit Hamiltonian:  508\n",
      "Using a swapping gate\n"
     ]
    },
    {
     "name": "stderr",
     "output_type": "stream",
     "text": [
      "Started outgoing thread.\n",
      "Registered worker 0.\n",
      "Registered worker 1.\n",
      "Registered worker 2.\n",
      "Registered worker 3.\n",
      "Registered worker 4.\n",
      "Registered worker 5.\n",
      "Node has spawned 6 workers.\n"
     ]
    },
    {
     "name": "stdout",
     "output_type": "stream",
     "text": [
      "Starting flow using QFactor instantiation\n"
     ]
    },
    {
     "name": "stderr",
     "output_type": "stream",
     "text": [
      "Connected to client.\n",
      "AttachedServer running...\n",
      "New CompilationTask: afb4a441-24ff-4e58-b62d-37b1d265413f.\n"
     ]
    },
    {
     "name": "stdout",
     "output_type": "stream",
     "text": [
      "12:53:08.815 - INFO     | bqskit.passes.synthesis.qfast: Instantiated depth 1 at 0.9011044900648243 cost.\n"
     ]
    },
    {
     "name": "stderr",
     "output_type": "stream",
     "text": [
      "INFO - Instantiated depth 1 at 0.9011044900648243 cost.\n"
     ]
    },
    {
     "name": "stdout",
     "output_type": "stream",
     "text": [
      "12:53:08.815 - INFO     | bqskit.passes.synthesis.qfast: Progress has been made, depth increasing.\n"
     ]
    },
    {
     "name": "stderr",
     "output_type": "stream",
     "text": [
      "INFO - Progress has been made, depth increasing.\n"
     ]
    },
    {
     "name": "stdout",
     "output_type": "stream",
     "text": [
      "12:53:08.815 - INFO     | bqskit.passes.synthesis.qfast: Expanding by adding a gate on qubits (1, 3).\n"
     ]
    },
    {
     "name": "stderr",
     "output_type": "stream",
     "text": [
      "INFO - Expanding by adding a gate on qubits (1, 3).\n"
     ]
    },
    {
     "name": "stdout",
     "output_type": "stream",
     "text": [
      "12:53:08.870 - INFO     | bqskit.passes.synthesis.qfast: Instantiated depth 2 at 0.00682023712750246 cost.\n"
     ]
    },
    {
     "name": "stderr",
     "output_type": "stream",
     "text": [
      "INFO - Instantiated depth 2 at 0.00682023712750246 cost.\n"
     ]
    },
    {
     "name": "stdout",
     "output_type": "stream",
     "text": [
      "12:53:08.870 - INFO     | bqskit.passes.synthesis.qfast: Progress has been made, depth increasing.\n"
     ]
    },
    {
     "name": "stderr",
     "output_type": "stream",
     "text": [
      "INFO - Progress has been made, depth increasing.\n"
     ]
    },
    {
     "name": "stdout",
     "output_type": "stream",
     "text": [
      "12:53:08.870 - INFO     | bqskit.passes.synthesis.qfast: Expanding by adding a gate on qubits (1, 2).\n"
     ]
    },
    {
     "name": "stderr",
     "output_type": "stream",
     "text": [
      "INFO - Expanding by adding a gate on qubits (1, 2).\n"
     ]
    },
    {
     "name": "stdout",
     "output_type": "stream",
     "text": [
      "12:53:09.379 - INFO     | bqskit.passes.synthesis.qfast: Instantiated depth 3 at 0.005652620870304159 cost.\n"
     ]
    },
    {
     "name": "stderr",
     "output_type": "stream",
     "text": [
      "INFO - Instantiated depth 3 at 0.005652620870304159 cost.\n"
     ]
    },
    {
     "name": "stdout",
     "output_type": "stream",
     "text": [
      "12:53:09.379 - INFO     | bqskit.passes.synthesis.qfast: Progress has not been made, restricting model.\n"
     ]
    },
    {
     "name": "stderr",
     "output_type": "stream",
     "text": [
      "INFO - Progress has not been made, restricting model.\n",
      "Finished: afb4a441-24ff-4e58-b62d-37b1d265413f.\n",
      "Responding to request for task afb4a441-24ff-4e58-b62d-37b1d265413f.\n"
     ]
    },
    {
     "name": "stdout",
     "output_type": "stream",
     "text": [
      "12:53:09.590 - INFO     | bqskit.passes.synthesis.qfast: Instantiated depth 3 at 0.006147111071112432 cost.\n"
     ]
    },
    {
     "name": "stderr",
     "output_type": "stream",
     "text": [
      "INFO - Instantiated depth 3 at 0.006147111071112432 cost.\n"
     ]
    },
    {
     "name": "stdout",
     "output_type": "stream",
     "text": [
      "12:53:09.590 - INFO     | bqskit.passes.synthesis.qfast: Progress has not been made, restricting model.\n"
     ]
    },
    {
     "name": "stderr",
     "output_type": "stream",
     "text": [
      "INFO - Progress has not been made, restricting model.\n"
     ]
    },
    {
     "name": "stdout",
     "output_type": "stream",
     "text": [
      "12:53:09.688 - INFO     | bqskit.passes.synthesis.qfast: Instantiated depth 3 at 0.8929755879684317 cost.\n"
     ]
    },
    {
     "name": "stderr",
     "output_type": "stream",
     "text": [
      "INFO - Instantiated depth 3 at 0.8929755879684317 cost.\n"
     ]
    },
    {
     "name": "stdout",
     "output_type": "stream",
     "text": [
      "12:53:09.688 - INFO     | bqskit.passes.synthesis.qfast: Progress has not been made, restricting model.\n"
     ]
    },
    {
     "name": "stderr",
     "output_type": "stream",
     "text": [
      "INFO - Progress has not been made, restricting model.\n"
     ]
    },
    {
     "name": "stdout",
     "output_type": "stream",
     "text": [
      "12:53:09.805 - INFO     | bqskit.passes.synthesis.qfast: Instantiated depth 3 at 0.006109547263034698 cost.\n"
     ]
    },
    {
     "name": "stderr",
     "output_type": "stream",
     "text": [
      "INFO - Instantiated depth 3 at 0.006109547263034698 cost.\n"
     ]
    },
    {
     "name": "stdout",
     "output_type": "stream",
     "text": [
      "12:53:09.806 - INFO     | bqskit.passes.synthesis.qfast: Progress has not been made, restricting model.\n"
     ]
    },
    {
     "name": "stderr",
     "output_type": "stream",
     "text": [
      "INFO - Progress has not been made, restricting model.\n"
     ]
    },
    {
     "name": "stdout",
     "output_type": "stream",
     "text": [
      "12:53:10.059 - INFO     | bqskit.passes.synthesis.qfast: Instantiated depth 3 at 0.0061470029915610125 cost.\n"
     ]
    },
    {
     "name": "stderr",
     "output_type": "stream",
     "text": [
      "INFO - Instantiated depth 3 at 0.0061470029915610125 cost.\n"
     ]
    },
    {
     "name": "stdout",
     "output_type": "stream",
     "text": [
      "12:53:10.059 - INFO     | bqskit.passes.synthesis.qfast: Progress has not been made.\n"
     ]
    },
    {
     "name": "stderr",
     "output_type": "stream",
     "text": [
      "INFO - Progress has not been made.\n"
     ]
    },
    {
     "name": "stdout",
     "output_type": "stream",
     "text": [
      "12:53:10.059 - INFO     | bqskit.passes.synthesis.qfast: Cannot restrict further, depth increasing.\n"
     ]
    },
    {
     "name": "stderr",
     "output_type": "stream",
     "text": [
      "INFO - Cannot restrict further, depth increasing.\n"
     ]
    },
    {
     "name": "stdout",
     "output_type": "stream",
     "text": [
      "12:53:10.059 - INFO     | bqskit.passes.synthesis.qfast: Expanding by adding a gate on qubits (0, 1).\n"
     ]
    },
    {
     "name": "stderr",
     "output_type": "stream",
     "text": [
      "INFO - Expanding by adding a gate on qubits (0, 1).\n"
     ]
    },
    {
     "name": "stdout",
     "output_type": "stream",
     "text": [
      "12:53:10.689 - INFO     | bqskit.passes.synthesis.qfast: Instantiated depth 4 at 0.2348741335514435 cost.\n"
     ]
    },
    {
     "name": "stderr",
     "output_type": "stream",
     "text": [
      "INFO - Instantiated depth 4 at 0.2348741335514435 cost.\n"
     ]
    },
    {
     "name": "stdout",
     "output_type": "stream",
     "text": [
      "12:53:10.689 - INFO     | bqskit.passes.synthesis.qfast: Progress has not been made, restricting model.\n"
     ]
    },
    {
     "name": "stderr",
     "output_type": "stream",
     "text": [
      "INFO - Progress has not been made, restricting model.\n"
     ]
    },
    {
     "name": "stdout",
     "output_type": "stream",
     "text": [
      "12:53:11.489 - INFO     | bqskit.passes.synthesis.qfast: Instantiated depth 4 at 0.7474158712716293 cost.\n"
     ]
    },
    {
     "name": "stderr",
     "output_type": "stream",
     "text": [
      "INFO - Instantiated depth 4 at 0.7474158712716293 cost.\n"
     ]
    },
    {
     "name": "stdout",
     "output_type": "stream",
     "text": [
      "12:53:11.489 - INFO     | bqskit.passes.synthesis.qfast: Progress has not been made, restricting model.\n"
     ]
    },
    {
     "name": "stderr",
     "output_type": "stream",
     "text": [
      "INFO - Progress has not been made, restricting model.\n"
     ]
    },
    {
     "name": "stdout",
     "output_type": "stream",
     "text": [
      "12:53:12.215 - INFO     | bqskit.passes.synthesis.qfast: Instantiated depth 4 at 0.005652918366434778 cost.\n"
     ]
    },
    {
     "name": "stderr",
     "output_type": "stream",
     "text": [
      "INFO - Instantiated depth 4 at 0.005652918366434778 cost.\n"
     ]
    },
    {
     "name": "stdout",
     "output_type": "stream",
     "text": [
      "12:53:12.216 - INFO     | bqskit.passes.synthesis.qfast: Progress has not been made, restricting model.\n"
     ]
    },
    {
     "name": "stderr",
     "output_type": "stream",
     "text": [
      "INFO - Progress has not been made, restricting model.\n"
     ]
    },
    {
     "name": "stdout",
     "output_type": "stream",
     "text": [
      "12:53:12.607 - INFO     | bqskit.passes.synthesis.qfast: Instantiated depth 4 at 0.9415254393808103 cost.\n"
     ]
    },
    {
     "name": "stderr",
     "output_type": "stream",
     "text": [
      "INFO - Instantiated depth 4 at 0.9415254393808103 cost.\n"
     ]
    },
    {
     "name": "stdout",
     "output_type": "stream",
     "text": [
      "12:53:12.607 - INFO     | bqskit.passes.synthesis.qfast: Progress has not been made, restricting model.\n"
     ]
    },
    {
     "name": "stderr",
     "output_type": "stream",
     "text": [
      "INFO - Progress has not been made, restricting model.\n"
     ]
    },
    {
     "name": "stdout",
     "output_type": "stream",
     "text": [
      "12:53:13.304 - INFO     | bqskit.passes.synthesis.qfast: Instantiated depth 4 at 0.00565232077855593 cost.\n"
     ]
    },
    {
     "name": "stderr",
     "output_type": "stream",
     "text": [
      "INFO - Instantiated depth 4 at 0.00565232077855593 cost.\n"
     ]
    },
    {
     "name": "stdout",
     "output_type": "stream",
     "text": [
      "12:53:13.304 - INFO     | bqskit.passes.synthesis.qfast: Progress has not been made.\n"
     ]
    },
    {
     "name": "stderr",
     "output_type": "stream",
     "text": [
      "INFO - Progress has not been made.\n"
     ]
    },
    {
     "name": "stdout",
     "output_type": "stream",
     "text": [
      "12:53:13.304 - INFO     | bqskit.passes.synthesis.qfast: Cannot restrict further, depth increasing.\n"
     ]
    },
    {
     "name": "stderr",
     "output_type": "stream",
     "text": [
      "INFO - Cannot restrict further, depth increasing.\n"
     ]
    },
    {
     "name": "stdout",
     "output_type": "stream",
     "text": [
      "12:53:13.304 - INFO     | bqskit.passes.synthesis.qfast: Expanding by adding a gate on qubits (1, 3).\n"
     ]
    },
    {
     "name": "stderr",
     "output_type": "stream",
     "text": [
      "INFO - Expanding by adding a gate on qubits (1, 3).\n"
     ]
    },
    {
     "name": "stdout",
     "output_type": "stream",
     "text": [
      "12:53:16.427 - INFO     | bqskit.passes.synthesis.qfast: Instantiated depth 5 at 0.7522655951061192 cost.\n"
     ]
    },
    {
     "name": "stderr",
     "output_type": "stream",
     "text": [
      "INFO - Instantiated depth 5 at 0.7522655951061192 cost.\n"
     ]
    },
    {
     "name": "stdout",
     "output_type": "stream",
     "text": [
      "12:53:16.427 - INFO     | bqskit.passes.synthesis.qfast: Progress has not been made, restricting model.\n"
     ]
    },
    {
     "name": "stderr",
     "output_type": "stream",
     "text": [
      "INFO - Progress has not been made, restricting model.\n"
     ]
    },
    {
     "name": "stdout",
     "output_type": "stream",
     "text": [
      "12:53:18.827 - INFO     | bqskit.passes.synthesis.qfast: Instantiated depth 5 at 0.00440193784545273 cost.\n"
     ]
    },
    {
     "name": "stderr",
     "output_type": "stream",
     "text": [
      "INFO - Instantiated depth 5 at 0.00440193784545273 cost.\n"
     ]
    },
    {
     "name": "stdout",
     "output_type": "stream",
     "text": [
      "12:53:18.827 - INFO     | bqskit.passes.synthesis.qfast: Progress has not been made, restricting model.\n"
     ]
    },
    {
     "name": "stderr",
     "output_type": "stream",
     "text": [
      "INFO - Progress has not been made, restricting model.\n"
     ]
    },
    {
     "name": "stdout",
     "output_type": "stream",
     "text": [
      "12:53:21.435 - INFO     | bqskit.passes.synthesis.qfast: Instantiated depth 5 at 0.004405427443885168 cost.\n"
     ]
    },
    {
     "name": "stderr",
     "output_type": "stream",
     "text": [
      "INFO - Instantiated depth 5 at 0.004405427443885168 cost.\n"
     ]
    },
    {
     "name": "stdout",
     "output_type": "stream",
     "text": [
      "12:53:21.435 - INFO     | bqskit.passes.synthesis.qfast: Progress has not been made, restricting model.\n"
     ]
    },
    {
     "name": "stderr",
     "output_type": "stream",
     "text": [
      "INFO - Progress has not been made, restricting model.\n"
     ]
    },
    {
     "name": "stdout",
     "output_type": "stream",
     "text": [
      "12:53:23.046 - INFO     | bqskit.passes.synthesis.qfast: Instantiated depth 5 at 0.2348579715329363 cost.\n"
     ]
    },
    {
     "name": "stderr",
     "output_type": "stream",
     "text": [
      "INFO - Instantiated depth 5 at 0.2348579715329363 cost.\n"
     ]
    },
    {
     "name": "stdout",
     "output_type": "stream",
     "text": [
      "12:53:23.046 - INFO     | bqskit.passes.synthesis.qfast: Progress has not been made, restricting model.\n"
     ]
    },
    {
     "name": "stderr",
     "output_type": "stream",
     "text": [
      "INFO - Progress has not been made, restricting model.\n"
     ]
    },
    {
     "name": "stdout",
     "output_type": "stream",
     "text": [
      "12:53:24.570 - INFO     | bqskit.passes.synthesis.qfast: Instantiated depth 5 at 0.6096176217433927 cost.\n"
     ]
    },
    {
     "name": "stderr",
     "output_type": "stream",
     "text": [
      "INFO - Instantiated depth 5 at 0.6096176217433927 cost.\n"
     ]
    },
    {
     "name": "stdout",
     "output_type": "stream",
     "text": [
      "12:53:24.570 - INFO     | bqskit.passes.synthesis.qfast: Progress has not been made.\n"
     ]
    },
    {
     "name": "stderr",
     "output_type": "stream",
     "text": [
      "INFO - Progress has not been made.\n"
     ]
    },
    {
     "name": "stdout",
     "output_type": "stream",
     "text": [
      "12:53:24.570 - INFO     | bqskit.passes.synthesis.qfast: Cannot restrict further, depth increasing.\n"
     ]
    },
    {
     "name": "stderr",
     "output_type": "stream",
     "text": [
      "INFO - Cannot restrict further, depth increasing.\n"
     ]
    },
    {
     "name": "stdout",
     "output_type": "stream",
     "text": [
      "12:53:24.570 - INFO     | bqskit.passes.synthesis.qfast: Expanding by adding a gate on qubits (0, 1).\n"
     ]
    },
    {
     "name": "stderr",
     "output_type": "stream",
     "text": [
      "INFO - Expanding by adding a gate on qubits (0, 1).\n"
     ]
    },
    {
     "name": "stdout",
     "output_type": "stream",
     "text": [
      "12:53:28.058 - INFO     | bqskit.passes.synthesis.qfast: Instantiated depth 6 at 0.9228399442481299 cost.\n"
     ]
    },
    {
     "name": "stderr",
     "output_type": "stream",
     "text": [
      "INFO - Instantiated depth 6 at 0.9228399442481299 cost.\n"
     ]
    },
    {
     "name": "stdout",
     "output_type": "stream",
     "text": [
      "12:53:28.058 - INFO     | bqskit.passes.synthesis.qfast: Progress has not been made, restricting model.\n"
     ]
    },
    {
     "name": "stderr",
     "output_type": "stream",
     "text": [
      "INFO - Progress has not been made, restricting model.\n"
     ]
    },
    {
     "name": "stdout",
     "output_type": "stream",
     "text": [
      "12:53:29.977 - INFO     | bqskit.passes.synthesis.qfast: Instantiated depth 6 at 0.23479592533845017 cost.\n"
     ]
    },
    {
     "name": "stderr",
     "output_type": "stream",
     "text": [
      "INFO - Instantiated depth 6 at 0.23479592533845017 cost.\n"
     ]
    },
    {
     "name": "stdout",
     "output_type": "stream",
     "text": [
      "12:53:29.977 - INFO     | bqskit.passes.synthesis.qfast: Progress has not been made, restricting model.\n"
     ]
    },
    {
     "name": "stderr",
     "output_type": "stream",
     "text": [
      "INFO - Progress has not been made, restricting model.\n"
     ]
    },
    {
     "name": "stdout",
     "output_type": "stream",
     "text": [
      "12:53:31.741 - INFO     | bqskit.passes.synthesis.qfast: Instantiated depth 6 at 0.9993419242674605 cost.\n"
     ]
    },
    {
     "name": "stderr",
     "output_type": "stream",
     "text": [
      "INFO - Instantiated depth 6 at 0.9993419242674605 cost.\n"
     ]
    },
    {
     "name": "stdout",
     "output_type": "stream",
     "text": [
      "12:53:31.741 - INFO     | bqskit.passes.synthesis.qfast: Progress has not been made, restricting model.\n"
     ]
    },
    {
     "name": "stderr",
     "output_type": "stream",
     "text": [
      "INFO - Progress has not been made, restricting model.\n"
     ]
    },
    {
     "name": "stdout",
     "output_type": "stream",
     "text": [
      "12:53:34.615 - INFO     | bqskit.passes.synthesis.qfast: Instantiated depth 6 at 0.2735174793901889 cost.\n"
     ]
    },
    {
     "name": "stderr",
     "output_type": "stream",
     "text": [
      "INFO - Instantiated depth 6 at 0.2735174793901889 cost.\n"
     ]
    },
    {
     "name": "stdout",
     "output_type": "stream",
     "text": [
      "12:53:34.615 - INFO     | bqskit.passes.synthesis.qfast: Progress has not been made, restricting model.\n"
     ]
    },
    {
     "name": "stderr",
     "output_type": "stream",
     "text": [
      "INFO - Progress has not been made, restricting model.\n"
     ]
    },
    {
     "name": "stdout",
     "output_type": "stream",
     "text": [
      "12:53:38.867 - INFO     | bqskit.passes.synthesis.qfast: Instantiated depth 6 at 0.916865309990152 cost.\n"
     ]
    },
    {
     "name": "stderr",
     "output_type": "stream",
     "text": [
      "INFO - Instantiated depth 6 at 0.916865309990152 cost.\n"
     ]
    },
    {
     "name": "stdout",
     "output_type": "stream",
     "text": [
      "12:53:38.867 - INFO     | bqskit.passes.synthesis.qfast: Progress has not been made.\n"
     ]
    },
    {
     "name": "stderr",
     "output_type": "stream",
     "text": [
      "INFO - Progress has not been made.\n"
     ]
    },
    {
     "name": "stdout",
     "output_type": "stream",
     "text": [
      "12:53:38.867 - INFO     | bqskit.passes.synthesis.qfast: Cannot restrict further, depth increasing.\n"
     ]
    },
    {
     "name": "stderr",
     "output_type": "stream",
     "text": [
      "INFO - Cannot restrict further, depth increasing.\n"
     ]
    },
    {
     "name": "stdout",
     "output_type": "stream",
     "text": [
      "12:53:38.867 - INFO     | bqskit.passes.synthesis.qfast: Expanding by adding a gate on qubits (2, 3).\n"
     ]
    },
    {
     "name": "stderr",
     "output_type": "stream",
     "text": [
      "INFO - Expanding by adding a gate on qubits (2, 3).\n"
     ]
    },
    {
     "name": "stdout",
     "output_type": "stream",
     "text": [
      "12:53:41.909 - INFO     | bqskit.passes.synthesis.qfast: Instantiated depth 7 at 0.25795208325391983 cost.\n"
     ]
    },
    {
     "name": "stderr",
     "output_type": "stream",
     "text": [
      "INFO - Instantiated depth 7 at 0.25795208325391983 cost.\n"
     ]
    },
    {
     "name": "stdout",
     "output_type": "stream",
     "text": [
      "12:53:41.909 - INFO     | bqskit.passes.synthesis.qfast: Progress has not been made, restricting model.\n"
     ]
    },
    {
     "name": "stderr",
     "output_type": "stream",
     "text": [
      "INFO - Progress has not been made, restricting model.\n"
     ]
    },
    {
     "name": "stdout",
     "output_type": "stream",
     "text": [
      "12:53:45.136 - INFO     | bqskit.passes.synthesis.qfast: Instantiated depth 7 at 0.0043891160100222315 cost.\n"
     ]
    },
    {
     "name": "stderr",
     "output_type": "stream",
     "text": [
      "INFO - Instantiated depth 7 at 0.0043891160100222315 cost.\n"
     ]
    },
    {
     "name": "stdout",
     "output_type": "stream",
     "text": [
      "12:53:45.136 - INFO     | bqskit.passes.synthesis.qfast: Progress has been made, depth increasing.\n"
     ]
    },
    {
     "name": "stderr",
     "output_type": "stream",
     "text": [
      "INFO - Progress has been made, depth increasing.\n"
     ]
    },
    {
     "name": "stdout",
     "output_type": "stream",
     "text": [
      "12:53:45.136 - INFO     | bqskit.passes.synthesis.qfast: Expanding by adding a gate on qubits (0, 2).\n"
     ]
    },
    {
     "name": "stderr",
     "output_type": "stream",
     "text": [
      "INFO - Expanding by adding a gate on qubits (0, 2).\n"
     ]
    },
    {
     "name": "stdout",
     "output_type": "stream",
     "text": [
      "12:53:49.170 - INFO     | bqskit.passes.synthesis.qfast: Instantiated depth 8 at 0.8413186518522076 cost.\n"
     ]
    },
    {
     "name": "stderr",
     "output_type": "stream",
     "text": [
      "INFO - Instantiated depth 8 at 0.8413186518522076 cost.\n"
     ]
    },
    {
     "name": "stdout",
     "output_type": "stream",
     "text": [
      "12:53:49.170 - INFO     | bqskit.passes.synthesis.qfast: Progress has not been made, restricting model.\n"
     ]
    },
    {
     "name": "stderr",
     "output_type": "stream",
     "text": [
      "INFO - Progress has not been made, restricting model.\n"
     ]
    },
    {
     "name": "stdout",
     "output_type": "stream",
     "text": [
      "12:53:55.045 - INFO     | bqskit.passes.synthesis.qfast: Instantiated depth 8 at 0.0043014877414665476 cost.\n"
     ]
    },
    {
     "name": "stderr",
     "output_type": "stream",
     "text": [
      "INFO - Instantiated depth 8 at 0.0043014877414665476 cost.\n"
     ]
    },
    {
     "name": "stdout",
     "output_type": "stream",
     "text": [
      "12:53:55.045 - INFO     | bqskit.passes.synthesis.qfast: Progress has not been made, restricting model.\n"
     ]
    },
    {
     "name": "stderr",
     "output_type": "stream",
     "text": [
      "INFO - Progress has not been made, restricting model.\n"
     ]
    },
    {
     "name": "stdout",
     "output_type": "stream",
     "text": [
      "12:54:03.107 - INFO     | bqskit.passes.synthesis.qfast: Instantiated depth 8 at 0.0003596104852905402 cost.\n"
     ]
    },
    {
     "name": "stderr",
     "output_type": "stream",
     "text": [
      "INFO - Instantiated depth 8 at 0.0003596104852905402 cost.\n"
     ]
    },
    {
     "name": "stdout",
     "output_type": "stream",
     "text": [
      "12:54:03.107 - INFO     | bqskit.passes.synthesis.qfast: Final gate added at location (0, 1).\n"
     ]
    },
    {
     "name": "stderr",
     "output_type": "stream",
     "text": [
      "INFO - Final gate added at location (0, 1).\n"
     ]
    },
    {
     "name": "stdout",
     "output_type": "stream",
     "text": [
      "12:54:16.942 - INFO     | bqskit.passes.synthesis.qfast: Final circuit found with cost: 0.000939991138437346.\n"
     ]
    },
    {
     "name": "stderr",
     "output_type": "stream",
     "text": [
      "INFO - Final circuit found with cost: 0.000939991138437346.\n"
     ]
    },
    {
     "name": "stdout",
     "output_type": "stream",
     "text": [
      "12:54:16.942 - INFO     | bqskit.passes.synthesis.qfast: Successful synthesis.\n"
     ]
    },
    {
     "name": "stderr",
     "output_type": "stream",
     "text": [
      "INFO - Successful synthesis.\n",
      "Shutting down node.\n",
      "Shutting down node.\n",
      "Shutting down node.\n"
     ]
    },
    {
     "name": "stdout",
     "output_type": "stream",
     "text": [
      "Compilation of first circuit took: 68.26900773396483\n"
     ]
    },
    {
     "name": "stderr",
     "output_type": "stream",
     "text": [
      "Started outgoing thread.\n",
      "Registered worker 0.\n",
      "Registered worker 1.\n",
      "Registered worker 2.\n",
      "Registered worker 3.\n",
      "Registered worker 4.\n",
      "Registered worker 5.\n",
      "Node has spawned 6 workers.\n"
     ]
    },
    {
     "name": "stdout",
     "output_type": "stream",
     "text": [
      "Starting flow using QFactor instantiation\n"
     ]
    },
    {
     "name": "stderr",
     "output_type": "stream",
     "text": [
      "Connected to client.\n",
      "AttachedServer running...\n",
      "New CompilationTask: 7894c125-5340-46c2-949a-de584c499fa0.\n"
     ]
    },
    {
     "name": "stdout",
     "output_type": "stream",
     "text": [
      "12:54:19.415 - INFO     | bqskit.passes.synthesis.qfast: Instantiated depth 1 at 0.050958587434508096 cost.\n"
     ]
    },
    {
     "name": "stderr",
     "output_type": "stream",
     "text": [
      "INFO - Instantiated depth 1 at 0.050958587434508096 cost.\n"
     ]
    },
    {
     "name": "stdout",
     "output_type": "stream",
     "text": [
      "12:54:19.415 - INFO     | bqskit.passes.synthesis.qfast: Progress has been made, depth increasing.\n"
     ]
    },
    {
     "name": "stderr",
     "output_type": "stream",
     "text": [
      "INFO - Progress has been made, depth increasing.\n"
     ]
    },
    {
     "name": "stdout",
     "output_type": "stream",
     "text": [
      "12:54:19.415 - INFO     | bqskit.passes.synthesis.qfast: Expanding by adding a gate on qubits (0, 1).\n"
     ]
    },
    {
     "name": "stderr",
     "output_type": "stream",
     "text": [
      "INFO - Expanding by adding a gate on qubits (0, 1).\n"
     ]
    },
    {
     "name": "stdout",
     "output_type": "stream",
     "text": [
      "12:54:19.488 - INFO     | bqskit.passes.synthesis.qfast: Instantiated depth 2 at 0.050959357844816644 cost.\n"
     ]
    },
    {
     "name": "stderr",
     "output_type": "stream",
     "text": [
      "INFO - Instantiated depth 2 at 0.050959357844816644 cost.\n"
     ]
    },
    {
     "name": "stdout",
     "output_type": "stream",
     "text": [
      "12:54:19.488 - INFO     | bqskit.passes.synthesis.qfast: Progress has not been made, restricting model.\n"
     ]
    },
    {
     "name": "stderr",
     "output_type": "stream",
     "text": [
      "INFO - Progress has not been made, restricting model.\n"
     ]
    },
    {
     "name": "stdout",
     "output_type": "stream",
     "text": [
      "12:54:19.594 - INFO     | bqskit.passes.synthesis.qfast: Instantiated depth 2 at 0.9997548064535822 cost.\n"
     ]
    },
    {
     "name": "stderr",
     "output_type": "stream",
     "text": [
      "INFO - Instantiated depth 2 at 0.9997548064535822 cost.\n"
     ]
    },
    {
     "name": "stdout",
     "output_type": "stream",
     "text": [
      "12:54:19.594 - INFO     | bqskit.passes.synthesis.qfast: Progress has not been made, restricting model.\n"
     ]
    },
    {
     "name": "stderr",
     "output_type": "stream",
     "text": [
      "INFO - Progress has not been made, restricting model.\n"
     ]
    },
    {
     "name": "stdout",
     "output_type": "stream",
     "text": [
      "12:54:19.683 - INFO     | bqskit.passes.synthesis.qfast: Instantiated depth 2 at 0.05095856355125694 cost.\n"
     ]
    },
    {
     "name": "stderr",
     "output_type": "stream",
     "text": [
      "INFO - Instantiated depth 2 at 0.05095856355125694 cost.\n"
     ]
    },
    {
     "name": "stdout",
     "output_type": "stream",
     "text": [
      "12:54:19.683 - INFO     | bqskit.passes.synthesis.qfast: Progress has not been made, restricting model.\n"
     ]
    },
    {
     "name": "stderr",
     "output_type": "stream",
     "text": [
      "INFO - Progress has not been made, restricting model.\n"
     ]
    },
    {
     "name": "stdout",
     "output_type": "stream",
     "text": [
      "12:54:19.786 - INFO     | bqskit.passes.synthesis.qfast: Instantiated depth 2 at 0.11340039806110147 cost.\n"
     ]
    },
    {
     "name": "stderr",
     "output_type": "stream",
     "text": [
      "INFO - Instantiated depth 2 at 0.11340039806110147 cost.\n"
     ]
    },
    {
     "name": "stdout",
     "output_type": "stream",
     "text": [
      "12:54:19.786 - INFO     | bqskit.passes.synthesis.qfast: Progress has not been made, restricting model.\n"
     ]
    },
    {
     "name": "stderr",
     "output_type": "stream",
     "text": [
      "INFO - Progress has not been made, restricting model.\n"
     ]
    },
    {
     "name": "stdout",
     "output_type": "stream",
     "text": [
      "12:54:19.886 - INFO     | bqskit.passes.synthesis.qfast: Instantiated depth 2 at 0.9991375483062348 cost.\n"
     ]
    },
    {
     "name": "stderr",
     "output_type": "stream",
     "text": [
      "INFO - Instantiated depth 2 at 0.9991375483062348 cost.\n"
     ]
    },
    {
     "name": "stdout",
     "output_type": "stream",
     "text": [
      "12:54:19.887 - INFO     | bqskit.passes.synthesis.qfast: Progress has not been made.\n"
     ]
    },
    {
     "name": "stderr",
     "output_type": "stream",
     "text": [
      "INFO - Progress has not been made.\n"
     ]
    },
    {
     "name": "stdout",
     "output_type": "stream",
     "text": [
      "12:54:19.887 - INFO     | bqskit.passes.synthesis.qfast: Cannot restrict further, depth increasing.\n"
     ]
    },
    {
     "name": "stderr",
     "output_type": "stream",
     "text": [
      "INFO - Cannot restrict further, depth increasing.\n"
     ]
    },
    {
     "name": "stdout",
     "output_type": "stream",
     "text": [
      "12:54:19.887 - INFO     | bqskit.passes.synthesis.qfast: Expanding by adding a gate on qubits (2, 3).\n"
     ]
    },
    {
     "name": "stderr",
     "output_type": "stream",
     "text": [
      "INFO - Expanding by adding a gate on qubits (2, 3).\n"
     ]
    },
    {
     "name": "stdout",
     "output_type": "stream",
     "text": [
      "12:54:19.990 - INFO     | bqskit.passes.synthesis.qfast: Instantiated depth 3 at 0.05095856174518587 cost.\n"
     ]
    },
    {
     "name": "stderr",
     "output_type": "stream",
     "text": [
      "Finished: 7894c125-5340-46c2-949a-de584c499fa0.\n",
      "Responding to request for task 7894c125-5340-46c2-949a-de584c499fa0.\n",
      "INFO - Instantiated depth 3 at 0.05095856174518587 cost.\n"
     ]
    },
    {
     "name": "stdout",
     "output_type": "stream",
     "text": [
      "12:54:19.990 - INFO     | bqskit.passes.synthesis.qfast: Progress has not been made, restricting model.\n"
     ]
    },
    {
     "name": "stderr",
     "output_type": "stream",
     "text": [
      "INFO - Progress has not been made, restricting model.\n"
     ]
    },
    {
     "name": "stdout",
     "output_type": "stream",
     "text": [
      "12:54:20.128 - INFO     | bqskit.passes.synthesis.qfast: Instantiated depth 3 at 0.050957571689965064 cost.\n"
     ]
    },
    {
     "name": "stderr",
     "output_type": "stream",
     "text": [
      "INFO - Instantiated depth 3 at 0.050957571689965064 cost.\n"
     ]
    },
    {
     "name": "stdout",
     "output_type": "stream",
     "text": [
      "12:54:20.128 - INFO     | bqskit.passes.synthesis.qfast: Progress has not been made, restricting model.\n"
     ]
    },
    {
     "name": "stderr",
     "output_type": "stream",
     "text": [
      "INFO - Progress has not been made, restricting model.\n"
     ]
    },
    {
     "name": "stdout",
     "output_type": "stream",
     "text": [
      "12:54:20.273 - INFO     | bqskit.passes.synthesis.qfast: Instantiated depth 3 at 0.9801671962054739 cost.\n"
     ]
    },
    {
     "name": "stderr",
     "output_type": "stream",
     "text": [
      "INFO - Instantiated depth 3 at 0.9801671962054739 cost.\n"
     ]
    },
    {
     "name": "stdout",
     "output_type": "stream",
     "text": [
      "12:54:20.273 - INFO     | bqskit.passes.synthesis.qfast: Progress has not been made, restricting model.\n"
     ]
    },
    {
     "name": "stderr",
     "output_type": "stream",
     "text": [
      "INFO - Progress has not been made, restricting model.\n"
     ]
    },
    {
     "name": "stdout",
     "output_type": "stream",
     "text": [
      "12:54:20.483 - INFO     | bqskit.passes.synthesis.qfast: Instantiated depth 3 at 0.05095877530717874 cost.\n"
     ]
    },
    {
     "name": "stderr",
     "output_type": "stream",
     "text": [
      "INFO - Instantiated depth 3 at 0.05095877530717874 cost.\n"
     ]
    },
    {
     "name": "stdout",
     "output_type": "stream",
     "text": [
      "12:54:20.483 - INFO     | bqskit.passes.synthesis.qfast: Progress has not been made, restricting model.\n"
     ]
    },
    {
     "name": "stderr",
     "output_type": "stream",
     "text": [
      "INFO - Progress has not been made, restricting model.\n"
     ]
    },
    {
     "name": "stdout",
     "output_type": "stream",
     "text": [
      "12:54:20.695 - INFO     | bqskit.passes.synthesis.qfast: Instantiated depth 3 at 0.9995951881314042 cost.\n"
     ]
    },
    {
     "name": "stderr",
     "output_type": "stream",
     "text": [
      "INFO - Instantiated depth 3 at 0.9995951881314042 cost.\n"
     ]
    },
    {
     "name": "stdout",
     "output_type": "stream",
     "text": [
      "12:54:20.695 - INFO     | bqskit.passes.synthesis.qfast: Progress has not been made.\n"
     ]
    },
    {
     "name": "stderr",
     "output_type": "stream",
     "text": [
      "INFO - Progress has not been made.\n"
     ]
    },
    {
     "name": "stdout",
     "output_type": "stream",
     "text": [
      "12:54:20.695 - INFO     | bqskit.passes.synthesis.qfast: Cannot restrict further, depth increasing.\n"
     ]
    },
    {
     "name": "stderr",
     "output_type": "stream",
     "text": [
      "INFO - Cannot restrict further, depth increasing.\n"
     ]
    },
    {
     "name": "stdout",
     "output_type": "stream",
     "text": [
      "12:54:20.695 - INFO     | bqskit.passes.synthesis.qfast: Expanding by adding a gate on qubits (0, 2).\n"
     ]
    },
    {
     "name": "stderr",
     "output_type": "stream",
     "text": [
      "INFO - Expanding by adding a gate on qubits (0, 2).\n"
     ]
    },
    {
     "name": "stdout",
     "output_type": "stream",
     "text": [
      "12:54:21.167 - INFO     | bqskit.passes.synthesis.qfast: Instantiated depth 4 at 0.05095766077924868 cost.\n"
     ]
    },
    {
     "name": "stderr",
     "output_type": "stream",
     "text": [
      "INFO - Instantiated depth 4 at 0.05095766077924868 cost.\n"
     ]
    },
    {
     "name": "stdout",
     "output_type": "stream",
     "text": [
      "12:54:21.167 - INFO     | bqskit.passes.synthesis.qfast: Progress has not been made, restricting model.\n"
     ]
    },
    {
     "name": "stderr",
     "output_type": "stream",
     "text": [
      "INFO - Progress has not been made, restricting model.\n"
     ]
    },
    {
     "name": "stdout",
     "output_type": "stream",
     "text": [
      "12:54:21.274 - INFO     | bqskit.passes.synthesis.qfast: Instantiated depth 4 at 0.48308266139806244 cost.\n"
     ]
    },
    {
     "name": "stderr",
     "output_type": "stream",
     "text": [
      "INFO - Instantiated depth 4 at 0.48308266139806244 cost.\n"
     ]
    },
    {
     "name": "stdout",
     "output_type": "stream",
     "text": [
      "12:54:21.274 - INFO     | bqskit.passes.synthesis.qfast: Progress has not been made, restricting model.\n"
     ]
    },
    {
     "name": "stderr",
     "output_type": "stream",
     "text": [
      "INFO - Progress has not been made, restricting model.\n"
     ]
    },
    {
     "name": "stdout",
     "output_type": "stream",
     "text": [
      "12:54:21.515 - INFO     | bqskit.passes.synthesis.qfast: Instantiated depth 4 at 0.03711599033223478 cost.\n"
     ]
    },
    {
     "name": "stderr",
     "output_type": "stream",
     "text": [
      "INFO - Instantiated depth 4 at 0.03711599033223478 cost.\n"
     ]
    },
    {
     "name": "stdout",
     "output_type": "stream",
     "text": [
      "12:54:21.515 - INFO     | bqskit.passes.synthesis.qfast: Progress has been made, depth increasing.\n"
     ]
    },
    {
     "name": "stderr",
     "output_type": "stream",
     "text": [
      "INFO - Progress has been made, depth increasing.\n"
     ]
    },
    {
     "name": "stdout",
     "output_type": "stream",
     "text": [
      "12:54:21.515 - INFO     | bqskit.passes.synthesis.qfast: Expanding by adding a gate on qubits (0, 1).\n"
     ]
    },
    {
     "name": "stderr",
     "output_type": "stream",
     "text": [
      "INFO - Expanding by adding a gate on qubits (0, 1).\n"
     ]
    },
    {
     "name": "stdout",
     "output_type": "stream",
     "text": [
      "12:54:21.918 - INFO     | bqskit.passes.synthesis.qfast: Instantiated depth 5 at 0.03681040811568881 cost.\n"
     ]
    },
    {
     "name": "stderr",
     "output_type": "stream",
     "text": [
      "INFO - Instantiated depth 5 at 0.03681040811568881 cost.\n"
     ]
    },
    {
     "name": "stdout",
     "output_type": "stream",
     "text": [
      "12:54:21.918 - INFO     | bqskit.passes.synthesis.qfast: Progress has not been made, restricting model.\n"
     ]
    },
    {
     "name": "stderr",
     "output_type": "stream",
     "text": [
      "INFO - Progress has not been made, restricting model.\n"
     ]
    },
    {
     "name": "stdout",
     "output_type": "stream",
     "text": [
      "12:54:22.286 - INFO     | bqskit.passes.synthesis.qfast: Instantiated depth 5 at 0.029067858243656985 cost.\n"
     ]
    },
    {
     "name": "stderr",
     "output_type": "stream",
     "text": [
      "INFO - Instantiated depth 5 at 0.029067858243656985 cost.\n"
     ]
    },
    {
     "name": "stdout",
     "output_type": "stream",
     "text": [
      "12:54:22.286 - INFO     | bqskit.passes.synthesis.qfast: Progress has been made, depth increasing.\n"
     ]
    },
    {
     "name": "stderr",
     "output_type": "stream",
     "text": [
      "INFO - Progress has been made, depth increasing.\n"
     ]
    },
    {
     "name": "stdout",
     "output_type": "stream",
     "text": [
      "12:54:22.286 - INFO     | bqskit.passes.synthesis.qfast: Expanding by adding a gate on qubits (2, 3).\n"
     ]
    },
    {
     "name": "stderr",
     "output_type": "stream",
     "text": [
      "INFO - Expanding by adding a gate on qubits (2, 3).\n"
     ]
    },
    {
     "name": "stdout",
     "output_type": "stream",
     "text": [
      "12:54:22.816 - INFO     | bqskit.passes.synthesis.qfast: Instantiated depth 6 at 0.03683785924628413 cost.\n"
     ]
    },
    {
     "name": "stderr",
     "output_type": "stream",
     "text": [
      "INFO - Instantiated depth 6 at 0.03683785924628413 cost.\n"
     ]
    },
    {
     "name": "stdout",
     "output_type": "stream",
     "text": [
      "12:54:22.816 - INFO     | bqskit.passes.synthesis.qfast: Progress has not been made, restricting model.\n"
     ]
    },
    {
     "name": "stderr",
     "output_type": "stream",
     "text": [
      "INFO - Progress has not been made, restricting model.\n"
     ]
    },
    {
     "name": "stdout",
     "output_type": "stream",
     "text": [
      "12:54:24.135 - INFO     | bqskit.passes.synthesis.qfast: Instantiated depth 6 at 0.6818031579263115 cost.\n"
     ]
    },
    {
     "name": "stderr",
     "output_type": "stream",
     "text": [
      "INFO - Instantiated depth 6 at 0.6818031579263115 cost.\n"
     ]
    },
    {
     "name": "stdout",
     "output_type": "stream",
     "text": [
      "12:54:24.135 - INFO     | bqskit.passes.synthesis.qfast: Progress has not been made, restricting model.\n"
     ]
    },
    {
     "name": "stderr",
     "output_type": "stream",
     "text": [
      "INFO - Progress has not been made, restricting model.\n"
     ]
    },
    {
     "name": "stdout",
     "output_type": "stream",
     "text": [
      "12:54:26.687 - INFO     | bqskit.passes.synthesis.qfast: Instantiated depth 6 at 0.8148315646664251 cost.\n"
     ]
    },
    {
     "name": "stderr",
     "output_type": "stream",
     "text": [
      "INFO - Instantiated depth 6 at 0.8148315646664251 cost.\n"
     ]
    },
    {
     "name": "stdout",
     "output_type": "stream",
     "text": [
      "12:54:26.687 - INFO     | bqskit.passes.synthesis.qfast: Progress has not been made, restricting model.\n"
     ]
    },
    {
     "name": "stderr",
     "output_type": "stream",
     "text": [
      "INFO - Progress has not been made, restricting model.\n"
     ]
    },
    {
     "name": "stdout",
     "output_type": "stream",
     "text": [
      "12:54:26.996 - INFO     | bqskit.passes.synthesis.qfast: Instantiated depth 6 at 0.9465645901444673 cost.\n"
     ]
    },
    {
     "name": "stderr",
     "output_type": "stream",
     "text": [
      "INFO - Instantiated depth 6 at 0.9465645901444673 cost.\n"
     ]
    },
    {
     "name": "stdout",
     "output_type": "stream",
     "text": [
      "12:54:26.996 - INFO     | bqskit.passes.synthesis.qfast: Progress has not been made, restricting model.\n"
     ]
    },
    {
     "name": "stderr",
     "output_type": "stream",
     "text": [
      "INFO - Progress has not been made, restricting model.\n"
     ]
    },
    {
     "name": "stdout",
     "output_type": "stream",
     "text": [
      "12:54:27.605 - INFO     | bqskit.passes.synthesis.qfast: Instantiated depth 6 at 0.9527112052844041 cost.\n"
     ]
    },
    {
     "name": "stderr",
     "output_type": "stream",
     "text": [
      "INFO - Instantiated depth 6 at 0.9527112052844041 cost.\n"
     ]
    },
    {
     "name": "stdout",
     "output_type": "stream",
     "text": [
      "12:54:27.605 - INFO     | bqskit.passes.synthesis.qfast: Progress has not been made.\n"
     ]
    },
    {
     "name": "stderr",
     "output_type": "stream",
     "text": [
      "INFO - Progress has not been made.\n"
     ]
    },
    {
     "name": "stdout",
     "output_type": "stream",
     "text": [
      "12:54:27.605 - INFO     | bqskit.passes.synthesis.qfast: Cannot restrict further, depth increasing.\n"
     ]
    },
    {
     "name": "stderr",
     "output_type": "stream",
     "text": [
      "INFO - Cannot restrict further, depth increasing.\n"
     ]
    },
    {
     "name": "stdout",
     "output_type": "stream",
     "text": [
      "12:54:27.605 - INFO     | bqskit.passes.synthesis.qfast: Expanding by adding a gate on qubits (0, 2).\n"
     ]
    },
    {
     "name": "stderr",
     "output_type": "stream",
     "text": [
      "INFO - Expanding by adding a gate on qubits (0, 2).\n"
     ]
    },
    {
     "name": "stdout",
     "output_type": "stream",
     "text": [
      "12:54:28.299 - INFO     | bqskit.passes.synthesis.qfast: Instantiated depth 7 at 0.00709318190737962 cost.\n"
     ]
    },
    {
     "name": "stderr",
     "output_type": "stream",
     "text": [
      "INFO - Instantiated depth 7 at 0.00709318190737962 cost.\n"
     ]
    },
    {
     "name": "stdout",
     "output_type": "stream",
     "text": [
      "12:54:28.299 - INFO     | bqskit.passes.synthesis.qfast: Progress has been made, depth increasing.\n"
     ]
    },
    {
     "name": "stderr",
     "output_type": "stream",
     "text": [
      "INFO - Progress has been made, depth increasing.\n"
     ]
    },
    {
     "name": "stdout",
     "output_type": "stream",
     "text": [
      "12:54:28.299 - INFO     | bqskit.passes.synthesis.qfast: Expanding by adding a gate on qubits (0, 1).\n"
     ]
    },
    {
     "name": "stderr",
     "output_type": "stream",
     "text": [
      "INFO - Expanding by adding a gate on qubits (0, 1).\n"
     ]
    },
    {
     "name": "stdout",
     "output_type": "stream",
     "text": [
      "12:54:31.947 - INFO     | bqskit.passes.synthesis.qfast: Instantiated depth 8 at 0.006869321625252112 cost.\n"
     ]
    },
    {
     "name": "stderr",
     "output_type": "stream",
     "text": [
      "INFO - Instantiated depth 8 at 0.006869321625252112 cost.\n"
     ]
    },
    {
     "name": "stdout",
     "output_type": "stream",
     "text": [
      "12:54:31.947 - INFO     | bqskit.passes.synthesis.qfast: Progress has not been made, restricting model.\n"
     ]
    },
    {
     "name": "stderr",
     "output_type": "stream",
     "text": [
      "INFO - Progress has not been made, restricting model.\n"
     ]
    },
    {
     "name": "stdout",
     "output_type": "stream",
     "text": [
      "12:54:33.983 - INFO     | bqskit.passes.synthesis.qfast: Instantiated depth 8 at 0.7979805652436046 cost.\n"
     ]
    },
    {
     "name": "stderr",
     "output_type": "stream",
     "text": [
      "INFO - Instantiated depth 8 at 0.7979805652436046 cost.\n"
     ]
    },
    {
     "name": "stdout",
     "output_type": "stream",
     "text": [
      "12:54:33.984 - INFO     | bqskit.passes.synthesis.qfast: Progress has not been made, restricting model.\n"
     ]
    },
    {
     "name": "stderr",
     "output_type": "stream",
     "text": [
      "INFO - Progress has not been made, restricting model.\n"
     ]
    },
    {
     "name": "stdout",
     "output_type": "stream",
     "text": [
      "12:54:36.941 - INFO     | bqskit.passes.synthesis.qfast: Instantiated depth 8 at 0.009322347125859665 cost.\n"
     ]
    },
    {
     "name": "stderr",
     "output_type": "stream",
     "text": [
      "INFO - Instantiated depth 8 at 0.009322347125859665 cost.\n"
     ]
    },
    {
     "name": "stdout",
     "output_type": "stream",
     "text": [
      "12:54:36.941 - INFO     | bqskit.passes.synthesis.qfast: Progress has not been made, restricting model.\n"
     ]
    },
    {
     "name": "stderr",
     "output_type": "stream",
     "text": [
      "INFO - Progress has not been made, restricting model.\n"
     ]
    },
    {
     "name": "stdout",
     "output_type": "stream",
     "text": [
      "12:54:40.276 - INFO     | bqskit.passes.synthesis.qfast: Instantiated depth 8 at 0.9585413513456376 cost.\n"
     ]
    },
    {
     "name": "stderr",
     "output_type": "stream",
     "text": [
      "INFO - Instantiated depth 8 at 0.9585413513456376 cost.\n"
     ]
    },
    {
     "name": "stdout",
     "output_type": "stream",
     "text": [
      "12:54:40.276 - INFO     | bqskit.passes.synthesis.qfast: Progress has not been made, restricting model.\n"
     ]
    },
    {
     "name": "stderr",
     "output_type": "stream",
     "text": [
      "INFO - Progress has not been made, restricting model.\n"
     ]
    },
    {
     "name": "stdout",
     "output_type": "stream",
     "text": [
      "12:54:43.488 - INFO     | bqskit.passes.synthesis.qfast: Instantiated depth 8 at 0.963086632600239 cost.\n"
     ]
    },
    {
     "name": "stderr",
     "output_type": "stream",
     "text": [
      "INFO - Instantiated depth 8 at 0.963086632600239 cost.\n"
     ]
    },
    {
     "name": "stdout",
     "output_type": "stream",
     "text": [
      "12:54:43.488 - INFO     | bqskit.passes.synthesis.qfast: Progress has not been made.\n"
     ]
    },
    {
     "name": "stderr",
     "output_type": "stream",
     "text": [
      "INFO - Progress has not been made.\n"
     ]
    },
    {
     "name": "stdout",
     "output_type": "stream",
     "text": [
      "12:54:43.488 - INFO     | bqskit.passes.synthesis.qfast: Cannot restrict further, depth increasing.\n"
     ]
    },
    {
     "name": "stderr",
     "output_type": "stream",
     "text": [
      "INFO - Cannot restrict further, depth increasing.\n"
     ]
    },
    {
     "name": "stdout",
     "output_type": "stream",
     "text": [
      "12:54:43.488 - INFO     | bqskit.passes.synthesis.qfast: Expanding by adding a gate on qubits (0, 2).\n"
     ]
    },
    {
     "name": "stderr",
     "output_type": "stream",
     "text": [
      "INFO - Expanding by adding a gate on qubits (0, 2).\n"
     ]
    },
    {
     "name": "stdout",
     "output_type": "stream",
     "text": [
      "12:54:46.075 - INFO     | bqskit.passes.synthesis.qfast: Instantiated depth 9 at 0.601258061021307 cost.\n"
     ]
    },
    {
     "name": "stderr",
     "output_type": "stream",
     "text": [
      "INFO - Instantiated depth 9 at 0.601258061021307 cost.\n"
     ]
    },
    {
     "name": "stdout",
     "output_type": "stream",
     "text": [
      "12:54:46.075 - INFO     | bqskit.passes.synthesis.qfast: Progress has not been made, restricting model.\n"
     ]
    },
    {
     "name": "stderr",
     "output_type": "stream",
     "text": [
      "INFO - Progress has not been made, restricting model.\n"
     ]
    },
    {
     "name": "stdout",
     "output_type": "stream",
     "text": [
      "12:54:52.724 - INFO     | bqskit.passes.synthesis.qfast: Instantiated depth 9 at 0.878896733168264 cost.\n"
     ]
    },
    {
     "name": "stderr",
     "output_type": "stream",
     "text": [
      "INFO - Instantiated depth 9 at 0.878896733168264 cost.\n"
     ]
    },
    {
     "name": "stdout",
     "output_type": "stream",
     "text": [
      "12:54:52.724 - INFO     | bqskit.passes.synthesis.qfast: Progress has not been made, restricting model.\n"
     ]
    },
    {
     "name": "stderr",
     "output_type": "stream",
     "text": [
      "INFO - Progress has not been made, restricting model.\n"
     ]
    },
    {
     "name": "stdout",
     "output_type": "stream",
     "text": [
      "12:54:55.185 - INFO     | bqskit.passes.synthesis.qfast: Instantiated depth 9 at 0.9081996744209129 cost.\n"
     ]
    },
    {
     "name": "stderr",
     "output_type": "stream",
     "text": [
      "INFO - Instantiated depth 9 at 0.9081996744209129 cost.\n"
     ]
    },
    {
     "name": "stdout",
     "output_type": "stream",
     "text": [
      "12:54:55.185 - INFO     | bqskit.passes.synthesis.qfast: Progress has not been made, restricting model.\n"
     ]
    },
    {
     "name": "stderr",
     "output_type": "stream",
     "text": [
      "INFO - Progress has not been made, restricting model.\n"
     ]
    },
    {
     "name": "stdout",
     "output_type": "stream",
     "text": [
      "12:54:59.742 - INFO     | bqskit.passes.synthesis.qfast: Instantiated depth 9 at 0.3860827330315444 cost.\n"
     ]
    },
    {
     "name": "stderr",
     "output_type": "stream",
     "text": [
      "INFO - Instantiated depth 9 at 0.3860827330315444 cost.\n"
     ]
    },
    {
     "name": "stdout",
     "output_type": "stream",
     "text": [
      "12:54:59.742 - INFO     | bqskit.passes.synthesis.qfast: Progress has not been made, restricting model.\n"
     ]
    },
    {
     "name": "stderr",
     "output_type": "stream",
     "text": [
      "INFO - Progress has not been made, restricting model.\n"
     ]
    },
    {
     "name": "stdout",
     "output_type": "stream",
     "text": [
      "12:55:02.107 - INFO     | bqskit.passes.synthesis.qfast: Instantiated depth 9 at 0.14748780098372638 cost.\n"
     ]
    },
    {
     "name": "stderr",
     "output_type": "stream",
     "text": [
      "INFO - Instantiated depth 9 at 0.14748780098372638 cost.\n"
     ]
    },
    {
     "name": "stdout",
     "output_type": "stream",
     "text": [
      "12:55:02.107 - INFO     | bqskit.passes.synthesis.qfast: Progress has not been made.\n"
     ]
    },
    {
     "name": "stderr",
     "output_type": "stream",
     "text": [
      "INFO - Progress has not been made.\n"
     ]
    },
    {
     "name": "stdout",
     "output_type": "stream",
     "text": [
      "12:55:02.107 - INFO     | bqskit.passes.synthesis.qfast: Cannot restrict further, depth increasing.\n"
     ]
    },
    {
     "name": "stderr",
     "output_type": "stream",
     "text": [
      "INFO - Cannot restrict further, depth increasing.\n"
     ]
    },
    {
     "name": "stdout",
     "output_type": "stream",
     "text": [
      "12:55:02.107 - INFO     | bqskit.passes.synthesis.qfast: Expanding by adding a gate on qubits (0, 1).\n"
     ]
    },
    {
     "name": "stderr",
     "output_type": "stream",
     "text": [
      "INFO - Expanding by adding a gate on qubits (0, 1).\n"
     ]
    },
    {
     "name": "stdout",
     "output_type": "stream",
     "text": [
      "12:55:06.533 - INFO     | bqskit.passes.synthesis.qfast: Instantiated depth 10 at 0.6114575986687694 cost.\n"
     ]
    },
    {
     "name": "stderr",
     "output_type": "stream",
     "text": [
      "INFO - Instantiated depth 10 at 0.6114575986687694 cost.\n"
     ]
    },
    {
     "name": "stdout",
     "output_type": "stream",
     "text": [
      "12:55:06.533 - INFO     | bqskit.passes.synthesis.qfast: Progress has not been made, restricting model.\n"
     ]
    },
    {
     "name": "stderr",
     "output_type": "stream",
     "text": [
      "INFO - Progress has not been made, restricting model.\n"
     ]
    },
    {
     "name": "stdout",
     "output_type": "stream",
     "text": [
      "12:55:10.671 - INFO     | bqskit.passes.synthesis.qfast: Instantiated depth 10 at 0.006705397971499827 cost.\n"
     ]
    },
    {
     "name": "stderr",
     "output_type": "stream",
     "text": [
      "INFO - Instantiated depth 10 at 0.006705397971499827 cost.\n"
     ]
    },
    {
     "name": "stdout",
     "output_type": "stream",
     "text": [
      "12:55:10.671 - INFO     | bqskit.passes.synthesis.qfast: Progress has been made, depth increasing.\n"
     ]
    },
    {
     "name": "stderr",
     "output_type": "stream",
     "text": [
      "INFO - Progress has been made, depth increasing.\n"
     ]
    },
    {
     "name": "stdout",
     "output_type": "stream",
     "text": [
      "12:55:10.671 - INFO     | bqskit.passes.synthesis.qfast: Expanding by adding a gate on qubits (2, 3).\n"
     ]
    },
    {
     "name": "stderr",
     "output_type": "stream",
     "text": [
      "INFO - Expanding by adding a gate on qubits (2, 3).\n"
     ]
    },
    {
     "name": "stdout",
     "output_type": "stream",
     "text": [
      "12:55:15.712 - INFO     | bqskit.passes.synthesis.qfast: Instantiated depth 11 at 0.7930000973413885 cost.\n"
     ]
    },
    {
     "name": "stderr",
     "output_type": "stream",
     "text": [
      "INFO - Instantiated depth 11 at 0.7930000973413885 cost.\n"
     ]
    },
    {
     "name": "stdout",
     "output_type": "stream",
     "text": [
      "12:55:15.712 - INFO     | bqskit.passes.synthesis.qfast: Progress has not been made, restricting model.\n"
     ]
    },
    {
     "name": "stderr",
     "output_type": "stream",
     "text": [
      "INFO - Progress has not been made, restricting model.\n"
     ]
    },
    {
     "name": "stdout",
     "output_type": "stream",
     "text": [
      "12:55:22.218 - INFO     | bqskit.passes.synthesis.qfast: Instantiated depth 11 at 0.02858450843513416 cost.\n"
     ]
    },
    {
     "name": "stderr",
     "output_type": "stream",
     "text": [
      "INFO - Instantiated depth 11 at 0.02858450843513416 cost.\n"
     ]
    },
    {
     "name": "stdout",
     "output_type": "stream",
     "text": [
      "12:55:22.218 - INFO     | bqskit.passes.synthesis.qfast: Progress has not been made, restricting model.\n"
     ]
    },
    {
     "name": "stderr",
     "output_type": "stream",
     "text": [
      "INFO - Progress has not been made, restricting model.\n"
     ]
    },
    {
     "name": "stdout",
     "output_type": "stream",
     "text": [
      "12:55:28.970 - INFO     | bqskit.passes.synthesis.qfast: Instantiated depth 11 at 0.014533436298220459 cost.\n"
     ]
    },
    {
     "name": "stderr",
     "output_type": "stream",
     "text": [
      "INFO - Instantiated depth 11 at 0.014533436298220459 cost.\n"
     ]
    },
    {
     "name": "stdout",
     "output_type": "stream",
     "text": [
      "12:55:28.970 - INFO     | bqskit.passes.synthesis.qfast: Progress has not been made, restricting model.\n"
     ]
    },
    {
     "name": "stderr",
     "output_type": "stream",
     "text": [
      "INFO - Progress has not been made, restricting model.\n"
     ]
    },
    {
     "name": "stdout",
     "output_type": "stream",
     "text": [
      "12:55:32.479 - INFO     | bqskit.passes.synthesis.qfast: Instantiated depth 11 at 0.7634862085157021 cost.\n"
     ]
    },
    {
     "name": "stderr",
     "output_type": "stream",
     "text": [
      "INFO - Instantiated depth 11 at 0.7634862085157021 cost.\n"
     ]
    },
    {
     "name": "stdout",
     "output_type": "stream",
     "text": [
      "12:55:32.479 - INFO     | bqskit.passes.synthesis.qfast: Progress has not been made, restricting model.\n"
     ]
    },
    {
     "name": "stderr",
     "output_type": "stream",
     "text": [
      "INFO - Progress has not been made, restricting model.\n"
     ]
    },
    {
     "name": "stdout",
     "output_type": "stream",
     "text": [
      "12:55:35.296 - INFO     | bqskit.passes.synthesis.qfast: Instantiated depth 11 at 0.22982189194073988 cost.\n"
     ]
    },
    {
     "name": "stderr",
     "output_type": "stream",
     "text": [
      "INFO - Instantiated depth 11 at 0.22982189194073988 cost.\n"
     ]
    },
    {
     "name": "stdout",
     "output_type": "stream",
     "text": [
      "12:55:35.296 - INFO     | bqskit.passes.synthesis.qfast: Progress has not been made.\n"
     ]
    },
    {
     "name": "stderr",
     "output_type": "stream",
     "text": [
      "INFO - Progress has not been made.\n"
     ]
    },
    {
     "name": "stdout",
     "output_type": "stream",
     "text": [
      "12:55:35.296 - INFO     | bqskit.passes.synthesis.qfast: Cannot restrict further, depth increasing.\n"
     ]
    },
    {
     "name": "stderr",
     "output_type": "stream",
     "text": [
      "INFO - Cannot restrict further, depth increasing.\n"
     ]
    },
    {
     "name": "stdout",
     "output_type": "stream",
     "text": [
      "12:55:35.296 - INFO     | bqskit.passes.synthesis.qfast: Expanding by adding a gate on qubits (0, 1).\n"
     ]
    },
    {
     "name": "stderr",
     "output_type": "stream",
     "text": [
      "INFO - Expanding by adding a gate on qubits (0, 1).\n"
     ]
    },
    {
     "name": "stdout",
     "output_type": "stream",
     "text": [
      "12:55:39.930 - INFO     | bqskit.passes.synthesis.qfast: Instantiated depth 12 at 0.006705286199062743 cost.\n"
     ]
    },
    {
     "name": "stderr",
     "output_type": "stream",
     "text": [
      "INFO - Instantiated depth 12 at 0.006705286199062743 cost.\n"
     ]
    },
    {
     "name": "stdout",
     "output_type": "stream",
     "text": [
      "12:55:39.931 - INFO     | bqskit.passes.synthesis.qfast: Progress has been made, depth increasing.\n"
     ]
    },
    {
     "name": "stderr",
     "output_type": "stream",
     "text": [
      "INFO - Progress has been made, depth increasing.\n"
     ]
    },
    {
     "name": "stdout",
     "output_type": "stream",
     "text": [
      "12:55:39.931 - INFO     | bqskit.passes.synthesis.qfast: Expanding by adding a gate on qubits (2, 3).\n"
     ]
    },
    {
     "name": "stderr",
     "output_type": "stream",
     "text": [
      "INFO - Expanding by adding a gate on qubits (2, 3).\n"
     ]
    },
    {
     "name": "stdout",
     "output_type": "stream",
     "text": [
      "12:55:44.770 - INFO     | bqskit.passes.synthesis.qfast: Instantiated depth 13 at 0.014522012199087553 cost.\n"
     ]
    },
    {
     "name": "stderr",
     "output_type": "stream",
     "text": [
      "INFO - Instantiated depth 13 at 0.014522012199087553 cost.\n"
     ]
    },
    {
     "name": "stdout",
     "output_type": "stream",
     "text": [
      "12:55:44.770 - INFO     | bqskit.passes.synthesis.qfast: Progress has not been made, restricting model.\n"
     ]
    },
    {
     "name": "stderr",
     "output_type": "stream",
     "text": [
      "INFO - Progress has not been made, restricting model.\n"
     ]
    },
    {
     "name": "stdout",
     "output_type": "stream",
     "text": [
      "12:55:46.740 - INFO     | bqskit.passes.synthesis.qfast: Instantiated depth 13 at 0.09081620653245326 cost.\n"
     ]
    },
    {
     "name": "stderr",
     "output_type": "stream",
     "text": [
      "INFO - Instantiated depth 13 at 0.09081620653245326 cost.\n"
     ]
    },
    {
     "name": "stdout",
     "output_type": "stream",
     "text": [
      "12:55:46.740 - INFO     | bqskit.passes.synthesis.qfast: Progress has not been made, restricting model.\n"
     ]
    },
    {
     "name": "stderr",
     "output_type": "stream",
     "text": [
      "INFO - Progress has not been made, restricting model.\n"
     ]
    },
    {
     "name": "stdout",
     "output_type": "stream",
     "text": [
      "12:55:54.341 - INFO     | bqskit.passes.synthesis.qfast: Instantiated depth 13 at 0.9606964721463511 cost.\n"
     ]
    },
    {
     "name": "stderr",
     "output_type": "stream",
     "text": [
      "INFO - Instantiated depth 13 at 0.9606964721463511 cost.\n"
     ]
    },
    {
     "name": "stdout",
     "output_type": "stream",
     "text": [
      "12:55:54.341 - INFO     | bqskit.passes.synthesis.qfast: Progress has not been made, restricting model.\n"
     ]
    },
    {
     "name": "stderr",
     "output_type": "stream",
     "text": [
      "INFO - Progress has not been made, restricting model.\n"
     ]
    },
    {
     "name": "stdout",
     "output_type": "stream",
     "text": [
      "12:56:00.076 - INFO     | bqskit.passes.synthesis.qfast: Instantiated depth 13 at 0.7346197071979857 cost.\n"
     ]
    },
    {
     "name": "stderr",
     "output_type": "stream",
     "text": [
      "INFO - Instantiated depth 13 at 0.7346197071979857 cost.\n"
     ]
    },
    {
     "name": "stdout",
     "output_type": "stream",
     "text": [
      "12:56:00.076 - INFO     | bqskit.passes.synthesis.qfast: Progress has not been made, restricting model.\n"
     ]
    },
    {
     "name": "stderr",
     "output_type": "stream",
     "text": [
      "INFO - Progress has not been made, restricting model.\n"
     ]
    },
    {
     "name": "stdout",
     "output_type": "stream",
     "text": [
      "12:56:09.184 - INFO     | bqskit.passes.synthesis.qfast: Instantiated depth 13 at 0.994791517221432 cost.\n"
     ]
    },
    {
     "name": "stderr",
     "output_type": "stream",
     "text": [
      "INFO - Instantiated depth 13 at 0.994791517221432 cost.\n"
     ]
    },
    {
     "name": "stdout",
     "output_type": "stream",
     "text": [
      "12:56:09.184 - INFO     | bqskit.passes.synthesis.qfast: Progress has not been made.\n"
     ]
    },
    {
     "name": "stderr",
     "output_type": "stream",
     "text": [
      "INFO - Progress has not been made.\n"
     ]
    },
    {
     "name": "stdout",
     "output_type": "stream",
     "text": [
      "12:56:09.184 - INFO     | bqskit.passes.synthesis.qfast: Cannot restrict further, depth increasing.\n"
     ]
    },
    {
     "name": "stderr",
     "output_type": "stream",
     "text": [
      "INFO - Cannot restrict further, depth increasing.\n"
     ]
    },
    {
     "name": "stdout",
     "output_type": "stream",
     "text": [
      "12:56:09.184 - INFO     | bqskit.passes.synthesis.qfast: Expanding by adding a gate on qubits (0, 1).\n"
     ]
    },
    {
     "name": "stderr",
     "output_type": "stream",
     "text": [
      "INFO - Expanding by adding a gate on qubits (0, 1).\n"
     ]
    },
    {
     "name": "stdout",
     "output_type": "stream",
     "text": [
      "12:56:16.137 - INFO     | bqskit.passes.synthesis.qfast: Instantiated depth 14 at 0.01473531835573505 cost.\n"
     ]
    },
    {
     "name": "stderr",
     "output_type": "stream",
     "text": [
      "INFO - Instantiated depth 14 at 0.01473531835573505 cost.\n"
     ]
    },
    {
     "name": "stdout",
     "output_type": "stream",
     "text": [
      "12:56:16.137 - INFO     | bqskit.passes.synthesis.qfast: Progress has not been made, restricting model.\n"
     ]
    },
    {
     "name": "stderr",
     "output_type": "stream",
     "text": [
      "INFO - Progress has not been made, restricting model.\n"
     ]
    },
    {
     "name": "stdout",
     "output_type": "stream",
     "text": [
      "12:56:24.144 - INFO     | bqskit.passes.synthesis.qfast: Instantiated depth 14 at 0.0105960219997554 cost.\n"
     ]
    },
    {
     "name": "stderr",
     "output_type": "stream",
     "text": [
      "INFO - Instantiated depth 14 at 0.0105960219997554 cost.\n"
     ]
    },
    {
     "name": "stdout",
     "output_type": "stream",
     "text": [
      "12:56:24.144 - INFO     | bqskit.passes.synthesis.qfast: Progress has not been made, restricting model.\n"
     ]
    },
    {
     "name": "stderr",
     "output_type": "stream",
     "text": [
      "INFO - Progress has not been made, restricting model.\n"
     ]
    },
    {
     "name": "stdout",
     "output_type": "stream",
     "text": [
      "12:56:31.416 - INFO     | bqskit.passes.synthesis.qfast: Instantiated depth 14 at 0.9059014843032301 cost.\n"
     ]
    },
    {
     "name": "stderr",
     "output_type": "stream",
     "text": [
      "INFO - Instantiated depth 14 at 0.9059014843032301 cost.\n"
     ]
    },
    {
     "name": "stdout",
     "output_type": "stream",
     "text": [
      "12:56:31.417 - INFO     | bqskit.passes.synthesis.qfast: Progress has not been made, restricting model.\n"
     ]
    },
    {
     "name": "stderr",
     "output_type": "stream",
     "text": [
      "INFO - Progress has not been made, restricting model.\n"
     ]
    },
    {
     "name": "stdout",
     "output_type": "stream",
     "text": [
      "12:56:40.466 - INFO     | bqskit.passes.synthesis.qfast: Instantiated depth 14 at 0.9990000006085706 cost.\n"
     ]
    },
    {
     "name": "stderr",
     "output_type": "stream",
     "text": [
      "INFO - Instantiated depth 14 at 0.9990000006085706 cost.\n"
     ]
    },
    {
     "name": "stdout",
     "output_type": "stream",
     "text": [
      "12:56:40.466 - INFO     | bqskit.passes.synthesis.qfast: Progress has not been made, restricting model.\n"
     ]
    },
    {
     "name": "stderr",
     "output_type": "stream",
     "text": [
      "INFO - Progress has not been made, restricting model.\n"
     ]
    },
    {
     "name": "stdout",
     "output_type": "stream",
     "text": [
      "12:56:45.756 - INFO     | bqskit.passes.synthesis.qfast: Instantiated depth 14 at 0.028606234055210122 cost.\n"
     ]
    },
    {
     "name": "stderr",
     "output_type": "stream",
     "text": [
      "INFO - Instantiated depth 14 at 0.028606234055210122 cost.\n"
     ]
    },
    {
     "name": "stdout",
     "output_type": "stream",
     "text": [
      "12:56:45.756 - INFO     | bqskit.passes.synthesis.qfast: Progress has not been made.\n"
     ]
    },
    {
     "name": "stderr",
     "output_type": "stream",
     "text": [
      "INFO - Progress has not been made.\n"
     ]
    },
    {
     "name": "stdout",
     "output_type": "stream",
     "text": [
      "12:56:45.756 - INFO     | bqskit.passes.synthesis.qfast: Cannot restrict further, depth increasing.\n"
     ]
    },
    {
     "name": "stderr",
     "output_type": "stream",
     "text": [
      "INFO - Cannot restrict further, depth increasing.\n"
     ]
    },
    {
     "name": "stdout",
     "output_type": "stream",
     "text": [
      "12:56:45.756 - INFO     | bqskit.passes.synthesis.qfast: Expanding by adding a gate on qubits (1, 2).\n"
     ]
    },
    {
     "name": "stderr",
     "output_type": "stream",
     "text": [
      "INFO - Expanding by adding a gate on qubits (1, 2).\n"
     ]
    },
    {
     "name": "stdout",
     "output_type": "stream",
     "text": [
      "12:57:03.596 - INFO     | bqskit.passes.synthesis.qfast: Instantiated depth 15 at 0.00019315741712244705 cost.\n"
     ]
    },
    {
     "name": "stderr",
     "output_type": "stream",
     "text": [
      "INFO - Instantiated depth 15 at 0.00019315741712244705 cost.\n"
     ]
    },
    {
     "name": "stdout",
     "output_type": "stream",
     "text": [
      "12:57:03.596 - INFO     | bqskit.passes.synthesis.qfast: Final gate added at location (0, 1).\n"
     ]
    },
    {
     "name": "stderr",
     "output_type": "stream",
     "text": [
      "INFO - Final gate added at location (0, 1).\n"
     ]
    },
    {
     "name": "stdout",
     "output_type": "stream",
     "text": [
      "12:57:09.779 - INFO     | bqskit.passes.synthesis.qfast: Final circuit found with cost: 0.0001751222136170405.\n"
     ]
    },
    {
     "name": "stderr",
     "output_type": "stream",
     "text": [
      "INFO - Final circuit found with cost: 0.0001751222136170405.\n"
     ]
    },
    {
     "name": "stdout",
     "output_type": "stream",
     "text": [
      "12:57:09.779 - INFO     | bqskit.passes.synthesis.qfast: Successful synthesis.\n"
     ]
    },
    {
     "name": "stderr",
     "output_type": "stream",
     "text": [
      "INFO - Successful synthesis.\n",
      "Shutting down node.\n",
      "Shutting down node.\n"
     ]
    },
    {
     "name": "stdout",
     "output_type": "stream",
     "text": [
      "Compilation of second circuit took: 170.5694844420068\n"
     ]
    },
    {
     "name": "stderr",
     "output_type": "stream",
     "text": [
      "Started outgoing thread.\n",
      "Registered worker 0.\n",
      "Registered worker 1.\n",
      "Registered worker 2.\n",
      "Registered worker 3.\n",
      "Registered worker 4.\n",
      "Registered worker 5.\n",
      "Node has spawned 6 workers.\n"
     ]
    },
    {
     "name": "stdout",
     "output_type": "stream",
     "text": [
      "Starting flow using QFactor instantiation\n"
     ]
    },
    {
     "name": "stderr",
     "output_type": "stream",
     "text": [
      "Connected to client.\n",
      "AttachedServer running...\n",
      "New CompilationTask: d5668a63-fbdf-4824-bb9b-3a1c87fb767e.\n"
     ]
    },
    {
     "name": "stdout",
     "output_type": "stream",
     "text": [
      "12:57:12.279 - INFO     | bqskit.passes.synthesis.qfast: Instantiated depth 1 at 0.500000160539047 cost.\n"
     ]
    },
    {
     "name": "stderr",
     "output_type": "stream",
     "text": [
      "INFO - Instantiated depth 1 at 0.500000160539047 cost.\n",
      "Finished: d5668a63-fbdf-4824-bb9b-3a1c87fb767e.\n",
      "Responding to request for task d5668a63-fbdf-4824-bb9b-3a1c87fb767e.\n"
     ]
    },
    {
     "name": "stdout",
     "output_type": "stream",
     "text": [
      "12:57:12.279 - INFO     | bqskit.passes.synthesis.qfast: Progress has been made, depth increasing.\n"
     ]
    },
    {
     "name": "stderr",
     "output_type": "stream",
     "text": [
      "INFO - Progress has been made, depth increasing.\n"
     ]
    },
    {
     "name": "stdout",
     "output_type": "stream",
     "text": [
      "12:57:12.279 - INFO     | bqskit.passes.synthesis.qfast: Expanding by adding a gate on qubits (3, 4).\n"
     ]
    },
    {
     "name": "stderr",
     "output_type": "stream",
     "text": [
      "INFO - Expanding by adding a gate on qubits (3, 4).\n"
     ]
    },
    {
     "name": "stdout",
     "output_type": "stream",
     "text": [
      "12:57:12.524 - INFO     | bqskit.passes.synthesis.qfast: Instantiated depth 2 at 1.7279511155265936e-12 cost.\n"
     ]
    },
    {
     "name": "stderr",
     "output_type": "stream",
     "text": [
      "INFO - Instantiated depth 2 at 1.7279511155265936e-12 cost.\n"
     ]
    },
    {
     "name": "stdout",
     "output_type": "stream",
     "text": [
      "12:57:12.524 - INFO     | bqskit.passes.synthesis.qfast: Final gate added at location (0, 2).\n"
     ]
    },
    {
     "name": "stderr",
     "output_type": "stream",
     "text": [
      "INFO - Final gate added at location (0, 2).\n"
     ]
    },
    {
     "name": "stdout",
     "output_type": "stream",
     "text": [
      "12:57:12.664 - INFO     | bqskit.passes.synthesis.qfast: Final circuit found with cost: 1.1102230246251565e-16.\n"
     ]
    },
    {
     "name": "stderr",
     "output_type": "stream",
     "text": [
      "INFO - Final circuit found with cost: 1.1102230246251565e-16.\n"
     ]
    },
    {
     "name": "stdout",
     "output_type": "stream",
     "text": [
      "12:57:12.664 - INFO     | bqskit.passes.synthesis.qfast: Successful synthesis.\n"
     ]
    },
    {
     "name": "stderr",
     "output_type": "stream",
     "text": [
      "INFO - Successful synthesis.\n",
      "Shutting down node.\n",
      "Shutting down node.\n",
      "Shutting down node.\n"
     ]
    },
    {
     "name": "stdout",
     "output_type": "stream",
     "text": [
      "Compilation of single_rot gate took: 0.5814528649789281\n"
     ]
    },
    {
     "name": "stderr",
     "output_type": "stream",
     "text": [
      "Started outgoing thread.\n",
      "Registered worker 0.\n",
      "Registered worker 1.\n",
      "Registered worker 2.\n",
      "Registered worker 3.\n",
      "Registered worker 4.\n",
      "Registered worker 5.\n",
      "Node has spawned 6 workers.\n"
     ]
    },
    {
     "name": "stdout",
     "output_type": "stream",
     "text": [
      "Starting flow using QFactor instantiation\n"
     ]
    },
    {
     "name": "stderr",
     "output_type": "stream",
     "text": [
      "Connected to client.\n",
      "AttachedServer running...\n",
      "New CompilationTask: cc66324f-1056-4abf-bb6b-09a9dabac32e.\n"
     ]
    },
    {
     "name": "stdout",
     "output_type": "stream",
     "text": [
      "12:57:15.371 - INFO     | bqskit.passes.synthesis.qfast: Instantiated depth 1 at 0.75 cost.\n"
     ]
    },
    {
     "name": "stderr",
     "output_type": "stream",
     "text": [
      "Finished: cc66324f-1056-4abf-bb6b-09a9dabac32e.\n",
      "Responding to request for task cc66324f-1056-4abf-bb6b-09a9dabac32e.\n",
      "INFO - Instantiated depth 1 at 0.75 cost.\n"
     ]
    },
    {
     "name": "stdout",
     "output_type": "stream",
     "text": [
      "12:57:15.371 - INFO     | bqskit.passes.synthesis.qfast: Progress has been made, depth increasing.\n"
     ]
    },
    {
     "name": "stderr",
     "output_type": "stream",
     "text": [
      "INFO - Progress has been made, depth increasing.\n"
     ]
    },
    {
     "name": "stdout",
     "output_type": "stream",
     "text": [
      "12:57:15.371 - INFO     | bqskit.passes.synthesis.qfast: Expanding by adding a gate on qubits (0, 4).\n"
     ]
    },
    {
     "name": "stderr",
     "output_type": "stream",
     "text": [
      "INFO - Expanding by adding a gate on qubits (0, 4).\n"
     ]
    },
    {
     "name": "stdout",
     "output_type": "stream",
     "text": [
      "12:57:15.494 - INFO     | bqskit.passes.synthesis.qfast: Instantiated depth 2 at 9.069411888162904e-13 cost.\n"
     ]
    },
    {
     "name": "stderr",
     "output_type": "stream",
     "text": [
      "INFO - Instantiated depth 2 at 9.069411888162904e-13 cost.\n"
     ]
    },
    {
     "name": "stdout",
     "output_type": "stream",
     "text": [
      "12:57:15.494 - INFO     | bqskit.passes.synthesis.qfast: Final gate added at location (0, 2).\n"
     ]
    },
    {
     "name": "stderr",
     "output_type": "stream",
     "text": [
      "INFO - Final gate added at location (0, 2).\n"
     ]
    },
    {
     "name": "stdout",
     "output_type": "stream",
     "text": [
      "12:57:15.587 - INFO     | bqskit.passes.synthesis.qfast: Final circuit found with cost: 0.0.\n"
     ]
    },
    {
     "name": "stderr",
     "output_type": "stream",
     "text": [
      "INFO - Final circuit found with cost: 0.0.\n"
     ]
    },
    {
     "name": "stdout",
     "output_type": "stream",
     "text": [
      "12:57:15.587 - INFO     | bqskit.passes.synthesis.qfast: Successful synthesis.\n"
     ]
    },
    {
     "name": "stderr",
     "output_type": "stream",
     "text": [
      "INFO - Successful synthesis.\n",
      "Shutting down node.\n",
      "Shutting down node.\n",
      "Shutting down node.\n"
     ]
    },
    {
     "name": "stdout",
     "output_type": "stream",
     "text": [
      "Compilation of swap gate took: 0.5814528649789281\n"
     ]
    },
    {
     "name": "stderr",
     "output_type": "stream",
     "text": [
      "Started outgoing thread.\n",
      "Registered worker 0.\n",
      "Registered worker 1.\n",
      "Registered worker 2.\n",
      "Registered worker 3.\n",
      "Registered worker 4.\n",
      "Registered worker 5.\n",
      "Registered worker 6.\n",
      "Registered worker 7.\n",
      "Registered worker 8.\n",
      "Registered worker 9.\n",
      "Node has spawned 10 workers.\n"
     ]
    },
    {
     "name": "stdout",
     "output_type": "stream",
     "text": [
      "Starting flow using QFactor instantiation\n"
     ]
    },
    {
     "name": "stderr",
     "output_type": "stream",
     "text": [
      "Connected to client.\n",
      "AttachedServer running...\n",
      "New CompilationTask: 02c3e869-ffc1-44ba-8f99-24e25e883943.\n",
      "Finished: 02c3e869-ffc1-44ba-8f99-24e25e883943.\n",
      "Responding to request for task 02c3e869-ffc1-44ba-8f99-24e25e883943.\n",
      "Shutting down node.\n"
     ]
    },
    {
     "name": "stdout",
     "output_type": "stream",
     "text": [
      "[(0, 1), (2, 3)]\n",
      "[(1, 2), (3, 4)]\n",
      "[(0, 1), (2, 3)]\n",
      "[(0, 1), (2, 3)]\n",
      "[(1, 2), (3, 4)]\n",
      "[(1, 2), (3, 4)]\n",
      "[(0, 1), (2, 3)]\n",
      "[(0, 1), (2, 3)]\n",
      "[(0, 1), (2, 3)]\n",
      "[(1, 2), (3, 4)]\n",
      "[(1, 2), (3, 4)]\n",
      "[(1, 2), (3, 4)]\n",
      "[(0, 1), (2, 3)]\n",
      "[(1, 2), (3, 4)]\n",
      "[(0, 1), (2, 3)]\n",
      "[(0, 1), (2, 3)]\n",
      "[(1, 2), (3, 4)]\n",
      "[(1, 2), (3, 4)]\n",
      "[(0, 1), (2, 3)]\n",
      "[(1, 2), (3, 4)]\n",
      "[(1, 2), (3, 4)]\n",
      "[(1, 2), (3, 4)]\n",
      "[(0, 1), (2, 3)]\n",
      "[(1, 2), (3, 4)]\n",
      "[(0, 1), (2, 3)]\n",
      "[(1, 2), (3, 4)]\n",
      "[(0, 1), (2, 3)]\n"
     ]
    },
    {
     "name": "stderr",
     "output_type": "stream",
     "text": [
      "Shutting down node.\n",
      "Shutting down node.\n"
     ]
    }
   ],
   "source": [
    "Circ = CliffRotSynthesis(EmbUn,0)"
   ]
  },
  {
   "cell_type": "code",
   "execution_count": 100,
   "id": "96c579ae-6d3b-4467-bf8f-198d54c18a29",
   "metadata": {},
   "outputs": [
    {
     "data": {
      "text/plain": [
       "<matplotlib.colorbar.Colorbar at 0x148c14e10>"
      ]
     },
     "execution_count": 100,
     "metadata": {},
     "output_type": "execute_result"
    },
    {
     "data": {
      "image/png": "[encoded data removed]",
      "text/plain": [
       "<Figure size 640x480 with 2 Axes>"
      ]
     },
     "metadata": {},
     "output_type": "display_data"
    }
   ],
   "source": [
    "plt.imshow(np.abs(Circ.get_unitary()), cmap='viridis', interpolation='nearest')\n",
    "# Add a color bar to sh-1j*ow the scale\n",
    "plt.colorbar()"
   ]
  },
  {
   "cell_type": "code",
   "execution_count": 115,
   "id": "a3d1875f-388c-440e-8811-129733cceb96",
   "metadata": {},
   "outputs": [],
   "source": [
    "#Dict={'circuit': Circ}\n",
    "\n",
    "#with open('./gen_data/2spinTapSynt.pk', 'wb') as handle:\n",
    "#    pickle.dump(Dict, handle)\n"
   ]
  },
  {
   "cell_type": "code",
   "execution_count": null,
   "id": "3ddf3a90-1efa-479c-b5cb-c22b53396a40",
   "metadata": {},
   "outputs": [],
   "source": []
  },
  {
   "cell_type": "code",
   "execution_count": 117,
   "id": "b34afd5d-d61b-491f-8800-d06a15e98fe7",
   "metadata": {},
   "outputs": [
    {
     "name": "stdout",
     "output_type": "stream",
     "text": [
      "14:42:48.045 - INFO     | bqskit.passes.measure: Extracting measurements from circuit.\n"
     ]
    },
    {
     "name": "stderr",
     "output_type": "stream",
     "text": [
      "INFO - Extracting measurements from circuit.\n"
     ]
    },
    {
     "name": "stdout",
     "output_type": "stream",
     "text": [
      "14:42:48.046 - INFO     | bqskit.passes.util.log: Retargeting multi-qudit gates.\n"
     ]
    },
    {
     "name": "stderr",
     "output_type": "stream",
     "text": [
      "INFO - Retargeting multi-qudit gates.\n"
     ]
    },
    {
     "name": "stdout",
     "output_type": "stream",
     "text": [
      "16:19:57.568 - CRITICAL | bqskit.compiler.compiler: Compiler interrupted.\n"
     ]
    },
    {
     "name": "stderr",
     "output_type": "stream",
     "text": [
      "CRITICAL - Compiler interrupted.\n"
     ]
    },
    {
     "ename": "KeyboardInterrupt",
     "evalue": "",
     "output_type": "error",
     "traceback": [
      "\u001b[0;31m---------------------------------------------------------------------------\u001b[0m",
      "\u001b[0;31mKeyboardInterrupt\u001b[0m                         Traceback (most recent call last)",
      "Cell \u001b[0;32mIn[117], line 9\u001b[0m\n\u001b[1;32m      5\u001b[0m gate_set \u001b[38;5;241m=\u001b[39m  {VariableUnitaryGate(\u001b[38;5;241m2\u001b[39m),VariableUnitaryGate(\u001b[38;5;241m1\u001b[39m)}\n\u001b[1;32m      8\u001b[0m model \u001b[38;5;241m=\u001b[39m MachineModel(Circ\u001b[38;5;241m.\u001b[39mnum_qudits, gate_set\u001b[38;5;241m=\u001b[39mgate_set)\n\u001b[0;32m----> 9\u001b[0m transCirc1 \u001b[38;5;241m=\u001b[39m \u001b[38;5;28;43mcompile\u001b[39;49m\u001b[43m(\u001b[49m\u001b[43mCirc\u001b[49m\u001b[43m,\u001b[49m\u001b[43mmodel\u001b[49m\u001b[38;5;241;43m=\u001b[39;49m\u001b[43mmodel\u001b[49m\u001b[43m,\u001b[49m\u001b[43mmax_synthesis_size\u001b[49m\u001b[38;5;241;43m=\u001b[39;49m\u001b[38;5;241;43m5\u001b[39;49m\u001b[43m)\u001b[49m\n\u001b[1;32m     10\u001b[0m \u001b[38;5;66;03m#transCirc1 = compile(Circ,model=model,max_synthesis_size=4)\u001b[39;00m\n",
      "File \u001b[0;32m~/BQSKit/lib/python3.11/site-packages/bqskit/compiler/compile.py:629\u001b[0m, in \u001b[0;36mcompile\u001b[0;34m(input, model, optimization_level, max_synthesis_size, synthesis_epsilon, error_threshold, error_sim_size, compiler, seed, with_mapping, **compiler_kwargs)\u001b[0m\n\u001b[1;32m    626\u001b[0m     in_circuit \u001b[38;5;241m=\u001b[39m Circuit(\u001b[38;5;241m1\u001b[39m)\n\u001b[1;32m    628\u001b[0m \u001b[38;5;66;03m# Perform the compilation\u001b[39;00m\n\u001b[0;32m--> 629\u001b[0m out, data \u001b[38;5;241m=\u001b[39m \u001b[43mcompiler\u001b[49m\u001b[38;5;241;43m.\u001b[39;49m\u001b[43mcompile\u001b[49m\u001b[43m(\u001b[49m\u001b[43min_circuit\u001b[49m\u001b[43m,\u001b[49m\u001b[43m \u001b[49m\u001b[43mworkflow\u001b[49m\u001b[43m,\u001b[49m\u001b[43m \u001b[49m\u001b[38;5;28;43;01mTrue\u001b[39;49;00m\u001b[43m)\u001b[49m\n\u001b[1;32m    631\u001b[0m \u001b[38;5;66;03m# Log error if necessary\u001b[39;00m\n\u001b[1;32m    632\u001b[0m \u001b[38;5;28;01mif\u001b[39;00m error_threshold \u001b[38;5;129;01mis\u001b[39;00m \u001b[38;5;129;01mnot\u001b[39;00m \u001b[38;5;28;01mNone\u001b[39;00m:\n",
      "File \u001b[0;32m~/BQSKit/lib/python3.11/site-packages/bqskit/compiler/compiler.py:420\u001b[0m, in \u001b[0;36mCompiler.compile\u001b[0;34m(self, task_or_circuit, workflow, request_data, logging_level, max_logging_depth)\u001b[0m\n\u001b[1;32m    405\u001b[0m     warnings\u001b[38;5;241m.\u001b[39mwarn(\n\u001b[1;32m    406\u001b[0m         \u001b[38;5;124m'\u001b[39m\u001b[38;5;124mManually constructing and compiling CompilationTasks\u001b[39m\u001b[38;5;124m'\u001b[39m\n\u001b[1;32m    407\u001b[0m         \u001b[38;5;124m'\u001b[39m\u001b[38;5;124m is deprecated. Instead, call compile directly with\u001b[39m\u001b[38;5;124m'\u001b[39m\n\u001b[0;32m   (...)\u001b[0m\n\u001b[1;32m    410\u001b[0m         \u001b[38;5;167;01mDeprecationWarning\u001b[39;00m,\n\u001b[1;32m    411\u001b[0m     )\n\u001b[1;32m    413\u001b[0m task_id \u001b[38;5;241m=\u001b[39m \u001b[38;5;28mself\u001b[39m\u001b[38;5;241m.\u001b[39msubmit(\n\u001b[1;32m    414\u001b[0m     task_or_circuit,\n\u001b[1;32m    415\u001b[0m     workflow,\n\u001b[0;32m   (...)\u001b[0m\n\u001b[1;32m    418\u001b[0m     max_logging_depth,\n\u001b[1;32m    419\u001b[0m )\n\u001b[0;32m--> 420\u001b[0m result \u001b[38;5;241m=\u001b[39m \u001b[38;5;28;43mself\u001b[39;49m\u001b[38;5;241;43m.\u001b[39;49m\u001b[43mresult\u001b[49m\u001b[43m(\u001b[49m\u001b[43mtask_id\u001b[49m\u001b[43m)\u001b[49m\n\u001b[1;32m    422\u001b[0m \u001b[38;5;66;03m# Ensure arrival of all log messages\u001b[39;00m\n\u001b[1;32m    423\u001b[0m time\u001b[38;5;241m.\u001b[39msleep(\u001b[38;5;241m0.05\u001b[39m \u001b[38;5;28;01mif\u001b[39;00m \u001b[38;5;28mself\u001b[39m\u001b[38;5;241m.\u001b[39mp \u001b[38;5;129;01mis\u001b[39;00m \u001b[38;5;129;01mnot\u001b[39;00m \u001b[38;5;28;01mNone\u001b[39;00m \u001b[38;5;28;01melse\u001b[39;00m \u001b[38;5;241m0.5\u001b[39m)\n",
      "File \u001b[0;32m~/BQSKit/lib/python3.11/site-packages/bqskit/compiler/compiler.py:331\u001b[0m, in \u001b[0;36mCompiler.result\u001b[0;34m(self, task_id)\u001b[0m\n\u001b[1;32m    328\u001b[0m     task_id \u001b[38;5;241m=\u001b[39m task_id\u001b[38;5;241m.\u001b[39mtask_id\n\u001b[1;32m    329\u001b[0m \u001b[38;5;28;01massert\u001b[39;00m \u001b[38;5;28misinstance\u001b[39m(task_id, uuid\u001b[38;5;241m.\u001b[39mUUID)\n\u001b[0;32m--> 331\u001b[0m msg, payload \u001b[38;5;241m=\u001b[39m \u001b[38;5;28;43mself\u001b[39;49m\u001b[38;5;241;43m.\u001b[39;49m\u001b[43m_send_recv\u001b[49m\u001b[43m(\u001b[49m\u001b[43mRuntimeMessage\u001b[49m\u001b[38;5;241;43m.\u001b[39;49m\u001b[43mREQUEST\u001b[49m\u001b[43m,\u001b[49m\u001b[43m \u001b[49m\u001b[43mtask_id\u001b[49m\u001b[43m)\u001b[49m\n\u001b[1;32m    332\u001b[0m \u001b[38;5;28;01mif\u001b[39;00m msg \u001b[38;5;241m!=\u001b[39m RuntimeMessage\u001b[38;5;241m.\u001b[39mRESULT:\n\u001b[1;32m    333\u001b[0m     \u001b[38;5;28;01mraise\u001b[39;00m \u001b[38;5;167;01mRuntimeError\u001b[39;00m(\u001b[38;5;124mf\u001b[39m\u001b[38;5;124m'\u001b[39m\u001b[38;5;124mUnexpected message type: \u001b[39m\u001b[38;5;132;01m{\u001b[39;00mmsg\u001b[38;5;132;01m}\u001b[39;00m\u001b[38;5;124m.\u001b[39m\u001b[38;5;124m'\u001b[39m)\n",
      "File \u001b[0;32m~/BQSKit/lib/python3.11/site-packages/bqskit/compiler/compiler.py:457\u001b[0m, in \u001b[0;36mCompiler._send_recv\u001b[0;34m(self, msg, payload)\u001b[0m\n\u001b[1;32m    453\u001b[0m     \u001b[38;5;28mself\u001b[39m\u001b[38;5;241m.\u001b[39m_recv_log_error_until_empty()\n\u001b[1;32m    455\u001b[0m     \u001b[38;5;28mself\u001b[39m\u001b[38;5;241m.\u001b[39mconn\u001b[38;5;241m.\u001b[39msend((msg, payload))\n\u001b[0;32m--> 457\u001b[0m     \u001b[38;5;28;01mreturn\u001b[39;00m \u001b[38;5;28;43mself\u001b[39;49m\u001b[38;5;241;43m.\u001b[39;49m\u001b[43m_recv_handle_log_error\u001b[49m\u001b[43m(\u001b[49m\u001b[43m)\u001b[49m\n\u001b[1;32m    459\u001b[0m \u001b[38;5;28;01mexcept\u001b[39;00m \u001b[38;5;167;01mException\u001b[39;00m \u001b[38;5;28;01mas\u001b[39;00m e:\n\u001b[1;32m    460\u001b[0m     \u001b[38;5;28mself\u001b[39m\u001b[38;5;241m.\u001b[39mconn \u001b[38;5;241m=\u001b[39m \u001b[38;5;28;01mNone\u001b[39;00m\n",
      "File \u001b[0;32m~/BQSKit/lib/python3.11/site-packages/bqskit/compiler/compiler.py:471\u001b[0m, in \u001b[0;36mCompiler._recv_handle_log_error\u001b[0;34m(self)\u001b[0m\n\u001b[1;32m    469\u001b[0m to_return \u001b[38;5;241m=\u001b[39m \u001b[38;5;28;01mNone\u001b[39;00m\n\u001b[1;32m    470\u001b[0m \u001b[38;5;28;01mwhile\u001b[39;00m to_return \u001b[38;5;129;01mis\u001b[39;00m \u001b[38;5;28;01mNone\u001b[39;00m \u001b[38;5;129;01mor\u001b[39;00m \u001b[38;5;28mself\u001b[39m\u001b[38;5;241m.\u001b[39mconn\u001b[38;5;241m.\u001b[39mpoll():\n\u001b[0;32m--> 471\u001b[0m     msg, payload \u001b[38;5;241m=\u001b[39m \u001b[38;5;28;43mself\u001b[39;49m\u001b[38;5;241;43m.\u001b[39;49m\u001b[43mconn\u001b[49m\u001b[38;5;241;43m.\u001b[39;49m\u001b[43mrecv\u001b[49m\u001b[43m(\u001b[49m\u001b[43m)\u001b[49m\n\u001b[1;32m    473\u001b[0m     \u001b[38;5;28;01mif\u001b[39;00m msg \u001b[38;5;241m==\u001b[39m RuntimeMessage\u001b[38;5;241m.\u001b[39mLOG:\n\u001b[1;32m    474\u001b[0m         logger \u001b[38;5;241m=\u001b[39m logging\u001b[38;5;241m.\u001b[39mgetLogger(payload\u001b[38;5;241m.\u001b[39mname)\n",
      "File \u001b[0;32m~/anaconda3/lib/python3.11/multiprocessing/connection.py:249\u001b[0m, in \u001b[0;36m_ConnectionBase.recv\u001b[0;34m(self)\u001b[0m\n\u001b[1;32m    247\u001b[0m \u001b[38;5;28mself\u001b[39m\u001b[38;5;241m.\u001b[39m_check_closed()\n\u001b[1;32m    248\u001b[0m \u001b[38;5;28mself\u001b[39m\u001b[38;5;241m.\u001b[39m_check_readable()\n\u001b[0;32m--> 249\u001b[0m buf \u001b[38;5;241m=\u001b[39m \u001b[38;5;28;43mself\u001b[39;49m\u001b[38;5;241;43m.\u001b[39;49m\u001b[43m_recv_bytes\u001b[49m\u001b[43m(\u001b[49m\u001b[43m)\u001b[49m\n\u001b[1;32m    250\u001b[0m \u001b[38;5;28;01mreturn\u001b[39;00m _ForkingPickler\u001b[38;5;241m.\u001b[39mloads(buf\u001b[38;5;241m.\u001b[39mgetbuffer())\n",
      "File \u001b[0;32m~/anaconda3/lib/python3.11/multiprocessing/connection.py:413\u001b[0m, in \u001b[0;36mConnection._recv_bytes\u001b[0;34m(self, maxsize)\u001b[0m\n\u001b[1;32m    412\u001b[0m \u001b[38;5;28;01mdef\u001b[39;00m \u001b[38;5;21m_recv_bytes\u001b[39m(\u001b[38;5;28mself\u001b[39m, maxsize\u001b[38;5;241m=\u001b[39m\u001b[38;5;28;01mNone\u001b[39;00m):\n\u001b[0;32m--> 413\u001b[0m     buf \u001b[38;5;241m=\u001b[39m \u001b[38;5;28;43mself\u001b[39;49m\u001b[38;5;241;43m.\u001b[39;49m\u001b[43m_recv\u001b[49m\u001b[43m(\u001b[49m\u001b[38;5;241;43m4\u001b[39;49m\u001b[43m)\u001b[49m\n\u001b[1;32m    414\u001b[0m     size, \u001b[38;5;241m=\u001b[39m struct\u001b[38;5;241m.\u001b[39munpack(\u001b[38;5;124m\"\u001b[39m\u001b[38;5;124m!i\u001b[39m\u001b[38;5;124m\"\u001b[39m, buf\u001b[38;5;241m.\u001b[39mgetvalue())\n\u001b[1;32m    415\u001b[0m     \u001b[38;5;28;01mif\u001b[39;00m size \u001b[38;5;241m==\u001b[39m \u001b[38;5;241m-\u001b[39m\u001b[38;5;241m1\u001b[39m:\n",
      "File \u001b[0;32m~/anaconda3/lib/python3.11/multiprocessing/connection.py:378\u001b[0m, in \u001b[0;36mConnection._recv\u001b[0;34m(self, size, read)\u001b[0m\n\u001b[1;32m    376\u001b[0m remaining \u001b[38;5;241m=\u001b[39m size\n\u001b[1;32m    377\u001b[0m \u001b[38;5;28;01mwhile\u001b[39;00m remaining \u001b[38;5;241m>\u001b[39m \u001b[38;5;241m0\u001b[39m:\n\u001b[0;32m--> 378\u001b[0m     chunk \u001b[38;5;241m=\u001b[39m read(handle, remaining)\n\u001b[1;32m    379\u001b[0m     n \u001b[38;5;241m=\u001b[39m \u001b[38;5;28mlen\u001b[39m(chunk)\n\u001b[1;32m    380\u001b[0m     \u001b[38;5;28;01mif\u001b[39;00m n \u001b[38;5;241m==\u001b[39m \u001b[38;5;241m0\u001b[39m:\n",
      "File \u001b[0;32m~/BQSKit/lib/python3.11/site-packages/bqskit/compiler/compiler.py:532\u001b[0m, in \u001b[0;36msigint_handler\u001b[0;34m(signum, frame, compiler)\u001b[0m\n\u001b[1;32m    530\u001b[0m _logger\u001b[38;5;241m.\u001b[39mcritical(\u001b[38;5;124m'\u001b[39m\u001b[38;5;124mCompiler interrupted.\u001b[39m\u001b[38;5;124m'\u001b[39m)\n\u001b[1;32m    531\u001b[0m compiler\u001b[38;5;241m.\u001b[39mclose()\n\u001b[0;32m--> 532\u001b[0m \u001b[38;5;28;01mraise\u001b[39;00m \u001b[38;5;167;01mKeyboardInterrupt\u001b[39;00m\n",
      "\u001b[0;31mKeyboardInterrupt\u001b[0m: "
     ]
    }
   ],
   "source": [
    "###Transpilation to a CZ gate set...\n",
    "\n",
    "gate_set={CZGate(), RZGate(), SXGate()}\n",
    "\n",
    "gate_set =  {VariableUnitaryGate(2),VariableUnitaryGate(1)}\n",
    "\n",
    "\n",
    "model = MachineModel(Circ.num_qudits, gate_set=gate_set)\n",
    "transCirc1 = compile(Circ,model=model,max_synthesis_size=5)\n",
    "#transCirc1 = compile(Circ,model=model,max_synthesis_size=4)\n",
    "\n"
   ]
  },
  {
   "cell_type": "markdown",
   "id": "ba4e914a-610b-4ae5-b37e-0a41a6eef2e9",
   "metadata": {},
   "source": [
    "# Post-processing generalized-gated circuit"
   ]
  },
  {
   "cell_type": "code",
   "execution_count": null,
   "id": "a3297f64-e426-4898-b725-088c243d6d7f",
   "metadata": {},
   "outputs": [],
   "source": []
  },
  {
   "cell_type": "code",
   "execution_count": 123,
   "id": "a5e4d600-2446-481d-a829-40cf14f4c006",
   "metadata": {},
   "outputs": [],
   "source": [
    "###This circuit was compiled in cluster but it is feasible to do the calculations in a laptop, the issue\n",
    "#is to perform the compilation to a gate set. Exploring fast approaches for the compilation\n",
    "\n",
    "\n",
    "with open('../Tap_synthesis/Qfast/outputs/2spinTapSynt_rel.pk','rb') as file:\n",
    "    data = pickle.load(file)\n"
   ]
  },
  {
   "cell_type": "code",
   "execution_count": 126,
   "id": "06e31233-0933-437a-b201-0a4b47663e88",
   "metadata": {},
   "outputs": [],
   "source": [
    "twospincirc = data['circuit']"
   ]
  },
  {
   "cell_type": "code",
   "execution_count": 127,
   "id": "ed54572e-cfc0-4b24-8f30-37190bfd6858",
   "metadata": {},
   "outputs": [
    {
     "data": {
      "text/plain": [
       "51"
      ]
     },
     "execution_count": 127,
     "metadata": {},
     "output_type": "execute_result"
    }
   ],
   "source": [
    "twospincirc.depth"
   ]
  },
  {
   "cell_type": "code",
   "execution_count": 132,
   "id": "7f731a33-ef2d-4cb5-9b1e-b5d771a75552",
   "metadata": {},
   "outputs": [
    {
     "name": "stdout",
     "output_type": "stream",
     "text": [
      "09:51:43.683 - INFO     | bqskit.passes.measure: Extracting measurements from circuit.\n"
     ]
    },
    {
     "name": "stderr",
     "output_type": "stream",
     "text": [
      "INFO - Extracting measurements from circuit.\n"
     ]
    },
    {
     "name": "stdout",
     "output_type": "stream",
     "text": [
      "09:51:43.684 - INFO     | bqskit.passes.util.log: Retargeting multi-qudit gates.\n"
     ]
    },
    {
     "name": "stderr",
     "output_type": "stream",
     "text": [
      "INFO - Retargeting multi-qudit gates.\n"
     ]
    },
    {
     "name": "stdout",
     "output_type": "stream",
     "text": [
      "09:54:02.469 - INFO     | bqskit.passes.util.log: Mapping circuit.\n"
     ]
    },
    {
     "name": "stderr",
     "output_type": "stream",
     "text": [
      "INFO - Mapping circuit.\n"
     ]
    },
    {
     "name": "stdout",
     "output_type": "stream",
     "text": [
      "09:54:02.469 - INFO     | bqskit.passes.mapping.placement.greedy: Placed qudits on [0, 1, 2, 3, 4]\n"
     ]
    },
    {
     "name": "stderr",
     "output_type": "stream",
     "text": [
      "INFO - Placed qudits on [0, 1, 2, 3, 4]\n"
     ]
    },
    {
     "name": "stdout",
     "output_type": "stream",
     "text": [
      "09:54:02.525 - INFO     | bqskit.passes.mapping.layout.sabre: Found layout: [0, 1, 2, 3, 4], new placement: [0, 1, 2, 3, 4]\n"
     ]
    },
    {
     "name": "stderr",
     "output_type": "stream",
     "text": [
      "INFO - Found layout: [0, 1, 2, 3, 4], new placement: [0, 1, 2, 3, 4]\n"
     ]
    },
    {
     "name": "stdout",
     "output_type": "stream",
     "text": [
      "09:54:02.660 - INFO     | bqskit.passes.mapping.routing.sabre: Finished routing with layout: [0, 1, 2, 3, 4]\n"
     ]
    },
    {
     "name": "stderr",
     "output_type": "stream",
     "text": [
      "INFO - Finished routing with layout: [0, 1, 2, 3, 4]\n"
     ]
    },
    {
     "name": "stdout",
     "output_type": "stream",
     "text": [
      "09:54:02.660 - INFO     | bqskit.passes.util.log: Retargeting multi-qudit gates.\n"
     ]
    },
    {
     "name": "stderr",
     "output_type": "stream",
     "text": [
      "INFO - Retargeting multi-qudit gates.\n"
     ]
    },
    {
     "name": "stdout",
     "output_type": "stream",
     "text": [
      "09:54:21.804 - INFO     | bqskit.passes.util.log: Attempting to delete gates.\n"
     ]
    },
    {
     "name": "stderr",
     "output_type": "stream",
     "text": [
      "INFO - Attempting to delete gates.\n"
     ]
    },
    {
     "name": "stdout",
     "output_type": "stream",
     "text": [
      "09:54:52.546 - INFO     | bqskit.passes.util.log: Upper bound on error is 0.0.\n"
     ]
    },
    {
     "name": "stderr",
     "output_type": "stream",
     "text": [
      "INFO - Upper bound on error is 0.0.\n"
     ]
    },
    {
     "name": "stdout",
     "output_type": "stream",
     "text": [
      "09:54:52.601 - INFO     | bqskit.passes.measure: Restoring measurements to circuit.\n"
     ]
    },
    {
     "name": "stderr",
     "output_type": "stream",
     "text": [
      "INFO - Restoring measurements to circuit.\n"
     ]
    }
   ],
   "source": [
    "out_circ = compile(twospincirc, optimization_level=2)"
   ]
  },
  {
   "cell_type": "code",
   "execution_count": 131,
   "id": "8500ae72-ad05-4936-987a-b7ffc326b136",
   "metadata": {},
   "outputs": [
    {
     "data": {
      "text/plain": [
       "485"
      ]
     },
     "execution_count": 131,
     "metadata": {},
     "output_type": "execute_result"
    }
   ],
   "source": [
    "out_circ.depth"
   ]
  },
  {
   "cell_type": "code",
   "execution_count": 133,
   "id": "f789d170-4619-40f4-9bd9-6bbe4b7ee3c3",
   "metadata": {},
   "outputs": [
    {
     "data": {
      "text/plain": [
       "456"
      ]
     },
     "execution_count": 133,
     "metadata": {},
     "output_type": "execute_result"
    }
   ],
   "source": [
    "out_circ.depth"
   ]
  },
  {
   "cell_type": "code",
   "execution_count": 142,
   "id": "9f36ed40-5fb3-459d-8e68-1a3aa65f1361",
   "metadata": {},
   "outputs": [
    {
     "name": "stdout",
     "output_type": "stream",
     "text": [
      "10:39:02.811 - INFO     | bqskit.passes.measure: Extracting measurements from circuit.\n"
     ]
    },
    {
     "name": "stderr",
     "output_type": "stream",
     "text": [
      "INFO - Extracting measurements from circuit.\n"
     ]
    },
    {
     "name": "stdout",
     "output_type": "stream",
     "text": [
      "10:39:02.811 - INFO     | bqskit.passes.util.log: Retargeting multi-qudit gates.\n"
     ]
    },
    {
     "name": "stderr",
     "output_type": "stream",
     "text": [
      "INFO - Retargeting multi-qudit gates.\n"
     ]
    },
    {
     "name": "stdout",
     "output_type": "stream",
     "text": [
      "10:39:51.988 - INFO     | bqskit.passes.util.log: Mapping circuit.\n"
     ]
    },
    {
     "name": "stderr",
     "output_type": "stream",
     "text": [
      "INFO - Mapping circuit.\n"
     ]
    },
    {
     "name": "stdout",
     "output_type": "stream",
     "text": [
      "10:39:51.988 - INFO     | bqskit.passes.mapping.placement.greedy: Placed qudits on [0, 1, 2, 3, 4]\n"
     ]
    },
    {
     "name": "stderr",
     "output_type": "stream",
     "text": [
      "INFO - Placed qudits on [0, 1, 2, 3, 4]\n"
     ]
    },
    {
     "name": "stdout",
     "output_type": "stream",
     "text": [
      "10:39:52.030 - INFO     | bqskit.passes.mapping.layout.sabre: Found layout: [0, 1, 2, 3, 4], new placement: [0, 1, 2, 3, 4]\n"
     ]
    },
    {
     "name": "stderr",
     "output_type": "stream",
     "text": [
      "INFO - Found layout: [0, 1, 2, 3, 4], new placement: [0, 1, 2, 3, 4]\n"
     ]
    },
    {
     "name": "stdout",
     "output_type": "stream",
     "text": [
      "10:39:52.104 - INFO     | bqskit.passes.mapping.routing.sabre: Finished routing with layout: [0, 1, 2, 3, 4]\n"
     ]
    },
    {
     "name": "stderr",
     "output_type": "stream",
     "text": [
      "INFO - Finished routing with layout: [0, 1, 2, 3, 4]\n"
     ]
    },
    {
     "name": "stdout",
     "output_type": "stream",
     "text": [
      "10:39:52.104 - INFO     | bqskit.passes.util.log: Retargeting multi-qudit gates.\n"
     ]
    },
    {
     "name": "stderr",
     "output_type": "stream",
     "text": [
      "INFO - Retargeting multi-qudit gates.\n"
     ]
    },
    {
     "name": "stdout",
     "output_type": "stream",
     "text": [
      "10:39:57.476 - INFO     | bqskit.passes.util.log: Retargeting single-qudit gates.\n"
     ]
    },
    {
     "name": "stderr",
     "output_type": "stream",
     "text": [
      "INFO - Retargeting single-qudit gates.\n"
     ]
    },
    {
     "name": "stdout",
     "output_type": "stream",
     "text": [
      "10:39:58.812 - INFO     | bqskit.passes.util.log: Upper bound on error is 0.0.\n"
     ]
    },
    {
     "name": "stderr",
     "output_type": "stream",
     "text": [
      "INFO - Upper bound on error is 0.0.\n"
     ]
    },
    {
     "name": "stdout",
     "output_type": "stream",
     "text": [
      "10:39:58.995 - INFO     | bqskit.passes.measure: Restoring measurements to circuit.\n"
     ]
    },
    {
     "name": "stderr",
     "output_type": "stream",
     "text": [
      "INFO - Restoring measurements to circuit.\n"
     ]
    }
   ],
   "source": [
    "from bqskit.ir.gates import CZGate, RZGate, SXGate\n",
    "gate_set = {CZGate(), RZGate(), SXGate()} \n",
    "\n",
    "# Build a MachineModel with this gate set\n",
    "# and the same number of qubits as the circuit\n",
    "from bqskit import MachineModel\n",
    "model = MachineModel(twospincirc.num_qudits, gate_set=gate_set)\n",
    "\n",
    "# Compile again and print new gate counts\n",
    "out_circuit = compile(twospincirc,model=model)"
   ]
  },
  {
   "cell_type": "code",
   "execution_count": 145,
   "id": "e2bf3d57-1845-4fe0-954d-2c99f3bbc188",
   "metadata": {},
   "outputs": [
    {
     "data": {
      "text/plain": [
       "456"
      ]
     },
     "execution_count": 145,
     "metadata": {},
     "output_type": "execute_result"
    }
   ],
   "source": [
    "out_circ.depth"
   ]
  },
  {
   "cell_type": "code",
   "execution_count": 150,
   "id": "73dc5c71-5f66-48a0-8d4a-6f53fa3a5ba4",
   "metadata": {},
   "outputs": [
    {
     "name": "stdout",
     "output_type": "stream",
     "text": [
      "10:45:46.673 - INFO     | bqskit.passes.measure: Extracting measurements from circuit.\n"
     ]
    },
    {
     "name": "stderr",
     "output_type": "stream",
     "text": [
      "INFO - Extracting measurements from circuit.\n"
     ]
    },
    {
     "name": "stdout",
     "output_type": "stream",
     "text": [
      "10:45:46.674 - INFO     | bqskit.passes.util.log: Retargeting multi-qudit gates.\n"
     ]
    },
    {
     "name": "stderr",
     "output_type": "stream",
     "text": [
      "INFO - Retargeting multi-qudit gates.\n"
     ]
    },
    {
     "name": "stdout",
     "output_type": "stream",
     "text": [
      "10:47:26.535 - INFO     | bqskit.passes.util.log: Mapping circuit.\n"
     ]
    },
    {
     "name": "stderr",
     "output_type": "stream",
     "text": [
      "INFO - Mapping circuit.\n"
     ]
    },
    {
     "name": "stdout",
     "output_type": "stream",
     "text": [
      "10:47:26.535 - INFO     | bqskit.passes.mapping.placement.greedy: Placed qudits on [0, 1, 2, 3, 4]\n"
     ]
    },
    {
     "name": "stderr",
     "output_type": "stream",
     "text": [
      "INFO - Placed qudits on [0, 1, 2, 3, 4]\n"
     ]
    },
    {
     "name": "stdout",
     "output_type": "stream",
     "text": [
      "10:47:26.575 - INFO     | bqskit.passes.mapping.layout.sabre: Found layout: [0, 1, 2, 3, 4], new placement: [0, 1, 2, 3, 4]\n"
     ]
    },
    {
     "name": "stderr",
     "output_type": "stream",
     "text": [
      "INFO - Found layout: [0, 1, 2, 3, 4], new placement: [0, 1, 2, 3, 4]\n"
     ]
    },
    {
     "name": "stdout",
     "output_type": "stream",
     "text": [
      "10:47:26.649 - INFO     | bqskit.passes.mapping.routing.sabre: Finished routing with layout: [0, 1, 2, 3, 4]\n"
     ]
    },
    {
     "name": "stderr",
     "output_type": "stream",
     "text": [
      "INFO - Finished routing with layout: [0, 1, 2, 3, 4]\n"
     ]
    },
    {
     "name": "stdout",
     "output_type": "stream",
     "text": [
      "10:47:26.649 - INFO     | bqskit.passes.util.log: Retargeting multi-qudit gates.\n"
     ]
    },
    {
     "name": "stderr",
     "output_type": "stream",
     "text": [
      "INFO - Retargeting multi-qudit gates.\n"
     ]
    },
    {
     "name": "stdout",
     "output_type": "stream",
     "text": [
      "10:47:41.112 - INFO     | bqskit.passes.util.log: Retargeting single-qudit gates.\n"
     ]
    },
    {
     "name": "stderr",
     "output_type": "stream",
     "text": [
      "INFO - Retargeting single-qudit gates.\n"
     ]
    },
    {
     "name": "stdout",
     "output_type": "stream",
     "text": [
      "10:47:42.497 - INFO     | bqskit.passes.util.log: Attempting to delete gates.\n"
     ]
    },
    {
     "name": "stderr",
     "output_type": "stream",
     "text": [
      "INFO - Attempting to delete gates.\n"
     ]
    },
    {
     "name": "stdout",
     "output_type": "stream",
     "text": [
      "10:50:13.673 - INFO     | bqskit.passes.util.log: Upper bound on error is 0.0.\n"
     ]
    },
    {
     "name": "stderr",
     "output_type": "stream",
     "text": [
      "INFO - Upper bound on error is 0.0.\n"
     ]
    },
    {
     "name": "stdout",
     "output_type": "stream",
     "text": [
      "10:50:13.834 - INFO     | bqskit.passes.measure: Restoring measurements to circuit.\n"
     ]
    },
    {
     "name": "stderr",
     "output_type": "stream",
     "text": [
      "INFO - Restoring measurements to circuit.\n"
     ]
    }
   ],
   "source": [
    "test_comp = compile(twospincirc,model=m odel,optimization_level=2)"
   ]
  },
  {
   "cell_type": "code",
   "execution_count": 149,
   "id": "36ff88ac-bb66-49a2-b53b-26188d9ea80d",
   "metadata": {},
   "outputs": [
    {
     "data": {
      "text/plain": [
       "1319"
      ]
     },
     "execution_count": 149,
     "metadata": {},
     "output_type": "execute_result"
    }
   ],
   "source": [
    "test_comp.depth"
   ]
  },
  {
   "cell_type": "code",
   "execution_count": 151,
   "id": "33e54914-f693-4b6b-8df9-3982ebacfb23",
   "metadata": {},
   "outputs": [
    {
     "data": {
      "text/plain": [
       "1076"
      ]
     },
     "execution_count": 151,
     "metadata": {},
     "output_type": "execute_result"
    }
   ],
   "source": [
    "test_comp.depth"
   ]
  },
  {
   "cell_type": "code",
   "execution_count": 157,
   "id": "7ac822d3-98fe-421c-9634-3ece940a894a",
   "metadata": {},
   "outputs": [],
   "source": [
    "import qiskit\n",
    "from bqskit.ext import qiskit_to_bqskit"
   ]
  },
  {
   "cell_type": "code",
   "execution_count": 158,
   "id": "83d10ab6-3dbb-445d-a147-54af1922311c",
   "metadata": {},
   "outputs": [],
   "source": [
    "#####Comparison with a straightforward bqskit compilation scheme...\n",
    "QisCircQs = qiskit.synthesis.qs_decomposition(EmbUn)\n",
    "bqskit_circuit = qiskit_to_bqskit(QisCircQs)\n",
    "#from bqskit.ext import qiskit_to_bqskit\n"
   ]
  },
  {
   "cell_type": "code",
   "execution_count": 160,
   "id": "39b1abe0-28fc-45c5-9c00-e182f2f5e37f",
   "metadata": {},
   "outputs": [
    {
     "name": "stdout",
     "output_type": "stream",
     "text": [
      "10:54:19.998 - INFO     | bqskit.passes.measure: Extracting measurements from circuit.\n"
     ]
    },
    {
     "name": "stderr",
     "output_type": "stream",
     "text": [
      "INFO - Extracting measurements from circuit.\n"
     ]
    },
    {
     "name": "stdout",
     "output_type": "stream",
     "text": [
      "10:54:20.003 - INFO     | bqskit.passes.util.log: Retargeting multi-qudit gates.\n"
     ]
    },
    {
     "name": "stderr",
     "output_type": "stream",
     "text": [
      "INFO - Retargeting multi-qudit gates.\n"
     ]
    },
    {
     "name": "stdout",
     "output_type": "stream",
     "text": [
      "10:54:38.495 - INFO     | bqskit.passes.util.log: Mapping circuit.\n"
     ]
    },
    {
     "name": "stderr",
     "output_type": "stream",
     "text": [
      "INFO - Mapping circuit.\n"
     ]
    },
    {
     "name": "stdout",
     "output_type": "stream",
     "text": [
      "10:54:38.495 - INFO     | bqskit.passes.mapping.placement.greedy: Placed qudits on [0, 1, 2, 3, 4]\n"
     ]
    },
    {
     "name": "stderr",
     "output_type": "stream",
     "text": [
      "INFO - Placed qudits on [0, 1, 2, 3, 4]\n"
     ]
    },
    {
     "name": "stdout",
     "output_type": "stream",
     "text": [
      "10:54:38.583 - INFO     | bqskit.passes.mapping.layout.sabre: Found layout: [0, 1, 2, 3, 4], new placement: [0, 1, 2, 3, 4]\n"
     ]
    },
    {
     "name": "stderr",
     "output_type": "stream",
     "text": [
      "INFO - Found layout: [0, 1, 2, 3, 4], new placement: [0, 1, 2, 3, 4]\n"
     ]
    },
    {
     "name": "stdout",
     "output_type": "stream",
     "text": [
      "10:54:38.769 - INFO     | bqskit.passes.mapping.routing.sabre: Finished routing with layout: [0, 1, 2, 3, 4]\n"
     ]
    },
    {
     "name": "stderr",
     "output_type": "stream",
     "text": [
      "INFO - Finished routing with layout: [0, 1, 2, 3, 4]\n"
     ]
    },
    {
     "name": "stdout",
     "output_type": "stream",
     "text": [
      "10:54:38.769 - INFO     | bqskit.passes.util.log: Retargeting multi-qudit gates.\n"
     ]
    },
    {
     "name": "stderr",
     "output_type": "stream",
     "text": [
      "INFO - Retargeting multi-qudit gates.\n"
     ]
    },
    {
     "name": "stdout",
     "output_type": "stream",
     "text": [
      "10:54:59.979 - INFO     | bqskit.passes.util.log: Retargeting single-qudit gates.\n"
     ]
    },
    {
     "name": "stderr",
     "output_type": "stream",
     "text": [
      "INFO - Retargeting single-qudit gates.\n"
     ]
    },
    {
     "name": "stdout",
     "output_type": "stream",
     "text": [
      "10:55:02.850 - INFO     | bqskit.passes.util.log: Attempting to delete gates.\n"
     ]
    },
    {
     "name": "stderr",
     "output_type": "stream",
     "text": [
      "INFO - Attempting to delete gates.\n"
     ]
    },
    {
     "name": "stdout",
     "output_type": "stream",
     "text": [
      "11:00:30.705 - INFO     | bqskit.passes.util.log: Upper bound on error is 0.0.\n"
     ]
    },
    {
     "name": "stderr",
     "output_type": "stream",
     "text": [
      "INFO - Upper bound on error is 0.0.\n"
     ]
    },
    {
     "name": "stdout",
     "output_type": "stream",
     "text": [
      "11:00:31.032 - INFO     | bqskit.passes.measure: Restoring measurements to circuit.\n"
     ]
    },
    {
     "name": "stderr",
     "output_type": "stream",
     "text": [
      "INFO - Restoring measurements to circuit.\n"
     ]
    }
   ],
   "source": [
    "CZgateQis = compile(bqskit_circuit,model=model,optimization_level=2)"
   ]
  },
  {
   "cell_type": "code",
   "execution_count": 161,
   "id": "9a52703b-b7db-4ddd-bf80-1df1fcb49679",
   "metadata": {},
   "outputs": [
    {
     "data": {
      "text/plain": [
       "2169"
      ]
     },
     "execution_count": 161,
     "metadata": {},
     "output_type": "execute_result"
    }
   ],
   "source": [
    "CZgateQis.depth"
   ]
  },
  {
   "cell_type": "code",
   "execution_count": null,
   "id": "02d20d26-fe8e-4b84-be89-e851ae506508",
   "metadata": {},
   "outputs": [],
   "source": []
  },
  {
   "cell_type": "code",
   "execution_count": null,
   "id": "0997e383-3c1a-457e-9e51-0265ebeb296d",
   "metadata": {},
   "outputs": [],
   "source": []
  },
  {
   "cell_type": "code",
   "execution_count": null,
   "id": "ae1ba605-7863-427d-a90b-81779a4c9087",
   "metadata": {},
   "outputs": [],
   "source": []
  },
  {
   "cell_type": "code",
   "execution_count": null,
   "id": "f2f83266-a087-486b-a143-319642ab841d",
   "metadata": {},
   "outputs": [],
   "source": []
  },
  {
   "cell_type": "code",
   "execution_count": null,
   "id": "e2b31f4e-57e9-4f73-b559-b65bc97c258c",
   "metadata": {},
   "outputs": [],
   "source": []
  },
  {
   "cell_type": "code",
   "execution_count": null,
   "id": "8644b157-9f69-4afa-aa98-925c887b78e1",
   "metadata": {},
   "outputs": [],
   "source": []
  },
  {
   "cell_type": "markdown",
   "id": "35c167f2-7c4f-48f3-a070-5c0265f8ab08",
   "metadata": {},
   "source": [
    "# Targeting the compilation of the 3 spin system"
   ]
  },
  {
   "cell_type": "code",
   "execution_count": null,
   "id": "9891b469-434a-42f8-a872-115142aef0d6",
   "metadata": {},
   "outputs": [],
   "source": [
    "'../data/alanineNMRdata_withrelaxation.mat'"
   ]
  },
  {
   "cell_type": "code",
   "execution_count": null,
   "id": "c825bb34-5ea7-4878-aa4e-b3c8a5928a0c",
   "metadata": {},
   "outputs": [],
   "source": [
    "loadMat = spio.loadmat('../data/alanineNMRdata_withrelaxation.mat',squeeze_me=True)\n",
    "\n",
    "Ham = loadMat['p']['H'].item()\n",
    "R = loadMat['p']['R'].item()\n",
    "t_grid = loadMat['p']['time_grid1'].item()\n",
    "\n",
    "TimeGen = (-1j*Ham+R)*t_grid[t_idx]\n",
    "ExpGen = expm(TimeGen)\n",
    "\n",
    "####Embedding in unitary...\n",
    "\n",
    "EmbUn7 = EmbedInU(ExpGen)\n",
    "\n",
    "#nqubs = 4\n",
    "#SubU = np.copy(EmbUn[0:2**nqubs,0:2**nqubs])\n",
    "\n",
    "#SubEmbU = EmbedInU(SubU)\n",
    "\n",
    "\n",
    "#in_circuit = Circuit.from_unitary(SubEmbU)\n",
    "#in_circuit = Circuit.from_unitary(EmbUn7)\n"
   ]
  },
  {
   "cell_type": "code",
   "execution_count": null,
   "id": "325d7dba-d097-4f7f-bca0-3212e1ee9e90",
   "metadata": {},
   "outputs": [],
   "source": []
  },
  {
   "cell_type": "code",
   "execution_count": null,
   "id": "177b7775-6a31-4030-b917-724eb4ae43f8",
   "metadata": {},
   "outputs": [],
   "source": []
  },
  {
   "cell_type": "code",
   "execution_count": null,
   "id": "0176381e-0ada-4a7a-9ecc-2f33e453021f",
   "metadata": {},
   "outputs": [],
   "source": []
  },
  {
   "cell_type": "code",
   "execution_count": null,
   "id": "0b9214ed-23db-4207-8a3e-057418e7ce89",
   "metadata": {},
   "outputs": [],
   "source": []
  },
  {
   "cell_type": "code",
   "execution_count": null,
   "id": "54c22bcc-9249-4455-a73f-6ed9ab0861ec",
   "metadata": {},
   "outputs": [],
   "source": []
  },
  {
   "cell_type": "code",
   "execution_count": null,
   "id": "bfb7ca73-dd08-435e-80ed-09e7c610efcc",
   "metadata": {},
   "outputs": [],
   "source": []
  },
  {
   "cell_type": "code",
   "execution_count": null,
   "id": "31321a3d-fa8a-478b-9a2e-44f166eb1ad0",
   "metadata": {},
   "outputs": [],
   "source": []
  },
  {
   "cell_type": "code",
   "execution_count": 27,
   "id": "a200435f-8002-46ea-bf32-4d88063e9134",
   "metadata": {},
   "outputs": [],
   "source": [
    "###Saving circuit...\n",
    "Dict= {}\n",
    "\n",
    "Dict['circ']=out_circuit\n",
    "\n",
    "with open('./outputs/2spin_relaxacc.pk', 'wb') as handle:\n",
    "    pickle.dump(Dict, handle)\n",
    "\n"
   ]
  },
  {
   "cell_type": "code",
   "execution_count": 32,
   "id": "ea46b58c-4980-4b60-a535-28fb63af4dbe",
   "metadata": {},
   "outputs": [
    {
     "name": "stdout",
     "output_type": "stream",
     "text": [
      "13:42:17.518 - INFO     | bqskit.passes.measure: Extracting measurements from circuit.\n",
      "13:42:17.518 - INFO     | bqskit.passes.util.log: Retargeting multi-qudit gates.\n",
      "13:42:57.636 - INFO     | bqskit.passes.util.log: Mapping circuit.\n",
      "13:42:57.638 - INFO     | bqskit.passes.mapping.placement.greedy: Placed qudits on [0, 1, 2, 3, 4]\n",
      "13:42:57.646 - INFO     | bqskit.passes.mapping.layout.sabre: Found layout: [0, 1, 2, 3, 4], new placement: [0, 1, 2, 3, 4]\n",
      "13:42:57.663 - INFO     | bqskit.passes.mapping.routing.sabre: Finished routing with layout: [0, 1, 2, 3, 4]\n",
      "13:42:57.663 - INFO     | bqskit.passes.util.log: Retargeting multi-qudit gates.\n",
      "13:43:00.580 - INFO     | bqskit.passes.util.log: Retargeting single-qudit gates.\n",
      "13:43:00.810 - INFO     | bqskit.passes.util.log: Upper bound on error is 0.0.\n",
      "13:43:00.837 - INFO     | bqskit.passes.measure: Restoring measurements to circuit.\n"
     ]
    }
   ],
   "source": [
    "####Aiming to convert the circuit in a unitary:\n",
    "from bqskit.ir.gates import CZGate, RZGate, SXGate\n",
    "from bqskit import MachineModel\n",
    "from bqskit import compile\n",
    "\n",
    "gate_set = {CZGate(), RZGate(), SXGate()} \n",
    "model = MachineModel(out_circuit.num_qudits, gate_set=gate_set)\n",
    "\n",
    "# Compile again and print new gate counts\n",
    "gateset_circuit = compile(out_circuit, model=model)\n",
    "\n"
   ]
  },
  {
   "cell_type": "code",
   "execution_count": 33,
   "id": "c67ec25e-0c21-45a4-9370-356c22fb8300",
   "metadata": {},
   "outputs": [
    {
     "data": {
      "text/plain": [
       "227"
      ]
     },
     "execution_count": 33,
     "metadata": {},
     "output_type": "execute_result"
    }
   ],
   "source": [
    "gateset_circuit.depth"
   ]
  },
  {
   "cell_type": "code",
   "execution_count": 50,
   "id": "3d53e896-8670-407f-b59f-fafb045ce4fd",
   "metadata": {},
   "outputs": [],
   "source": [
    "unit,grad= gateset_circuit.get_unitary_and_grad()\n",
    "unit=np.array(unit)\n",
    "refunit,grad = in_circuit.get_unitary_and_grad()\n",
    "refunit = np.array(refunit)"
   ]
  },
  {
   "cell_type": "code",
   "execution_count": 45,
   "id": "5e7d5326-bf15-419f-85ea-e2fcadf58020",
   "metadata": {},
   "outputs": [],
   "source": [
    "refunit,grad = in_circuit.get_unitary_and_grad()"
   ]
  },
  {
   "cell_type": "code",
   "execution_count": 51,
   "id": "02d92dc1-96f4-4367-a419-3c3dcc4a8fbc",
   "metadata": {},
   "outputs": [
    {
     "data": {
      "text/plain": [
       "10.430902049930136"
      ]
     },
     "execution_count": 51,
     "metadata": {},
     "output_type": "execute_result"
    }
   ],
   "source": [
    "np.linalg.norm(unit-refunit)"
   ]
  },
  {
   "cell_type": "code",
   "execution_count": 54,
   "id": "f0057d5d-8e15-4e00-b139-de7cb847ce84",
   "metadata": {},
   "outputs": [],
   "source": [
    "prod = unit.conjugate().T@refunit"
   ]
  },
  {
   "cell_type": "code",
   "execution_count": 55,
   "id": "cc121496-803f-4b49-8992-1a16fdf6eba8",
   "metadata": {},
   "outputs": [
    {
     "data": {
      "text/plain": [
       "(-0.7213681611552899+0.6790325278700529j)"
      ]
     },
     "execution_count": 55,
     "metadata": {},
     "output_type": "execute_result"
    }
   ],
   "source": [
    "prod[0,0]"
   ]
  },
  {
   "cell_type": "code",
   "execution_count": 59,
   "id": "782cb6bd-a377-4889-bf43-d8d88c5bde2f",
   "metadata": {},
   "outputs": [
    {
     "data": {
      "text/plain": [
       "(-0.6486151979971866+0.7591583683639309j)"
      ]
     },
     "execution_count": 59,
     "metadata": {},
     "output_type": "execute_result"
    }
   ],
   "source": [
    "prod[4,4]"
   ]
  },
  {
   "cell_type": "code",
   "execution_count": 60,
   "id": "2d0f7f28-997b-4375-9ac4-eebdae13adec",
   "metadata": {},
   "outputs": [
    {
     "data": {
      "text/plain": [
       "\u001b[0;31mInit signature:\u001b[0m\n",
       "\u001b[0mCompiler\u001b[0m\u001b[0;34m(\u001b[0m\u001b[0;34m\u001b[0m\n",
       "\u001b[0;34m\u001b[0m    \u001b[0mip\u001b[0m\u001b[0;34m:\u001b[0m \u001b[0;34m'str | None'\u001b[0m \u001b[0;34m=\u001b[0m \u001b[0;32mNone\u001b[0m\u001b[0;34m,\u001b[0m\u001b[0;34m\u001b[0m\n",
       "\u001b[0;34m\u001b[0m    \u001b[0mport\u001b[0m\u001b[0;34m:\u001b[0m \u001b[0;34m'int'\u001b[0m \u001b[0;34m=\u001b[0m \u001b[0;36m7472\u001b[0m\u001b[0;34m,\u001b[0m\u001b[0;34m\u001b[0m\n",
       "\u001b[0;34m\u001b[0m    \u001b[0mnum_workers\u001b[0m\u001b[0;34m:\u001b[0m \u001b[0;34m'int'\u001b[0m \u001b[0;34m=\u001b[0m \u001b[0;34m-\u001b[0m\u001b[0;36m1\u001b[0m\u001b[0;34m,\u001b[0m\u001b[0;34m\u001b[0m\n",
       "\u001b[0;34m\u001b[0m    \u001b[0mruntime_log_level\u001b[0m\u001b[0;34m:\u001b[0m \u001b[0;34m'int'\u001b[0m \u001b[0;34m=\u001b[0m \u001b[0;36m30\u001b[0m\u001b[0;34m,\u001b[0m\u001b[0;34m\u001b[0m\n",
       "\u001b[0;34m\u001b[0m    \u001b[0mworker_port\u001b[0m\u001b[0;34m:\u001b[0m \u001b[0;34m'int'\u001b[0m \u001b[0;34m=\u001b[0m \u001b[0;36m7474\u001b[0m\u001b[0;34m,\u001b[0m\u001b[0;34m\u001b[0m\n",
       "\u001b[0;34m\u001b[0m\u001b[0;34m)\u001b[0m \u001b[0;34m->\u001b[0m \u001b[0;34m'None'\u001b[0m\u001b[0;34m\u001b[0m\u001b[0;34m\u001b[0m\u001b[0m\n",
       "\u001b[0;31mDocstring:\u001b[0m     \n",
       "A compiler is responsible for accepting and managing compilation tasks.\n",
       "\n",
       "The compiler class either spins up a parallel runtime or connects to\n",
       "a distributed one, which compilation tasks can then access to\n",
       "parallelize their operations. The compiler is implemented as a\n",
       "context manager and it is recommended to use it as one. If the\n",
       "compiler is not used in a context manager, it is the responsibility\n",
       "of the user to call `close()`.\n",
       "\n",
       "Examples:\n",
       "    1. Use in a context manager:\n",
       "    >>> with Compiler() as compiler:\n",
       "    ...     circuit = compiler.compile(circuit, workflow)\n",
       "\n",
       "    2. Use compiler without context manager:\n",
       "    >>> compiler = Compiler()\n",
       "    >>> circuit = compiler.compile(circuit, workflow)\n",
       "    >>> compiler.close()\n",
       "\n",
       "    3. Connect to an already running distributed runtime:\n",
       "    >>> with Compiler('localhost') as compiler:\n",
       "    ...     circuit = compiler.compile(circuit, workflow)\n",
       "\n",
       "    4. Start and attach to a runtime with 4 worker processes:\n",
       "    >>> with Compiler(num_workers=4) as compiler:\n",
       "    ...     circuit = compiler.compile(circuit, workflow)\n",
       "\u001b[0;31mInit docstring:\u001b[0m\n",
       "Construct a Compiler object.\n",
       "\n",
       "This will either spawn a parallel runtime if `ip` is None, or\n",
       "attempt to connect to a distributed one if `ip` is provided.\n",
       "\n",
       "Args:\n",
       "    ip (str | None): If left as None, spawn a parallel runtime,\n",
       "        otherwise attempt a connection with an already running\n",
       "        runtime at this address. Defaults to None.\n",
       "\n",
       "    port (int): The port where a runtime is expected to be\n",
       "        listening.\n",
       "\n",
       "    num_workers (int): The number of workers to spawn. Ignored\n",
       "        if `ip` is None. If negative spawn as many workers as\n",
       "        cpus on the system. (Defaults to -1)\n",
       "\n",
       "    runtime_log_level (int): The runtime's logging level. This\n",
       "        is separate from the compilation logging. If you would\n",
       "        like logs from your compilation workflow, that setting\n",
       "        is set during task creation in :func:`compiler.compile`\n",
       "        or :func:`compiler.submit`.\n",
       "\n",
       "    worker_port (int): The optional port to pass to an attached\n",
       "        runtime. See :obj:`~bqskit.runtime.attached.AttachedServer`\n",
       "        for more info.\n",
       "\u001b[0;31mFile:\u001b[0m           ~/BQSKit/lib/python3.11/site-packages/bqskit/compiler/compiler.py\n",
       "\u001b[0;31mType:\u001b[0m           type\n",
       "\u001b[0;31mSubclasses:\u001b[0m     "
      ]
     },
     "metadata": {},
     "output_type": "display_data"
    }
   ],
   "source": [
    "Compiler?"
   ]
  },
  {
   "cell_type": "code",
   "execution_count": null,
   "id": "ccb38d18-1a27-4a88-8cec-e6a1b1ab0044",
   "metadata": {},
   "outputs": [],
   "source": []
  },
  {
   "cell_type": "code",
   "execution_count": 23,
   "id": "341b64aa-7c85-4167-b06a-e23e2015e0c4",
   "metadata": {},
   "outputs": [
    {
     "data": {
      "text/plain": [
       "35.13333333333333"
      ]
     },
     "execution_count": 23,
     "metadata": {},
     "output_type": "execute_result"
    }
   ],
   "source": [
    "2108/60"
   ]
  },
  {
   "cell_type": "code",
   "execution_count": null,
   "id": "9c76426c-9d9e-48b3-9da4-ac2f4d908e23",
   "metadata": {},
   "outputs": [],
   "source": []
  },
  {
   "cell_type": "code",
   "execution_count": null,
   "id": "056ca45c-9dd6-47dc-83a0-861a931904fb",
   "metadata": {},
   "outputs": [],
   "source": []
  },
  {
   "cell_type": "code",
   "execution_count": null,
   "id": "33c036ac-a046-4796-8173-552d90e60c30",
   "metadata": {},
   "outputs": [],
   "source": []
  },
  {
   "cell_type": "code",
   "execution_count": null,
   "id": "21ced710-69c6-4369-b6c6-8afc97903dcd",
   "metadata": {},
   "outputs": [],
   "source": []
  },
  {
   "cell_type": "code",
   "execution_count": null,
   "id": "d6fda008-5904-49be-99e7-e5f6d5b17592",
   "metadata": {},
   "outputs": [],
   "source": []
  },
  {
   "cell_type": "code",
   "execution_count": 24,
   "id": "66997a42-cfc2-46fa-9782-cbc52657cc44",
   "metadata": {},
   "outputs": [
    {
     "data": {
      "text/plain": [
       "{VariableUnitaryGate(2, (2, 2)): 3, VariableUnitaryGate(1, (2,)): 3}"
      ]
     },
     "execution_count": 24,
     "metadata": {},
     "output_type": "execute_result"
    }
   ],
   "source": [
    "out_circuit.gate_counts"
   ]
  },
  {
   "cell_type": "code",
   "execution_count": null,
   "id": "2dd59ea0-af20-4821-898a-765b837b45e6",
   "metadata": {},
   "outputs": [],
   "source": [
    "22.320951299043372 #custom layer"
   ]
  },
  {
   "cell_type": "code",
   "execution_count": null,
   "id": "cee39256-011d-4318-921f-7bc0b9eb81ab",
   "metadata": {},
   "outputs": [],
   "source": [
    "37.46070059 #simple layer"
   ]
  },
  {
   "cell_type": "code",
   "execution_count": null,
   "id": "09662f67-b754-428f-887e-a4a3653c95f2",
   "metadata": {},
   "outputs": [],
   "source": [
    "#simple layer 4 qubits...\n",
    "156.2895126669"
   ]
  },
  {
   "cell_type": "code",
   "execution_count": null,
   "id": "2d7ca1df-4e25-4caa-88c8-fc00d3538dad",
   "metadata": {},
   "outputs": [],
   "source": [
    "#custom layer 4 qubits...\n",
    "315.6711452880408"
   ]
  },
  {
   "cell_type": "code",
   "execution_count": null,
   "id": "9e95854c-6911-44ad-9e0f-8131e04fad77",
   "metadata": {},
   "outputs": [],
   "source": []
  },
  {
   "cell_type": "code",
   "execution_count": null,
   "id": "afd15efa-a129-420b-9643-fdadbbbd9b03",
   "metadata": {},
   "outputs": [],
   "source": []
  },
  {
   "cell_type": "code",
   "execution_count": null,
   "id": "03f2bb44-da5f-4389-95ba-e603d9bed032",
   "metadata": {},
   "outputs": [],
   "source": []
  },
  {
   "cell_type": "code",
   "execution_count": null,
   "id": "b3ec3a39-5e8a-416d-b255-c2e56585fec6",
   "metadata": {},
   "outputs": [],
   "source": []
  },
  {
   "cell_type": "code",
   "execution_count": 13,
   "id": "91753474-16fe-4e50-801e-2b35e8800bb2",
   "metadata": {},
   "outputs": [
    {
     "data": {
      "text/plain": [
       "{(0, 1), (0, 2)}"
      ]
     },
     "execution_count": 13,
     "metadata": {},
     "output_type": "execute_result"
    }
   ],
   "source": [
    "out_circuit.coupling_graph"
   ]
  },
  {
   "cell_type": "code",
   "execution_count": 19,
   "id": "e6b31007-9014-4e39-9845-260e6952623f",
   "metadata": {},
   "outputs": [
    {
     "data": {
      "text/plain": [
       "Circuit(3)\n",
       "\t[VariableUnitaryGate(1, (2,))([0.05736180381701095, 0.8997383519393836, 0.26024763054952516, -0.06211777207163331, 0.07343988571161895, 0.4263649900014365, 0.9610345349897061, -0.06946348496392578])@(0,), VariableUnitaryGate(1, (2,))([0.46082287458272986, 0.17370319694264036, 0.09147855575881755, 0.4750828746006062, -0.11814248788840628, 0.8622713205185207, 0.8748235848747611, -0.024731183642867013])@(1,), VariableUnitaryGate(1, (2,))([0.7233866034842831, 0.19258943103184728, -0.4674503464950687, 0.5832786670493721, -0.13302009044345997, 0.6495589184151933, 0.49041579399477586, 0.4480720021684256])@(2,)]\n",
       "\t[VariableUnitaryGate(2, (2, 2))([0.37732917344218353, 0.019433861256634863, 0.5290166772158355, -0.09510515063173045, -0.46830349265353266, 0.3716900266523315, 0.20113894322080642, 0.12492040171935022, 0.5320672758593762, 0.328987614765045, -0.30992548331900943, 0.1736617207920815, -0.3666500535239928, -0.4258898197483759, 0.03916824336546594, 0.634854737874359, 0.42281544309320074, -0.2350433405937999, 0.0989862352684014, 0.5696708170590495, -0.02275670588211455, 0.5602444982460888, -0.2941892799440533, 0.4307403901404743, -0.11436336414410558, 0.45023261719049285, 0.49781490335039136, 0.13730002976504743, 0.1685732487950416, -0.005018021028636284, 0.4877819585063647, 0.11505455404732332])@(0, 1), VariableUnitaryGate(2, (2, 2))([0.37732917344218353, 0.019433861256634863, 0.5290166772158355, -0.09510515063173045, -0.46830349265353266, 0.3716900266523315, 0.20113894322080642, 0.12492040171935022, 0.5320672758593762, 0.328987614765045, -0.30992548331900943, 0.1736617207920815, -0.3666500535239928, -0.4258898197483759, 0.03916824336546594, 0.634854737874359, 0.42281544309320074, -0.2350433405937999, 0.0989862352684014, 0.5696708170590495, -0.02275670588211455, 0.5602444982460888, -0.2941892799440533, 0.4307403901404743, -0.11436336414410558, 0.45023261719049285, 0.49781490335039136, 0.13730002976504743, 0.1685732487950416, -0.005018021028636284, 0.4877819585063647, 0.11505455404732332])@(0, 1), None]\n",
       "\t[VariableUnitaryGate(1, (2,))([0.33166262507832034, 0.37193216838742577, -0.1636253307084023, 0.40738855099122184, -0.34748268252818226, 0.794306081172619, 0.8616742073543469, 0.2545169543509761])@(0,), VariableUnitaryGate(1, (2,))([0.47109542391496406, 0.6301211163355518, 0.6416367371133557, -0.43650290869719915, 0.578406170499462, -0.21555227264532795, 0.17837516946328139, 0.6049378540018444])@(1,), None]\n",
       "\t[VariableUnitaryGate(2, (2, 2))([-0.15168606501137094, -0.31159592572650335, 0.7220367064926423, -0.3384549491570322, 0.38675383337241004, -0.13425941485394832, 0.4480974172021134, 0.6853802847826412, -0.16783403465572552, 0.5088788494326097, -0.038751040226459685, 0.06758751542769932, 0.44278319917670067, 0.21958790465478245, 0.017498344917805296, 0.23758021692750328, -0.21269213717385096, 0.3598896328253131, -0.06166216974566493, 0.2558316681177615, 0.23713555384412516, 0.14028192389018396, -0.003327151466777885, -0.29314687925800653, -0.10256149409839924, 0.6383541470539057, 0.5190812237529809, -0.13908322711777607, -0.7008548417517733, -0.14494921274982955, 0.052964648710626054, 0.4289062853459342])@(0, 2), None, VariableUnitaryGate(2, (2, 2))([-0.15168606501137094, -0.31159592572650335, 0.7220367064926423, -0.3384549491570322, 0.38675383337241004, -0.13425941485394832, 0.4480974172021134, 0.6853802847826412, -0.16783403465572552, 0.5088788494326097, -0.038751040226459685, 0.06758751542769932, 0.44278319917670067, 0.21958790465478245, 0.017498344917805296, 0.23758021692750328, -0.21269213717385096, 0.3598896328253131, -0.06166216974566493, 0.2558316681177615, 0.23713555384412516, 0.14028192389018396, -0.003327151466777885, -0.29314687925800653, -0.10256149409839924, 0.6383541470539057, 0.5190812237529809, -0.13908322711777607, -0.7008548417517733, -0.14494921274982955, 0.052964648710626054, 0.4289062853459342])@(0, 2)]\n",
       "\t[VariableUnitaryGate(1, (2,))([0.18640517392066625, 0.025831134974097853, 0.9473949440072097, 0.1479991739397491, -0.11041265526473146, 0.975907223643184, 0.23559494214132404, -0.15822164144058842])@(0,), None, VariableUnitaryGate(1, (2,))([0.2712140966258574, 0.4259240692672795, 0.3346697967445522, -0.45898564203090597, 0.801528620106715, -0.3202865469545157, 0.4147178704712464, 0.7108708711631332])@(2,)]\n",
       "\t[VariableUnitaryGate(2, (2, 2))([-0.014305012147937335, -0.10940468004389849, -0.16283260792381965, -0.45657027106813564, 0.36577476909304735, -0.25076559279648186, -0.6177634725867913, 0.20829468128945372, 0.2795600623701244, 0.6063913276983192, -0.4982102136825191, -0.19719331919065713, -0.47253038626280186, 0.21324406333016585, 0.07827922545053684, 0.2565935308119314, 0.5590916279392066, 0.04549115258971814, 0.5265135568131867, -0.401230224536625, 0.035170420313061224, 0.5198746228050196, 0.1017905138633409, 0.3105465550189999, 0.03484909498743308, -0.48940137551209756, -0.0777001308564853, 0.14237847786509422, 0.4995303035754308, -0.010534982054825066, 0.20951762461370313, 0.6047602675939218])@(0, 1), VariableUnitaryGate(2, (2, 2))([-0.014305012147937335, -0.10940468004389849, -0.16283260792381965, -0.45657027106813564, 0.36577476909304735, -0.25076559279648186, -0.6177634725867913, 0.20829468128945372, 0.2795600623701244, 0.6063913276983192, -0.4982102136825191, -0.19719331919065713, -0.47253038626280186, 0.21324406333016585, 0.07827922545053684, 0.2565935308119314, 0.5590916279392066, 0.04549115258971814, 0.5265135568131867, -0.401230224536625, 0.035170420313061224, 0.5198746228050196, 0.1017905138633409, 0.3105465550189999, 0.03484909498743308, -0.48940137551209756, -0.0777001308564853, 0.14237847786509422, 0.4995303035754308, -0.010534982054825066, 0.20951762461370313, 0.6047602675939218])@(0, 1), None]\n",
       "\t[VariableUnitaryGate(1, (2,))([0.3277614619632312, 0.8694350180183494, 0.5343445392803365, 0.14414939670336369, -0.34633643311963624, 0.1292526540892899, 0.6979250765569166, -0.4545299245202271])@(0,), VariableUnitaryGate(1, (2,))([-0.08613217367606141, 0.8213400114852586, -0.8266503030041424, 0.09234209640046988, 0.5431222055654134, 0.15165785180132715, -0.11936831666215775, -0.5421009304112737])@(1,), None]"
      ]
     },
     "execution_count": 19,
     "metadata": {},
     "output_type": "execute_result"
    }
   ],
   "source": [
    "out_circuit"
   ]
  },
  {
   "cell_type": "code",
   "execution_count": null,
   "id": "f644017a-f502-4d59-a66f-9f48380b461d",
   "metadata": {},
   "outputs": [],
   "source": []
  },
  {
   "cell_type": "code",
   "execution_count": null,
   "id": "e7a834c8-bd25-4c39-8594-a4dc6d86ab88",
   "metadata": {},
   "outputs": [],
   "source": []
  },
  {
   "cell_type": "code",
   "execution_count": null,
   "id": "c79ea2dd-8fb9-4cdd-9439-c86beec2b4ac",
   "metadata": {},
   "outputs": [],
   "source": []
  },
  {
   "cell_type": "code",
   "execution_count": 18,
   "id": "681d2c4a-f2d8-4f20-81a2-fbbf8fd3045e",
   "metadata": {},
   "outputs": [
    {
     "name": "stdout",
     "output_type": "stream",
     "text": [
      "11:37:29.844 - INFO     | bqskit.passes.measure: Extracting measurements from circuit.\n",
      "11:37:29.844 - INFO     | bqskit.passes.util.log: Retargeting multi-qudit gates.\n"
     ]
    },
    {
     "name": "stderr",
     "output_type": "stream",
     "text": [
      "thread '<unnamed>' panicked at src/ir/gates/optimize.rs:8:9:\n",
      "not implemented\n",
      "stack backtrace:\n",
      "thread '<unnamed>' panicked at src/ir/gates/optimize.rs:8:9:\n",
      "not implemented\n",
      "thread '<unnamed>' panicked at src/ir/gates/optimize.rs:8:9:\n",
      "not implemented\n",
      "stack backtrace:\n",
      "stack backtrace:\n",
      "thread '<unnamed>' panicked at src/ir/gates/optimize.rs:8:9:\n",
      "not implemented\n",
      "stack backtrace:\n",
      "   0: _rust_begin_unwind\n",
      "   1: core::panicking::panic_fmt\n",
      "   2: core::panicking::panic\n",
      "   3: <bqskitrs::ir::operation::Operation as bqskitrs::ir::gates::optimize::Optimize>::optimize\n",
      "   4: <bqskitrs::ir::inst::qfactor::QFactorInstantiator as bqskitrs::ir::inst::Instantiate>::instantiate\n",
      "   5: bqskitrs::python::instantiators::qfactor::_::<impl bqskitrs::python::instantiators::qfactor::PyQFactorInstantiator>::__pymethod_instantiate__\n",
      "   0: _rust_begin_unwind\n",
      "   1: core::panicking::panic_fmt\n",
      "   2: core::panicking::panic\n",
      "   0: _rust_begin_unwind \n",
      "  3:  < bqskitrs ::1ir: ::coreoperation::Operation as bqskitrs::::panicking::panic_fmt\n",
      "ir::gates:: optimize::Optimize  2>: ::coreoptimize::\n",
      "panicking::panic \n",
      "  4:  < bqskitrs ::3: ir::<instbqskitrs::::qfactor::irQFactorInstantiator::operation ::asOperation bqskitrs as ::bqskitrsir::inst::::Instantiateir::gates::optimize>::::instantiateOptimize>\n",
      "::optimize\n",
      "      5 : 0 :  4bqskitrs: ::_rust_begin_unwindpython\n",
      "::instantiators<::bqskitrsqfactor::::ir :: inst 1::: qfactorcore_::panicking::::::QFactorInstantiatorpanic_fmt\n",
      " as bqskitrs<impl   bqskitrs ::2python: ::coreinstantiators::::panickingqfactor::::panicPyQFactorInstantiator>::\n",
      "__pymethod_instantiate__::\n",
      "ir::inst:: Instantiate>::  3: instantiate\n",
      "<bqskitrs::ir::operation::Operation as bqskitrs::ir::gates::optimize:: Optimize  5>::optimize\n",
      ": bqskitrs::python::instantiators ::  4: <qfactorbqskitrs::::_ir::<::impl bqskitrsinst::::pythonqfactor::::instantiatorsQFactorInstantiator::qfactor ::asPyQFactorInstantiator >bqskitrs::::__pymethod_instantiate__ir\n",
      "::inst::Instantiate>::instantiate\n",
      "   5: bqskitrs::python::instantiators::qfactor::_::<impl bqskitrs::python::instantiators::qfactor::PyQFactorInstantiator>::__pymethod_instantiate__\n",
      "   6: _method_vectorcall_VARARGS_KEYWORDS\n",
      "   7: __PyEval_EvalFrameDefault\n",
      "   8: __PyFunction_Vectorcall\n",
      "   9: __PyEval_EvalFrameDefault\n",
      "  10: _gen_send_ex2\n",
      "  11: _gen_send\n",
      "  12: _method_vectorcall_O\n",
      "  13: __PyEval_EvalFrameDefault\n",
      "  14: __PyFunction_Vectorcall\n",
      "  15: __PyEval_EvalFrameDefault\n",
      "  16: __PyEval_Vector\n",
      "  17: _PyEval_EvalCode\n",
      "  18: _run_mod\n",
      "  19: _PyRun_SimpleStringFlags\n",
      "  20: _pymain_run_command\n",
      "  21: _Py_RunMain\n",
      "  22: _main\n",
      "  23: <unknown>\n",
      "note: Some details are omitted, run with `RUST_BACKTRACE=full` for a verbose backtrace.\n",
      "Process Process-1:\n",
      "   6: _method_vectorcall_VARARGS_KEYWORDS\n",
      "   7: __PyEval_EvalFrameDefault\n",
      "      6: 8_method_vectorcall_VARARGS_KEYWORDS: \n",
      "__PyFunction_Vectorcall\n",
      "   9: __PyEval_EvalFrameDefault\n",
      "   7:  __PyEval_EvalFrameDefault \n",
      "10: _gen_send_ex2\n",
      "  11 :  _gen_send \n",
      "8:  __PyFunction_Vectorcall \n",
      "12: _method_vectorcall_O \n",
      "   9 : 13__PyEval_EvalFrameDefault\n",
      ":   10: _gen_send_ex2__PyEval_EvalFrameDefault\n",
      "\n",
      "  11: _gen_send\n",
      "   14 : 12__PyFunction_Vectorcall: _method_vectorcall_O\n",
      " \n",
      " 13: __PyEval_EvalFrameDefault \n",
      " 15 :  __PyEval_EvalFrameDefault14\n",
      ": __PyFunction_Vectorcall \n",
      " 16 :  __PyEval_Vector15\n",
      ": __PyEval_EvalFrameDefault \n",
      "  16 : 17__PyEval_Vector: \n",
      "_PyEval_EvalCode\n",
      "    1718: : _PyEval_EvalCode\n",
      "_run_mod \n",
      " 18 :  _run_mod\n",
      " 19 : 19_PyRun_SimpleStringFlags: \n",
      " _PyRun_SimpleStringFlags \n",
      "20: _pymain_run_command\n",
      "   21 : 20_Py_RunMain: \n",
      "_pymain_run_command\n",
      "  22 :  _main21\n",
      "  :  _Py_RunMain \n",
      " 23  : <unknown>\n",
      "6note: Some details are omitted, run with `RUST_BACKTRACE=full` for a verbose backtrace.\n",
      ": 22_method_vectorcall_VARARGS_KEYWORDS\n",
      ": _main\n",
      "    23: <unknown> \n",
      "7: __PyEval_EvalFrameDefault\n",
      "note: Some details are omitted, run with `RUST_BACKTRACE=full` for a verbose backtrace.\n",
      "   8: __PyFunction_Vectorcall\n",
      "   9: __PyEval_EvalFrameDefault\n",
      "  10: _gen_send_ex2\n",
      "  11: _gen_send\n",
      "  12: _method_vectorcall_O\n",
      "  13: __PyEval_EvalFrameDefault\n",
      "  14: __PyFunction_Vectorcall\n",
      "  15: __PyEval_EvalFrameDefault\n",
      "  16: __PyEval_Vector\n",
      "  17: _PyEval_EvalCode\n",
      "  18: _run_mod\n",
      "  19: _PyRun_SimpleStringFlags\n",
      "  20: Process Process-3:\n",
      "_pymain_run_command\n",
      "  21: _Py_RunMain\n",
      "  22: _main\n",
      " Process Process-12:\n",
      " 23: <unknown>\n",
      "note: Some details are omitted, run with `RUST_BACKTRACE=full` for a verbose backtrace.\n",
      "Process Process-9:\n",
      "Traceback (most recent call last):\n",
      "Traceback (most recent call last):\n",
      "Traceback (most recent call last):\n",
      "  File \"/Users/luismartinezmartinez/anaconda3/lib/python3.11/multiprocessing/process.py\", line 314, in _bootstrap\n",
      "    self.run()\n",
      "  File \"/Users/luismartinezmartinez/anaconda3/lib/python3.11/multiprocessing/process.py\", line 108, in run\n",
      "    self._target(*self._args, **self._kwargs)\n",
      "  File \"/Users/luismartinezmartinez/anaconda3/lib/python3.11/site-packages/bqskit/runtime/worker.py\", line 631, in start_worker\n",
      "    _worker._loop()\n",
      "  File \"/Users/luismartinezmartinez/anaconda3/lib/python3.11/site-packages/bqskit/runtime/worker.py\", line 230, in _loop\n",
      "    self._try_step_next_ready_task()\n",
      "  File \"/Users/luismartinezmartinez/anaconda3/lib/python3.11/site-packages/bqskit/runtime/worker.py\", line 378, in _try_step_next_ready_task\n",
      "    future = task.step(self._get_desired_result(task))\n",
      "             ^^^^^^^^^^^^^^^^^^^^^^^^^^^^^^^^^^^^^^^^^\n",
      "  File \"/Users/luismartinezmartinez/anaconda3/lib/python3.11/site-packages/bqskit/runtime/task.py\", line 93, in step\n",
      "    to_return = self.coro.send(send_val)\n",
      "                ^^^^^^^^^^^^^^^^^^^^^^^^\n",
      "  File \"/Users/luismartinezmartinez/anaconda3/lib/python3.11/site-packages/bqskit/runtime/task.py\", line 108, in run\n",
      "    return self.fnargs[0](*self.fnargs[1], **self.fnargs[2])\n",
      "           ^^^^^^^^^^^^^^^^^^^^^^^^^^^^^^^^^^^^^^^^^^^^^^^^^\n",
      "  File \"/Users/luismartinezmartinez/anaconda3/lib/python3.11/site-packages/bqskit/ir/circuit.py\", line 2868, in instantiate\n",
      "    instantiater.multi_start_instantiate_inplace(self, target, multistarts)\n",
      "  File \"/Users/luismartinezmartinez/anaconda3/lib/python3.11/site-packages/bqskit/ir/opt/instantiater.py\", line 109, in multi_start_instantiate_inplace\n",
      "    params_list = [self.instantiate(circuit, target, x0) for x0 in starts]\n",
      "                  ^^^^^^^^^^^^^^^^^^^^^^^^^^^^^^^^^^^^^^^^^^^^^^^^^^^^^^^^\n",
      "  File \"/Users/luismartinezmartinez/anaconda3/lib/python3.11/site-packages/bqskit/ir/opt/instantiater.py\", line 109, in <listcomp>\n",
      "    params_list = [self.instantiate(circuit, target, x0) for x0 in starts]\n",
      "                   ^^^^^^^^^^^^^^^^^^^^^^^^^^^^^^^^^^^^^\n",
      "  File \"/Users/luismartinezmartinez/anaconda3/lib/python3.11/site-packages/bqskit/ir/opt/instantiaters/qfactor.py\", line 52, in instantiate\n",
      "    return QFactorInstantiatorNative.instantiate(self, circuit, target, x0)\n",
      "           ^^^^^^^^^^^^^^^^^^^^^^^^^^^^^^^^^^^^^^^^^^^^^^^^^^^^^^^^^^^^^^^^\n",
      "pyo3_runtime.PanicException: not implemented\n",
      "Traceback (most recent call last):\n",
      "  File \"/Users/luismartinezmartinez/anaconda3/lib/python3.11/multiprocessing/process.py\", line 314, in _bootstrap\n",
      "    self.run()\n",
      "  File \"/Users/luismartinezmartinez/anaconda3/lib/python3.11/multiprocessing/process.py\", line 108, in run\n",
      "    self._target(*self._args, **self._kwargs)\n",
      "  File \"/Users/luismartinezmartinez/anaconda3/lib/python3.11/site-packages/bqskit/runtime/worker.py\", line 631, in start_worker\n",
      "    _worker._loop()\n",
      "  File \"/Users/luismartinezmartinez/anaconda3/lib/python3.11/site-packages/bqskit/runtime/worker.py\", line 230, in _loop\n",
      "    self._try_step_next_ready_task()\n",
      "  File \"/Users/luismartinezmartinez/anaconda3/lib/python3.11/site-packages/bqskit/runtime/worker.py\", line 378, in _try_step_next_ready_task\n",
      "    future = task.step(self._get_desired_result(task))\n",
      "             ^^^^^^^^^^^^^^^^^^^^^^^^^^^^^^^^^^^^^^^^^\n",
      "  File \"/Users/luismartinezmartinez/anaconda3/lib/python3.11/site-packages/bqskit/runtime/task.py\", line 93, in step\n",
      "    to_return = self.coro.send(send_val)\n",
      "                ^^^^^^^^^^^^^^^^^^^^^^^^\n",
      "  File \"/Users/luismartinezmartinez/anaconda3/lib/python3.11/site-packages/bqskit/runtime/task.py\", line 108, in run\n",
      "    return self.fnargs[0](*self.fnargs[1], **self.fnargs[2])\n",
      "           ^^^^^^^^^^^^^^^^^^^^^^^^^^^^^^^^^^^^^^^^^^^^^^^^^\n",
      "  File \"/Users/luismartinezmartinez/anaconda3/lib/python3.11/site-packages/bqskit/ir/circuit.py\", line 2868, in instantiate\n",
      "    instantiater.multi_start_instantiate_inplace(self, target, multistarts)\n",
      "  File \"/Users/luismartinezmartinez/anaconda3/lib/python3.11/site-packages/bqskit/ir/opt/instantiater.py\", line 109, in multi_start_instantiate_inplace\n",
      "    params_list = [self.instantiate(circuit, target, x0) for x0 in starts]\n",
      "                  ^^^^^^^^^^^^^^^^^^^^^^^^^^^^^^^^^^^^^^^^^^^^^^^^^^^^^^^^\n",
      "  File \"/Users/luismartinezmartinez/anaconda3/lib/python3.11/site-packages/bqskit/ir/opt/instantiater.py\", line 109, in <listcomp>\n",
      "    params_list = [self.instantiate(circuit, target, x0) for x0 in starts]\n",
      "                   ^^^^^^^^^^^^^^^^^^^^^^^^^^^^^^^^^^^^^\n",
      "  File \"/Users/luismartinezmartinez/anaconda3/lib/python3.11/site-packages/bqskit/ir/opt/instantiaters/qfactor.py\", line 52, in instantiate\n",
      "    return QFactorInstantiatorNative.instantiate(self, circuit, target, x0)\n",
      "           ^^^^^^^^^^^^^^^^^^^^^^^^^^^^^^^^^^^^^^^^^^^^^^^^^^^^^^^^^^^^^^^^\n",
      "  File \"/Users/luismartinezmartinez/anaconda3/lib/python3.11/multiprocessing/process.py\", line 314, in _bootstrap\n",
      "    self.run()\n",
      "pyo3_runtime.PanicException: not implemented\n",
      "  File \"/Users/luismartinezmartinez/anaconda3/lib/python3.11/multiprocessing/process.py\", line 108, in run\n",
      "    self._target(*self._args, **self._kwargs)\n",
      "  File \"/Users/luismartinezmartinez/anaconda3/lib/python3.11/site-packages/bqskit/runtime/worker.py\", line 631, in start_worker\n",
      "    _worker._loop()\n",
      "  File \"/Users/luismartinezmartinez/anaconda3/lib/python3.11/site-packages/bqskit/runtime/worker.py\", line 230, in _loop\n",
      "    self._try_step_next_ready_task()\n",
      "  File \"/Users/luismartinezmartinez/anaconda3/lib/python3.11/site-packages/bqskit/runtime/worker.py\", line 378, in _try_step_next_ready_task\n",
      "    future = task.step(self._get_desired_result(task))\n",
      "             ^^^^^^^^^^^^^^^^^^^^^^^^^^^^^^^^^^^^^^^^^\n",
      "  File \"/Users/luismartinezmartinez/anaconda3/lib/python3.11/site-packages/bqskit/runtime/task.py\", line 93, in step\n",
      "    to_return = self.coro.send(send_val)\n",
      "                ^^^^^^^^^^^^^^^^^^^^^^^^\n",
      "  File \"/Users/luismartinezmartinez/anaconda3/lib/python3.11/site-packages/bqskit/runtime/task.py\", line 108, in run\n",
      "    return self.fnargs[0](*self.fnargs[1], **self.fnargs[2])\n",
      "           ^^^^^^^^^^^^^^^^^^^^^^^^^^^^^^^^^^^^^^^^^^^^^^^^^\n",
      "  File \"/Users/luismartinezmartinez/anaconda3/lib/python3.11/site-packages/bqskit/ir/circuit.py\", line 2868, in instantiate\n",
      "    instantiater.multi_start_instantiate_inplace(self, target, multistarts)\n",
      "  File \"/Users/luismartinezmartinez/anaconda3/lib/python3.11/site-packages/bqskit/ir/opt/instantiater.py\", line 109, in multi_start_instantiate_inplace\n",
      "    params_list = [self.instantiate(circuit, target, x0) for x0 in starts]\n",
      "                  ^^^^^^^^^^^^^^^^^^^^^^^^^^^^^^^^^^^^^^^^^^^^^^^^^^^^^^^^\n",
      "  File \"/Users/luismartinezmartinez/anaconda3/lib/python3.11/site-packages/bqskit/ir/opt/instantiater.py\", line 109, in <listcomp>\n",
      "    params_list = [self.instantiate(circuit, target, x0) for x0 in starts]\n",
      "                   ^^^^^^^^^^^^^^^^^^^^^^^^^^^^^^^^^^^^^\n",
      "  File \"/Users/luismartinezmartinez/anaconda3/lib/python3.11/site-packages/bqskit/ir/opt/instantiaters/qfactor.py\", line 52, in instantiate\n",
      "    return QFactorInstantiatorNative.instantiate(self, circuit, target, x0)\n",
      "           ^^^^^^^^^^^^^^^^^^^^^^^^^^^^^^^^^^^^^^^^^^^^^^^^^^^^^^^^^^^^^^^^\n",
      "pyo3_runtime.PanicException: not implemented\n",
      "  File \"/Users/luismartinezmartinez/anaconda3/lib/python3.11/multiprocessing/process.py\", line 314, in _bootstrap\n",
      "    self.run()\n",
      "  File \"/Users/luismartinezmartinez/anaconda3/lib/python3.11/multiprocessing/process.py\", line 108, in run\n",
      "    self._target(*self._args, **self._kwargs)\n",
      "  File \"/Users/luismartinezmartinez/anaconda3/lib/python3.11/site-packages/bqskit/runtime/worker.py\", line 631, in start_worker\n",
      "    _worker._loop()\n",
      "  File \"/Users/luismartinezmartinez/anaconda3/lib/python3.11/site-packages/bqskit/runtime/worker.py\", line 230, in _loop\n",
      "    self._try_step_next_ready_task()\n",
      "  File \"/Users/luismartinezmartinez/anaconda3/lib/python3.11/site-packages/bqskit/runtime/worker.py\", line 378, in _try_step_next_ready_task\n",
      "    future = task.step(self._get_desired_result(task))\n",
      "             ^^^^^^^^^^^^^^^^^^^^^^^^^^^^^^^^^^^^^^^^^\n",
      "  File \"/Users/luismartinezmartinez/anaconda3/lib/python3.11/site-packages/bqskit/runtime/task.py\", line 93, in step\n",
      "    to_return = self.coro.send(send_val)\n",
      "                ^^^^^^^^^^^^^^^^^^^^^^^^\n",
      "  File \"/Users/luismartinezmartinez/anaconda3/lib/python3.11/site-packages/bqskit/runtime/task.py\", line 108, in run\n",
      "    return self.fnargs[0](*self.fnargs[1], **self.fnargs[2])\n",
      "           ^^^^^^^^^^^^^^^^^^^^^^^^^^^^^^^^^^^^^^^^^^^^^^^^^\n",
      "  File \"/Users/luismartinezmartinez/anaconda3/lib/python3.11/site-packages/bqskit/ir/circuit.py\", line 2868, in instantiate\n",
      "    instantiater.multi_start_instantiate_inplace(self, target, multistarts)\n",
      "  File \"/Users/luismartinezmartinez/anaconda3/lib/python3.11/site-packages/bqskit/ir/opt/instantiater.py\", line 109, in multi_start_instantiate_inplace\n",
      "    params_list = [self.instantiate(circuit, target, x0) for x0 in starts]\n",
      "                  ^^^^^^^^^^^^^^^^^^^^^^^^^^^^^^^^^^^^^^^^^^^^^^^^^^^^^^^^\n",
      "  File \"/Users/luismartinezmartinez/anaconda3/lib/python3.11/site-packages/bqskit/ir/opt/instantiater.py\", line 109, in <listcomp>\n",
      "    params_list = [self.instantiate(circuit, target, x0) for x0 in starts]\n",
      "                   ^^^^^^^^^^^^^^^^^^^^^^^^^^^^^^^^^^^^^\n",
      "  File \"/Users/luismartinezmartinez/anaconda3/lib/python3.11/site-packages/bqskit/ir/opt/instantiaters/qfactor.py\", line 52, in instantiate\n",
      "    return QFactorInstantiatorNative.instantiate(self, circuit, target, x0)\n",
      "           ^^^^^^^^^^^^^^^^^^^^^^^^^^^^^^^^^^^^^^^^^^^^^^^^^^^^^^^^^^^^^^^^\n",
      "pyo3_runtime.PanicException: not implemented\n",
      "Traceback (most recent call last):\n",
      "  File \"/Users/luismartinezmartinez/anaconda3/lib/python3.11/site-packages/bqskit/runtime/base.py\", line 365, in run\n",
      "    msg, payload = conn.recv()\n",
      "                   ^^^^^^^^^^^\n",
      "  File \"/Users/luismartinezmartinez/anaconda3/lib/python3.11/multiprocessing/connection.py\", line 247, in recv\n",
      "    self._check_closed()\n",
      "  File \"/Users/luismartinezmartinez/anaconda3/lib/python3.11/multiprocessing/connection.py\", line 136, in _check_closed\n",
      "    raise OSError(\"handle is closed\")\n",
      "OSError: handle is closed\n",
      "\n"
     ]
    },
    {
     "ename": "RuntimeError",
     "evalue": "Server connection unexpectedly closed.",
     "output_type": "error",
     "traceback": [
      "\u001b[0;31m---------------------------------------------------------------------------\u001b[0m",
      "\u001b[0;31mEOFError\u001b[0m                                  Traceback (most recent call last)",
      "File \u001b[0;32m~/anaconda3/lib/python3.11/site-packages/bqskit/compiler/compiler.py:457\u001b[0m, in \u001b[0;36mCompiler._send_recv\u001b[0;34m(self, msg, payload)\u001b[0m\n\u001b[1;32m    455\u001b[0m     \u001b[38;5;28mself\u001b[39m\u001b[38;5;241m.\u001b[39mconn\u001b[38;5;241m.\u001b[39msend((msg, payload))\n\u001b[0;32m--> 457\u001b[0m     \u001b[38;5;28;01mreturn\u001b[39;00m \u001b[38;5;28mself\u001b[39m\u001b[38;5;241m.\u001b[39m_recv_handle_log_error()\n\u001b[1;32m    459\u001b[0m \u001b[38;5;28;01mexcept\u001b[39;00m \u001b[38;5;167;01mException\u001b[39;00m \u001b[38;5;28;01mas\u001b[39;00m e:\n",
      "File \u001b[0;32m~/anaconda3/lib/python3.11/site-packages/bqskit/compiler/compiler.py:471\u001b[0m, in \u001b[0;36mCompiler._recv_handle_log_error\u001b[0;34m(self)\u001b[0m\n\u001b[1;32m    470\u001b[0m \u001b[38;5;28;01mwhile\u001b[39;00m to_return \u001b[38;5;129;01mis\u001b[39;00m \u001b[38;5;28;01mNone\u001b[39;00m \u001b[38;5;129;01mor\u001b[39;00m \u001b[38;5;28mself\u001b[39m\u001b[38;5;241m.\u001b[39mconn\u001b[38;5;241m.\u001b[39mpoll():\n\u001b[0;32m--> 471\u001b[0m     msg, payload \u001b[38;5;241m=\u001b[39m \u001b[38;5;28mself\u001b[39m\u001b[38;5;241m.\u001b[39mconn\u001b[38;5;241m.\u001b[39mrecv()\n\u001b[1;32m    473\u001b[0m     \u001b[38;5;28;01mif\u001b[39;00m msg \u001b[38;5;241m==\u001b[39m RuntimeMessage\u001b[38;5;241m.\u001b[39mLOG:\n",
      "File \u001b[0;32m~/anaconda3/lib/python3.11/multiprocessing/connection.py:249\u001b[0m, in \u001b[0;36m_ConnectionBase.recv\u001b[0;34m(self)\u001b[0m\n\u001b[1;32m    248\u001b[0m \u001b[38;5;28mself\u001b[39m\u001b[38;5;241m.\u001b[39m_check_readable()\n\u001b[0;32m--> 249\u001b[0m buf \u001b[38;5;241m=\u001b[39m \u001b[38;5;28mself\u001b[39m\u001b[38;5;241m.\u001b[39m_recv_bytes()\n\u001b[1;32m    250\u001b[0m \u001b[38;5;28;01mreturn\u001b[39;00m _ForkingPickler\u001b[38;5;241m.\u001b[39mloads(buf\u001b[38;5;241m.\u001b[39mgetbuffer())\n",
      "File \u001b[0;32m~/anaconda3/lib/python3.11/multiprocessing/connection.py:413\u001b[0m, in \u001b[0;36mConnection._recv_bytes\u001b[0;34m(self, maxsize)\u001b[0m\n\u001b[1;32m    412\u001b[0m \u001b[38;5;28;01mdef\u001b[39;00m \u001b[38;5;21m_recv_bytes\u001b[39m(\u001b[38;5;28mself\u001b[39m, maxsize\u001b[38;5;241m=\u001b[39m\u001b[38;5;28;01mNone\u001b[39;00m):\n\u001b[0;32m--> 413\u001b[0m     buf \u001b[38;5;241m=\u001b[39m \u001b[38;5;28mself\u001b[39m\u001b[38;5;241m.\u001b[39m_recv(\u001b[38;5;241m4\u001b[39m)\n\u001b[1;32m    414\u001b[0m     size, \u001b[38;5;241m=\u001b[39m struct\u001b[38;5;241m.\u001b[39munpack(\u001b[38;5;124m\"\u001b[39m\u001b[38;5;124m!i\u001b[39m\u001b[38;5;124m\"\u001b[39m, buf\u001b[38;5;241m.\u001b[39mgetvalue())\n",
      "File \u001b[0;32m~/anaconda3/lib/python3.11/multiprocessing/connection.py:382\u001b[0m, in \u001b[0;36mConnection._recv\u001b[0;34m(self, size, read)\u001b[0m\n\u001b[1;32m    381\u001b[0m \u001b[38;5;28;01mif\u001b[39;00m remaining \u001b[38;5;241m==\u001b[39m size:\n\u001b[0;32m--> 382\u001b[0m     \u001b[38;5;28;01mraise\u001b[39;00m \u001b[38;5;167;01mEOFError\u001b[39;00m\n\u001b[1;32m    383\u001b[0m \u001b[38;5;28;01melse\u001b[39;00m:\n",
      "\u001b[0;31mEOFError\u001b[0m: ",
      "\nThe above exception was the direct cause of the following exception:\n",
      "\u001b[0;31mRuntimeError\u001b[0m                              Traceback (most recent call last)",
      "Cell \u001b[0;32mIn[18], line 1\u001b[0m\n\u001b[0;32m----> 1\u001b[0m \u001b[38;5;28mcompile\u001b[39m(out_circuit,optimization_level\u001b[38;5;241m=\u001b[39m\u001b[38;5;241m1\u001b[39m)\n",
      "File \u001b[0;32m~/anaconda3/lib/python3.11/site-packages/bqskit/compiler/compile.py:629\u001b[0m, in \u001b[0;36mcompile\u001b[0;34m(input, model, optimization_level, max_synthesis_size, synthesis_epsilon, error_threshold, error_sim_size, compiler, seed, with_mapping, **compiler_kwargs)\u001b[0m\n\u001b[1;32m    626\u001b[0m     in_circuit \u001b[38;5;241m=\u001b[39m Circuit(\u001b[38;5;241m1\u001b[39m)\n\u001b[1;32m    628\u001b[0m \u001b[38;5;66;03m# Perform the compilation\u001b[39;00m\n\u001b[0;32m--> 629\u001b[0m out, data \u001b[38;5;241m=\u001b[39m compiler\u001b[38;5;241m.\u001b[39mcompile(in_circuit, workflow, \u001b[38;5;28;01mTrue\u001b[39;00m)\n\u001b[1;32m    631\u001b[0m \u001b[38;5;66;03m# Log error if necessary\u001b[39;00m\n\u001b[1;32m    632\u001b[0m \u001b[38;5;28;01mif\u001b[39;00m error_threshold \u001b[38;5;129;01mis\u001b[39;00m \u001b[38;5;129;01mnot\u001b[39;00m \u001b[38;5;28;01mNone\u001b[39;00m:\n",
      "File \u001b[0;32m~/anaconda3/lib/python3.11/site-packages/bqskit/compiler/compiler.py:420\u001b[0m, in \u001b[0;36mCompiler.compile\u001b[0;34m(self, task_or_circuit, workflow, request_data, logging_level, max_logging_depth)\u001b[0m\n\u001b[1;32m    405\u001b[0m     warnings\u001b[38;5;241m.\u001b[39mwarn(\n\u001b[1;32m    406\u001b[0m         \u001b[38;5;124m'\u001b[39m\u001b[38;5;124mManually constructing and compiling CompilationTasks\u001b[39m\u001b[38;5;124m'\u001b[39m\n\u001b[1;32m    407\u001b[0m         \u001b[38;5;124m'\u001b[39m\u001b[38;5;124m is deprecated. Instead, call compile directly with\u001b[39m\u001b[38;5;124m'\u001b[39m\n\u001b[0;32m   (...)\u001b[0m\n\u001b[1;32m    410\u001b[0m         \u001b[38;5;167;01mDeprecationWarning\u001b[39;00m,\n\u001b[1;32m    411\u001b[0m     )\n\u001b[1;32m    413\u001b[0m task_id \u001b[38;5;241m=\u001b[39m \u001b[38;5;28mself\u001b[39m\u001b[38;5;241m.\u001b[39msubmit(\n\u001b[1;32m    414\u001b[0m     task_or_circuit,\n\u001b[1;32m    415\u001b[0m     workflow,\n\u001b[0;32m   (...)\u001b[0m\n\u001b[1;32m    418\u001b[0m     max_logging_depth,\n\u001b[1;32m    419\u001b[0m )\n\u001b[0;32m--> 420\u001b[0m result \u001b[38;5;241m=\u001b[39m \u001b[38;5;28mself\u001b[39m\u001b[38;5;241m.\u001b[39mresult(task_id)\n\u001b[1;32m    422\u001b[0m \u001b[38;5;66;03m# Ensure arrival of all log messages\u001b[39;00m\n\u001b[1;32m    423\u001b[0m time\u001b[38;5;241m.\u001b[39msleep(\u001b[38;5;241m0.05\u001b[39m \u001b[38;5;28;01mif\u001b[39;00m \u001b[38;5;28mself\u001b[39m\u001b[38;5;241m.\u001b[39mp \u001b[38;5;129;01mis\u001b[39;00m \u001b[38;5;129;01mnot\u001b[39;00m \u001b[38;5;28;01mNone\u001b[39;00m \u001b[38;5;28;01melse\u001b[39;00m \u001b[38;5;241m0.5\u001b[39m)\n",
      "File \u001b[0;32m~/anaconda3/lib/python3.11/site-packages/bqskit/compiler/compiler.py:331\u001b[0m, in \u001b[0;36mCompiler.result\u001b[0;34m(self, task_id)\u001b[0m\n\u001b[1;32m    328\u001b[0m     task_id \u001b[38;5;241m=\u001b[39m task_id\u001b[38;5;241m.\u001b[39mtask_id\n\u001b[1;32m    329\u001b[0m \u001b[38;5;28;01massert\u001b[39;00m \u001b[38;5;28misinstance\u001b[39m(task_id, uuid\u001b[38;5;241m.\u001b[39mUUID)\n\u001b[0;32m--> 331\u001b[0m msg, payload \u001b[38;5;241m=\u001b[39m \u001b[38;5;28mself\u001b[39m\u001b[38;5;241m.\u001b[39m_send_recv(RuntimeMessage\u001b[38;5;241m.\u001b[39mREQUEST, task_id)\n\u001b[1;32m    332\u001b[0m \u001b[38;5;28;01mif\u001b[39;00m msg \u001b[38;5;241m!=\u001b[39m RuntimeMessage\u001b[38;5;241m.\u001b[39mRESULT:\n\u001b[1;32m    333\u001b[0m     \u001b[38;5;28;01mraise\u001b[39;00m \u001b[38;5;167;01mRuntimeError\u001b[39;00m(\u001b[38;5;124mf\u001b[39m\u001b[38;5;124m'\u001b[39m\u001b[38;5;124mUnexpected message type: \u001b[39m\u001b[38;5;132;01m{\u001b[39;00mmsg\u001b[38;5;132;01m}\u001b[39;00m\u001b[38;5;124m.\u001b[39m\u001b[38;5;124m'\u001b[39m)\n",
      "File \u001b[0;32m~/anaconda3/lib/python3.11/site-packages/bqskit/compiler/compiler.py:462\u001b[0m, in \u001b[0;36mCompiler._send_recv\u001b[0;34m(self, msg, payload)\u001b[0m\n\u001b[1;32m    460\u001b[0m \u001b[38;5;28mself\u001b[39m\u001b[38;5;241m.\u001b[39mconn \u001b[38;5;241m=\u001b[39m \u001b[38;5;28;01mNone\u001b[39;00m\n\u001b[1;32m    461\u001b[0m \u001b[38;5;28mself\u001b[39m\u001b[38;5;241m.\u001b[39mclose()\n\u001b[0;32m--> 462\u001b[0m \u001b[38;5;28;01mraise\u001b[39;00m \u001b[38;5;167;01mRuntimeError\u001b[39;00m(\u001b[38;5;124m'\u001b[39m\u001b[38;5;124mServer connection unexpectedly closed.\u001b[39m\u001b[38;5;124m'\u001b[39m) \u001b[38;5;28;01mfrom\u001b[39;00m \u001b[38;5;21;01me\u001b[39;00m\n",
      "\u001b[0;31mRuntimeError\u001b[0m: Server connection unexpectedly closed."
     ]
    }
   ],
   "source": [
    "compile(out_circuit,optimization_level=1)"
   ]
  },
  {
   "cell_type": "code",
   "execution_count": 17,
   "id": "0a985e0e-48a1-45cf-8c1f-2f19258db73b",
   "metadata": {},
   "outputs": [
    {
     "data": {
      "text/plain": [
       "7"
      ]
     },
     "execution_count": 17,
     "metadata": {},
     "output_type": "execute_result"
    }
   ],
   "source": [
    "out_circuit.depth"
   ]
  },
  {
   "cell_type": "code",
   "execution_count": 9,
   "id": "2865869e-ebca-43cd-a45a-549bc0099b10",
   "metadata": {},
   "outputs": [
    {
     "ename": "NameError",
     "evalue": "name 'out_circuit' is not defined",
     "output_type": "error",
     "traceback": [
      "\u001b[0;31m---------------------------------------------------------------------------\u001b[0m",
      "\u001b[0;31mNameError\u001b[0m                                 Traceback (most recent call last)",
      "Cell \u001b[0;32mIn[9], line 8\u001b[0m\n\u001b[1;32m      5\u001b[0m \u001b[38;5;66;03m# Build a MachineModel with this gate set\u001b[39;00m\n\u001b[1;32m      6\u001b[0m \u001b[38;5;66;03m# and the same number of qubits as the circuit\u001b[39;00m\n\u001b[1;32m      7\u001b[0m \u001b[38;5;28;01mfrom\u001b[39;00m \u001b[38;5;21;01mbqskit\u001b[39;00m \u001b[38;5;28;01mimport\u001b[39;00m MachineModel\n\u001b[0;32m----> 8\u001b[0m model \u001b[38;5;241m=\u001b[39m MachineModel(\u001b[43mout_circuit\u001b[49m\u001b[38;5;241m.\u001b[39mnum_qudits, gate_set\u001b[38;5;241m=\u001b[39mgate_set)\n\u001b[1;32m     10\u001b[0m \u001b[38;5;66;03m# Compile again and print new gate counts\u001b[39;00m\n\u001b[1;32m     11\u001b[0m out_circuit \u001b[38;5;241m=\u001b[39m \u001b[38;5;28mcompile\u001b[39m(out_circuit, model\u001b[38;5;241m=\u001b[39mmodel)\n",
      "\u001b[0;31mNameError\u001b[0m: name 'out_circuit' is not defined"
     ]
    }
   ],
   "source": [
    "from bqskit.ir.gates import CZGate, RZGate, SXGate\n",
    "from bqskit import compile\n",
    "gate_set = {CZGate(), RZGate(), SXGate()} \n",
    "\n",
    "# Build a MachineModel with this gate set\n",
    "# and the same number of qubits as the circuit\n",
    "from bqskit import MachineModel\n",
    "model = MachineModel(out_circuit.num_qudits, gate_set=gate_set)\n",
    "\n",
    "# Compile again and print new gate counts\n",
    "out_circuit = compile(out_circuit, model=model)"
   ]
  },
  {
   "cell_type": "code",
   "execution_count": null,
   "id": "d2761fe9-cdc3-4a82-ad6d-c02ed5a14213",
   "metadata": {},
   "outputs": [],
   "source": []
  },
  {
   "cell_type": "markdown",
   "id": "62ad2d74-8f98-4499-af9f-91af8a649792",
   "metadata": {},
   "source": [
    "# Starting from an initial guess obtained from other synthesizer"
   ]
  },
  {
   "cell_type": "code",
   "execution_count": 19,
   "id": "b58fa849-e575-4e69-87ed-c31cdc90eb71",
   "metadata": {},
   "outputs": [],
   "source": [
    "from bqskit.ir.gates import CZGate, RZGate, SXGate\n",
    "from bqskit import compile\n",
    "gate_set = {CZGate(), RZGate(), SXGate()} \n",
    "\n",
    "\n"
   ]
  },
  {
   "cell_type": "code",
   "execution_count": 11,
   "id": "a2fcde53-dbb6-4103-8d6b-c89b569dbe3f",
   "metadata": {},
   "outputs": [],
   "source": [
    "from bqskit.ext import qiskit_to_bqskit\n",
    "\n",
    "from bqskit.passes import QuickPartitioner\n",
    "\n",
    "import qiskit"
   ]
  },
  {
   "cell_type": "code",
   "execution_count": 12,
   "id": "a80f67c7-4870-4098-80b3-1bfd27f86571",
   "metadata": {},
   "outputs": [],
   "source": [
    "t_idx = 256"
   ]
  },
  {
   "cell_type": "code",
   "execution_count": 35,
   "id": "8f292c0b-ec31-40fc-9c44-fdf64091a5f5",
   "metadata": {},
   "outputs": [],
   "source": [
    "#loadMat = spio.loadmat('../data/alanineNMRdata_withrelaxation.mat',squeeze_me=True)\n",
    "loadMat = spio.loadmat('../data/DFG.mat')\n",
    "\n",
    "Ham = loadMat['p']['H'].item()\n",
    "R = loadMat['p']['R'].item()\n",
    "t_grid = loadMat['p']['time_grid1'].item()\n",
    "\n",
    "TimeGen = (-1j*Ham+R)*t_grid[0][t_idx]\n",
    "ExpGen = expm(TimeGen)\n",
    "\n",
    "####Embedding in unitary...\n",
    "\n",
    "EmbUn = EmbedInU(ExpGen)\n",
    "in_circuit = Circuit.from_unitary(EmbUn)\n",
    "#nqubs = 2\n",
    "#SubU = np.copy(EmbUn[0:2**nqubs,0:2**nqubs])\n",
    "\n",
    "#SubEmbU = EmbedInU(SubU)\n"
   ]
  },
  {
   "cell_type": "code",
   "execution_count": 34,
   "id": "eb5db524-d3cb-4427-bf20-12170f7bc9c2",
   "metadata": {},
   "outputs": [
    {
     "data": {
      "text/plain": [
       "5.6336749385813135e-11"
      ]
     },
     "execution_count": 34,
     "metadata": {},
     "output_type": "execute_result"
    }
   ],
   "source": [
    "np.linalg.norm(EmbUn@EmbUn.conj().T-np.eye(32))"
   ]
  },
  {
   "cell_type": "code",
   "execution_count": 36,
   "id": "8af6be7d-cfa1-4617-811d-22202cbcf174",
   "metadata": {},
   "outputs": [
    {
     "data": {
      "text/plain": [
       "Circuit(5)\n",
       "\t[ConstantUnitaryGate@(0, 1, 2, 3, 4), ConstantUnitaryGate@(0, 1, 2, 3, 4), ConstantUnitaryGate@(0, 1, 2, 3, 4), ConstantUnitaryGate@(0, 1, 2, 3, 4), ConstantUnitaryGate@(0, 1, 2, 3, 4)]"
      ]
     },
     "execution_count": 36,
     "metadata": {},
     "output_type": "execute_result"
    }
   ],
   "source": [
    "Circuit"
   ]
  },
  {
   "cell_type": "code",
   "execution_count": null,
   "id": "46c7f1e7-0dee-49d6-9a58-92e4780ff9a5",
   "metadata": {},
   "outputs": [],
   "source": []
  },
  {
   "cell_type": "code",
   "execution_count": 33,
   "id": "cb11b4ba-5fa9-4ea1-bf11-ac10c10c4a61",
   "metadata": {},
   "outputs": [
    {
     "data": {
      "text/plain": [
       "0.0011560693641618496"
      ]
     },
     "execution_count": 33,
     "metadata": {},
     "output_type": "execute_result"
    }
   ],
   "source": []
  },
  {
   "cell_type": "code",
   "execution_count": 29,
   "id": "ca9c5f8c-566c-4636-8c11-60fc25b5b209",
   "metadata": {},
   "outputs": [
    {
     "data": {
      "text/plain": [
       "array([0.        , 0.00011561, 0.00023121, 0.00034682, 0.00046243,\n",
       "       0.00057803, 0.00069364, 0.00080925, 0.00092486, 0.00104046,\n",
       "       0.00115607, 0.00127168, 0.00138728, 0.00150289, 0.0016185 ,\n",
       "       0.0017341 , 0.00184971, 0.00196532, 0.00208092, 0.00219653,\n",
       "       0.00231214, 0.00242775, 0.00254335, 0.00265896, 0.00277457,\n",
       "       0.00289017, 0.00300578, 0.00312139, 0.00323699, 0.0033526 ,\n",
       "       0.00346821, 0.00358382, 0.00369942, 0.00381503, 0.00393064,\n",
       "       0.00404624, 0.00416185, 0.00427746, 0.00439306, 0.00450867,\n",
       "       0.00462428, 0.00473988, 0.00485549, 0.0049711 , 0.00508671,\n",
       "       0.00520231, 0.00531792, 0.00543353, 0.00554913, 0.00566474,\n",
       "       0.00578035, 0.00589595, 0.00601156, 0.00612717, 0.00624277,\n",
       "       0.00635838, 0.00647399, 0.0065896 , 0.0067052 , 0.00682081,\n",
       "       0.00693642, 0.00705202, 0.00716763, 0.00728324, 0.00739884,\n",
       "       0.00751445, 0.00763006, 0.00774566, 0.00786127, 0.00797688,\n",
       "       0.00809249, 0.00820809, 0.0083237 , 0.00843931, 0.00855491,\n",
       "       0.00867052, 0.00878613, 0.00890173, 0.00901734, 0.00913295,\n",
       "       0.00924855, 0.00936416, 0.00947977, 0.00959538, 0.00971098,\n",
       "       0.00982659, 0.0099422 , 0.0100578 , 0.01017341, 0.01028902,\n",
       "       0.01040462, 0.01052023, 0.01063584, 0.01075145, 0.01086705,\n",
       "       0.01098266, 0.01109827, 0.01121387, 0.01132948, 0.01144509,\n",
       "       0.01156069, 0.0116763 , 0.01179191, 0.01190751, 0.01202312,\n",
       "       0.01213873, 0.01225434, 0.01236994, 0.01248555, 0.01260116,\n",
       "       0.01271676, 0.01283237, 0.01294798, 0.01306358, 0.01317919,\n",
       "       0.0132948 , 0.0134104 , 0.01352601, 0.01364162, 0.01375723,\n",
       "       0.01387283, 0.01398844, 0.01410405, 0.01421965, 0.01433526,\n",
       "       0.01445087, 0.01456647, 0.01468208, 0.01479769, 0.01491329,\n",
       "       0.0150289 , 0.01514451, 0.01526012, 0.01537572, 0.01549133,\n",
       "       0.01560694, 0.01572254, 0.01583815, 0.01595376, 0.01606936,\n",
       "       0.01618497, 0.01630058, 0.01641618, 0.01653179, 0.0166474 ,\n",
       "       0.01676301, 0.01687861, 0.01699422, 0.01710983, 0.01722543,\n",
       "       0.01734104, 0.01745665, 0.01757225, 0.01768786, 0.01780347,\n",
       "       0.01791908, 0.01803468, 0.01815029, 0.0182659 , 0.0183815 ,\n",
       "       0.01849711, 0.01861272, 0.01872832, 0.01884393, 0.01895954,\n",
       "       0.01907514, 0.01919075, 0.01930636, 0.01942197, 0.01953757,\n",
       "       0.01965318, 0.01976879, 0.01988439, 0.02      , 0.02011561,\n",
       "       0.02023121, 0.02034682, 0.02046243, 0.02057803, 0.02069364,\n",
       "       0.02080925, 0.02092486, 0.02104046, 0.02115607, 0.02127168,\n",
       "       0.02138728, 0.02150289, 0.0216185 , 0.0217341 , 0.02184971,\n",
       "       0.02196532, 0.02208092, 0.02219653, 0.02231214, 0.02242775,\n",
       "       0.02254335, 0.02265896, 0.02277457, 0.02289017, 0.02300578,\n",
       "       0.02312139, 0.02323699, 0.0233526 , 0.02346821, 0.02358382,\n",
       "       0.02369942, 0.02381503, 0.02393064, 0.02404624, 0.02416185,\n",
       "       0.02427746, 0.02439306, 0.02450867, 0.02462428, 0.02473988,\n",
       "       0.02485549, 0.0249711 , 0.02508671, 0.02520231, 0.02531792,\n",
       "       0.02543353, 0.02554913, 0.02566474, 0.02578035, 0.02589595,\n",
       "       0.02601156, 0.02612717, 0.02624277, 0.02635838, 0.02647399,\n",
       "       0.0265896 , 0.0267052 , 0.02682081, 0.02693642, 0.02705202,\n",
       "       0.02716763, 0.02728324, 0.02739884, 0.02751445, 0.02763006,\n",
       "       0.02774566, 0.02786127, 0.02797688, 0.02809249, 0.02820809,\n",
       "       0.0283237 , 0.02843931, 0.02855491, 0.02867052, 0.02878613,\n",
       "       0.02890173, 0.02901734, 0.02913295, 0.02924855, 0.02936416,\n",
       "       0.02947977, 0.02959538, 0.02971098, 0.02982659, 0.0299422 ,\n",
       "       0.0300578 , 0.03017341, 0.03028902, 0.03040462, 0.03052023,\n",
       "       0.03063584, 0.03075145, 0.03086705, 0.03098266, 0.03109827,\n",
       "       0.03121387, 0.03132948, 0.03144509, 0.03156069, 0.0316763 ,\n",
       "       0.03179191, 0.03190751, 0.03202312, 0.03213873, 0.03225434,\n",
       "       0.03236994, 0.03248555, 0.03260116, 0.03271676, 0.03283237,\n",
       "       0.03294798, 0.03306358, 0.03317919, 0.0332948 , 0.0334104 ,\n",
       "       0.03352601, 0.03364162, 0.03375723, 0.03387283, 0.03398844,\n",
       "       0.03410405, 0.03421965, 0.03433526, 0.03445087, 0.03456647,\n",
       "       0.03468208, 0.03479769, 0.03491329, 0.0350289 , 0.03514451,\n",
       "       0.03526012, 0.03537572, 0.03549133, 0.03560694, 0.03572254,\n",
       "       0.03583815, 0.03595376, 0.03606936, 0.03618497, 0.03630058,\n",
       "       0.03641618, 0.03653179, 0.0366474 , 0.03676301, 0.03687861,\n",
       "       0.03699422, 0.03710983, 0.03722543, 0.03734104, 0.03745665,\n",
       "       0.03757225, 0.03768786, 0.03780347, 0.03791908, 0.03803468,\n",
       "       0.03815029, 0.0382659 , 0.0383815 , 0.03849711, 0.03861272,\n",
       "       0.03872832, 0.03884393, 0.03895954, 0.03907514, 0.03919075,\n",
       "       0.03930636, 0.03942197, 0.03953757, 0.03965318, 0.03976879,\n",
       "       0.03988439, 0.04      , 0.04011561, 0.04023121, 0.04034682,\n",
       "       0.04046243, 0.04057803, 0.04069364, 0.04080925, 0.04092486,\n",
       "       0.04104046, 0.04115607, 0.04127168, 0.04138728, 0.04150289,\n",
       "       0.0416185 , 0.0417341 , 0.04184971, 0.04196532, 0.04208092,\n",
       "       0.04219653, 0.04231214, 0.04242775, 0.04254335, 0.04265896,\n",
       "       0.04277457, 0.04289017, 0.04300578, 0.04312139, 0.04323699,\n",
       "       0.0433526 , 0.04346821, 0.04358382, 0.04369942, 0.04381503,\n",
       "       0.04393064, 0.04404624, 0.04416185, 0.04427746, 0.04439306,\n",
       "       0.04450867, 0.04462428, 0.04473988, 0.04485549, 0.0449711 ,\n",
       "       0.04508671, 0.04520231, 0.04531792, 0.04543353, 0.04554913,\n",
       "       0.04566474, 0.04578035, 0.04589595, 0.04601156, 0.04612717,\n",
       "       0.04624277, 0.04635838, 0.04647399, 0.0465896 , 0.0467052 ,\n",
       "       0.04682081, 0.04693642, 0.04705202, 0.04716763, 0.04728324,\n",
       "       0.04739884, 0.04751445, 0.04763006, 0.04774566, 0.04786127,\n",
       "       0.04797688, 0.04809249, 0.04820809, 0.0483237 , 0.04843931,\n",
       "       0.04855491, 0.04867052, 0.04878613, 0.04890173, 0.04901734,\n",
       "       0.04913295, 0.04924855, 0.04936416, 0.04947977, 0.04959538,\n",
       "       0.04971098, 0.04982659, 0.0499422 , 0.0500578 , 0.05017341,\n",
       "       0.05028902, 0.05040462, 0.05052023, 0.05063584, 0.05075145,\n",
       "       0.05086705, 0.05098266, 0.05109827, 0.05121387, 0.05132948,\n",
       "       0.05144509, 0.05156069, 0.0516763 , 0.05179191, 0.05190751,\n",
       "       0.05202312, 0.05213873, 0.05225434, 0.05236994, 0.05248555,\n",
       "       0.05260116, 0.05271676, 0.05283237, 0.05294798, 0.05306358,\n",
       "       0.05317919, 0.0532948 , 0.0534104 , 0.05352601, 0.05364162,\n",
       "       0.05375723, 0.05387283, 0.05398844, 0.05410405, 0.05421965,\n",
       "       0.05433526, 0.05445087, 0.05456647, 0.05468208, 0.05479769,\n",
       "       0.05491329, 0.0550289 , 0.05514451, 0.05526012, 0.05537572,\n",
       "       0.05549133, 0.05560694, 0.05572254, 0.05583815, 0.05595376,\n",
       "       0.05606936, 0.05618497, 0.05630058, 0.05641618, 0.05653179,\n",
       "       0.0566474 , 0.05676301, 0.05687861, 0.05699422, 0.05710983,\n",
       "       0.05722543, 0.05734104, 0.05745665, 0.05757225, 0.05768786,\n",
       "       0.05780347, 0.05791908, 0.05803468, 0.05815029, 0.0582659 ,\n",
       "       0.0583815 , 0.05849711, 0.05861272, 0.05872832, 0.05884393,\n",
       "       0.05895954, 0.05907514])"
      ]
     },
     "execution_count": 29,
     "metadata": {},
     "output_type": "execute_result"
    }
   ],
   "source": [
    "t_grid[0]"
   ]
  },
  {
   "cell_type": "code",
   "execution_count": 14,
   "id": "dccc5b59-58c3-409e-9f6b-6265e911d8e5",
   "metadata": {},
   "outputs": [],
   "source": [
    "nworkers=6"
   ]
  },
  {
   "cell_type": "code",
   "execution_count": 15,
   "id": "bd355966-3643-4427-8734-67d587f56d00",
   "metadata": {},
   "outputs": [
    {
     "name": "stderr",
     "output_type": "stream",
     "text": [
      "Started outgoing thread.\n",
      "Registered worker 0.\n",
      "Registered worker 1.\n",
      "Registered worker 2.\n",
      "Registered worker 3.\n",
      "Registered worker 4.\n",
      "Registered worker 5.\n",
      "Node has spawned 6 workers.\n",
      "Connected to client.\n",
      "AttachedServer running...\n",
      "New CompilationTask: d74bea40-3741-44b3-a2c7-6dde60055a6c.\n"
     ]
    },
    {
     "name": "stdout",
     "output_type": "stream",
     "text": [
      "Starting flow using Sample QFactor JAX\n",
      "16:43:27.814 - CRITICAL | bqskit.compiler.compiler: Compiler interrupted.\n"
     ]
    },
    {
     "name": "stderr",
     "output_type": "stream",
     "text": [
      "Server interrupted.\n",
      "Shutting down node.\n",
      "Shutting down node.\n",
      "Shutting down node.\n"
     ]
    },
    {
     "ename": "KeyboardInterrupt",
     "evalue": "",
     "output_type": "error",
     "traceback": [
      "\u001b[0;31m---------------------------------------------------------------------------\u001b[0m",
      "\u001b[0;31mKeyboardInterrupt\u001b[0m                         Traceback (most recent call last)",
      "Cell \u001b[0;32mIn[15], line 25\u001b[0m\n\u001b[1;32m     23\u001b[0m \u001b[38;5;28mprint\u001b[39m(\u001b[38;5;124m'\u001b[39m\u001b[38;5;124mStarting flow using Sample QFactor JAX\u001b[39m\u001b[38;5;124m'\u001b[39m)\n\u001b[1;32m     24\u001b[0m start \u001b[38;5;241m=\u001b[39m timer()\n\u001b[0;32m---> 25\u001b[0m out_circuit \u001b[38;5;241m=\u001b[39m \u001b[43mcompiler\u001b[49m\u001b[38;5;241;43m.\u001b[39;49m\u001b[43mcompile\u001b[49m\u001b[43m(\u001b[49m\u001b[43min_circuit\u001b[49m\u001b[43m,\u001b[49m\u001b[43m \u001b[49m\u001b[43mpasses\u001b[49m\u001b[43m)\u001b[49m\n\u001b[1;32m     26\u001b[0m end \u001b[38;5;241m=\u001b[39m timer()\n\u001b[1;32m     27\u001b[0m run_time \u001b[38;5;241m=\u001b[39m end \u001b[38;5;241m-\u001b[39m start\n",
      "File \u001b[0;32m~/BQSKit/lib/python3.11/site-packages/bqskit/compiler/compiler.py:420\u001b[0m, in \u001b[0;36mCompiler.compile\u001b[0;34m(self, task_or_circuit, workflow, request_data, logging_level, max_logging_depth)\u001b[0m\n\u001b[1;32m    405\u001b[0m     warnings\u001b[38;5;241m.\u001b[39mwarn(\n\u001b[1;32m    406\u001b[0m         \u001b[38;5;124m'\u001b[39m\u001b[38;5;124mManually constructing and compiling CompilationTasks\u001b[39m\u001b[38;5;124m'\u001b[39m\n\u001b[1;32m    407\u001b[0m         \u001b[38;5;124m'\u001b[39m\u001b[38;5;124m is deprecated. Instead, call compile directly with\u001b[39m\u001b[38;5;124m'\u001b[39m\n\u001b[0;32m   (...)\u001b[0m\n\u001b[1;32m    410\u001b[0m         \u001b[38;5;167;01mDeprecationWarning\u001b[39;00m,\n\u001b[1;32m    411\u001b[0m     )\n\u001b[1;32m    413\u001b[0m task_id \u001b[38;5;241m=\u001b[39m \u001b[38;5;28mself\u001b[39m\u001b[38;5;241m.\u001b[39msubmit(\n\u001b[1;32m    414\u001b[0m     task_or_circuit,\n\u001b[1;32m    415\u001b[0m     workflow,\n\u001b[0;32m   (...)\u001b[0m\n\u001b[1;32m    418\u001b[0m     max_logging_depth,\n\u001b[1;32m    419\u001b[0m )\n\u001b[0;32m--> 420\u001b[0m result \u001b[38;5;241m=\u001b[39m \u001b[38;5;28;43mself\u001b[39;49m\u001b[38;5;241;43m.\u001b[39;49m\u001b[43mresult\u001b[49m\u001b[43m(\u001b[49m\u001b[43mtask_id\u001b[49m\u001b[43m)\u001b[49m\n\u001b[1;32m    422\u001b[0m \u001b[38;5;66;03m# Ensure arrival of all log messages\u001b[39;00m\n\u001b[1;32m    423\u001b[0m time\u001b[38;5;241m.\u001b[39msleep(\u001b[38;5;241m0.05\u001b[39m \u001b[38;5;28;01mif\u001b[39;00m \u001b[38;5;28mself\u001b[39m\u001b[38;5;241m.\u001b[39mp \u001b[38;5;129;01mis\u001b[39;00m \u001b[38;5;129;01mnot\u001b[39;00m \u001b[38;5;28;01mNone\u001b[39;00m \u001b[38;5;28;01melse\u001b[39;00m \u001b[38;5;241m0.5\u001b[39m)\n",
      "File \u001b[0;32m~/BQSKit/lib/python3.11/site-packages/bqskit/compiler/compiler.py:331\u001b[0m, in \u001b[0;36mCompiler.result\u001b[0;34m(self, task_id)\u001b[0m\n\u001b[1;32m    328\u001b[0m     task_id \u001b[38;5;241m=\u001b[39m task_id\u001b[38;5;241m.\u001b[39mtask_id\n\u001b[1;32m    329\u001b[0m \u001b[38;5;28;01massert\u001b[39;00m \u001b[38;5;28misinstance\u001b[39m(task_id, uuid\u001b[38;5;241m.\u001b[39mUUID)\n\u001b[0;32m--> 331\u001b[0m msg, payload \u001b[38;5;241m=\u001b[39m \u001b[38;5;28;43mself\u001b[39;49m\u001b[38;5;241;43m.\u001b[39;49m\u001b[43m_send_recv\u001b[49m\u001b[43m(\u001b[49m\u001b[43mRuntimeMessage\u001b[49m\u001b[38;5;241;43m.\u001b[39;49m\u001b[43mREQUEST\u001b[49m\u001b[43m,\u001b[49m\u001b[43m \u001b[49m\u001b[43mtask_id\u001b[49m\u001b[43m)\u001b[49m\n\u001b[1;32m    332\u001b[0m \u001b[38;5;28;01mif\u001b[39;00m msg \u001b[38;5;241m!=\u001b[39m RuntimeMessage\u001b[38;5;241m.\u001b[39mRESULT:\n\u001b[1;32m    333\u001b[0m     \u001b[38;5;28;01mraise\u001b[39;00m \u001b[38;5;167;01mRuntimeError\u001b[39;00m(\u001b[38;5;124mf\u001b[39m\u001b[38;5;124m'\u001b[39m\u001b[38;5;124mUnexpected message type: \u001b[39m\u001b[38;5;132;01m{\u001b[39;00mmsg\u001b[38;5;132;01m}\u001b[39;00m\u001b[38;5;124m.\u001b[39m\u001b[38;5;124m'\u001b[39m)\n",
      "File \u001b[0;32m~/BQSKit/lib/python3.11/site-packages/bqskit/compiler/compiler.py:457\u001b[0m, in \u001b[0;36mCompiler._send_recv\u001b[0;34m(self, msg, payload)\u001b[0m\n\u001b[1;32m    453\u001b[0m     \u001b[38;5;28mself\u001b[39m\u001b[38;5;241m.\u001b[39m_recv_log_error_until_empty()\n\u001b[1;32m    455\u001b[0m     \u001b[38;5;28mself\u001b[39m\u001b[38;5;241m.\u001b[39mconn\u001b[38;5;241m.\u001b[39msend((msg, payload))\n\u001b[0;32m--> 457\u001b[0m     \u001b[38;5;28;01mreturn\u001b[39;00m \u001b[38;5;28;43mself\u001b[39;49m\u001b[38;5;241;43m.\u001b[39;49m\u001b[43m_recv_handle_log_error\u001b[49m\u001b[43m(\u001b[49m\u001b[43m)\u001b[49m\n\u001b[1;32m    459\u001b[0m \u001b[38;5;28;01mexcept\u001b[39;00m \u001b[38;5;167;01mException\u001b[39;00m \u001b[38;5;28;01mas\u001b[39;00m e:\n\u001b[1;32m    460\u001b[0m     \u001b[38;5;28mself\u001b[39m\u001b[38;5;241m.\u001b[39mconn \u001b[38;5;241m=\u001b[39m \u001b[38;5;28;01mNone\u001b[39;00m\n",
      "File \u001b[0;32m~/BQSKit/lib/python3.11/site-packages/bqskit/compiler/compiler.py:471\u001b[0m, in \u001b[0;36mCompiler._recv_handle_log_error\u001b[0;34m(self)\u001b[0m\n\u001b[1;32m    469\u001b[0m to_return \u001b[38;5;241m=\u001b[39m \u001b[38;5;28;01mNone\u001b[39;00m\n\u001b[1;32m    470\u001b[0m \u001b[38;5;28;01mwhile\u001b[39;00m to_return \u001b[38;5;129;01mis\u001b[39;00m \u001b[38;5;28;01mNone\u001b[39;00m \u001b[38;5;129;01mor\u001b[39;00m \u001b[38;5;28mself\u001b[39m\u001b[38;5;241m.\u001b[39mconn\u001b[38;5;241m.\u001b[39mpoll():\n\u001b[0;32m--> 471\u001b[0m     msg, payload \u001b[38;5;241m=\u001b[39m \u001b[38;5;28;43mself\u001b[39;49m\u001b[38;5;241;43m.\u001b[39;49m\u001b[43mconn\u001b[49m\u001b[38;5;241;43m.\u001b[39;49m\u001b[43mrecv\u001b[49m\u001b[43m(\u001b[49m\u001b[43m)\u001b[49m\n\u001b[1;32m    473\u001b[0m     \u001b[38;5;28;01mif\u001b[39;00m msg \u001b[38;5;241m==\u001b[39m RuntimeMessage\u001b[38;5;241m.\u001b[39mLOG:\n\u001b[1;32m    474\u001b[0m         logger \u001b[38;5;241m=\u001b[39m logging\u001b[38;5;241m.\u001b[39mgetLogger(payload\u001b[38;5;241m.\u001b[39mname)\n",
      "File \u001b[0;32m~/anaconda3/lib/python3.11/multiprocessing/connection.py:249\u001b[0m, in \u001b[0;36m_ConnectionBase.recv\u001b[0;34m(self)\u001b[0m\n\u001b[1;32m    247\u001b[0m \u001b[38;5;28mself\u001b[39m\u001b[38;5;241m.\u001b[39m_check_closed()\n\u001b[1;32m    248\u001b[0m \u001b[38;5;28mself\u001b[39m\u001b[38;5;241m.\u001b[39m_check_readable()\n\u001b[0;32m--> 249\u001b[0m buf \u001b[38;5;241m=\u001b[39m \u001b[38;5;28;43mself\u001b[39;49m\u001b[38;5;241;43m.\u001b[39;49m\u001b[43m_recv_bytes\u001b[49m\u001b[43m(\u001b[49m\u001b[43m)\u001b[49m\n\u001b[1;32m    250\u001b[0m \u001b[38;5;28;01mreturn\u001b[39;00m _ForkingPickler\u001b[38;5;241m.\u001b[39mloads(buf\u001b[38;5;241m.\u001b[39mgetbuffer())\n",
      "File \u001b[0;32m~/anaconda3/lib/python3.11/multiprocessing/connection.py:413\u001b[0m, in \u001b[0;36mConnection._recv_bytes\u001b[0;34m(self, maxsize)\u001b[0m\n\u001b[1;32m    412\u001b[0m \u001b[38;5;28;01mdef\u001b[39;00m \u001b[38;5;21m_recv_bytes\u001b[39m(\u001b[38;5;28mself\u001b[39m, maxsize\u001b[38;5;241m=\u001b[39m\u001b[38;5;28;01mNone\u001b[39;00m):\n\u001b[0;32m--> 413\u001b[0m     buf \u001b[38;5;241m=\u001b[39m \u001b[38;5;28;43mself\u001b[39;49m\u001b[38;5;241;43m.\u001b[39;49m\u001b[43m_recv\u001b[49m\u001b[43m(\u001b[49m\u001b[38;5;241;43m4\u001b[39;49m\u001b[43m)\u001b[49m\n\u001b[1;32m    414\u001b[0m     size, \u001b[38;5;241m=\u001b[39m struct\u001b[38;5;241m.\u001b[39munpack(\u001b[38;5;124m\"\u001b[39m\u001b[38;5;124m!i\u001b[39m\u001b[38;5;124m\"\u001b[39m, buf\u001b[38;5;241m.\u001b[39mgetvalue())\n\u001b[1;32m    415\u001b[0m     \u001b[38;5;28;01mif\u001b[39;00m size \u001b[38;5;241m==\u001b[39m \u001b[38;5;241m-\u001b[39m\u001b[38;5;241m1\u001b[39m:\n",
      "File \u001b[0;32m~/anaconda3/lib/python3.11/multiprocessing/connection.py:378\u001b[0m, in \u001b[0;36mConnection._recv\u001b[0;34m(self, size, read)\u001b[0m\n\u001b[1;32m    376\u001b[0m remaining \u001b[38;5;241m=\u001b[39m size\n\u001b[1;32m    377\u001b[0m \u001b[38;5;28;01mwhile\u001b[39;00m remaining \u001b[38;5;241m>\u001b[39m \u001b[38;5;241m0\u001b[39m:\n\u001b[0;32m--> 378\u001b[0m     chunk \u001b[38;5;241m=\u001b[39m read(handle, remaining)\n\u001b[1;32m    379\u001b[0m     n \u001b[38;5;241m=\u001b[39m \u001b[38;5;28mlen\u001b[39m(chunk)\n\u001b[1;32m    380\u001b[0m     \u001b[38;5;28;01mif\u001b[39;00m n \u001b[38;5;241m==\u001b[39m \u001b[38;5;241m0\u001b[39m:\n",
      "File \u001b[0;32m~/BQSKit/lib/python3.11/site-packages/bqskit/compiler/compiler.py:532\u001b[0m, in \u001b[0;36msigint_handler\u001b[0;34m(signum, frame, compiler)\u001b[0m\n\u001b[1;32m    530\u001b[0m _logger\u001b[38;5;241m.\u001b[39mcritical(\u001b[38;5;124m'\u001b[39m\u001b[38;5;124mCompiler interrupted.\u001b[39m\u001b[38;5;124m'\u001b[39m)\n\u001b[1;32m    531\u001b[0m compiler\u001b[38;5;241m.\u001b[39mclose()\n\u001b[0;32m--> 532\u001b[0m \u001b[38;5;28;01mraise\u001b[39;00m \u001b[38;5;167;01mKeyboardInterrupt\u001b[39;00m\n",
      "\u001b[0;31mKeyboardInterrupt\u001b[0m: "
     ]
    }
   ],
   "source": [
    "\n",
    "inst_opts = {'method':'qfactor'}\n",
    "\n",
    "\n",
    "\n",
    "passes = [\n",
    "\n",
    "    # Split the circuit into partitions\n",
    "   #QSearchSynthesisPass(instantiate_options=instantiate_options),\n",
    "   QSearchSynthesisPass(layer_generator=SimpleLayerGenerator(two_qudit_gate=VariableUnitaryGate(2),single_qudit_gate_1=VariableUnitaryGate(1)),\n",
    "             success_threshold=1e-3,max_layer=5000,instantiate_options=inst_opts)\n",
    "   \n",
    "   #QSearchSynthesisPass(layer_generator=LayerGenDef.AltLayer(),instantiate_options=instantiate_options)\n",
    "\n",
    "]\n",
    "\n",
    "# Create the compilation task\n",
    "\n",
    "with Compiler(\n",
    "    num_workers=nworkers,\n",
    "    runtime_log_level=logging.INFO,\n",
    ") as compiler:\n",
    "\n",
    "    print('Starting flow using Sample QFactor JAX')\n",
    "    start = timer()\n",
    "    out_circuit = compiler.compile(in_circuit, passes)\n",
    "    end = timer()\n",
    "    run_time = end - start\n",
    "\n",
    "\n",
    "\n"
   ]
  },
  {
   "cell_type": "code",
   "execution_count": null,
   "id": "c6345f83-873b-4e44-a79d-f3b5d1c0c8be",
   "metadata": {},
   "outputs": [],
   "source": []
  },
  {
   "cell_type": "code",
   "execution_count": null,
   "id": "df28108f-bc7c-4fef-bea1-9fc9a7169de2",
   "metadata": {},
   "outputs": [],
   "source": []
  },
  {
   "cell_type": "code",
   "execution_count": null,
   "id": "b44e27df-4fd5-42c1-8c52-0e9ca1134974",
   "metadata": {},
   "outputs": [],
   "source": []
  },
  {
   "cell_type": "code",
   "execution_count": null,
   "id": "a534e918-86f9-46b0-998a-2675ce185588",
   "metadata": {},
   "outputs": [],
   "source": []
  },
  {
   "cell_type": "code",
   "execution_count": null,
   "id": "d596257e-e914-474e-973f-b05301400d3b",
   "metadata": {},
   "outputs": [],
   "source": []
  },
  {
   "cell_type": "code",
   "execution_count": null,
   "id": "28f03865-cc86-4b09-b6a1-cff2865c5556",
   "metadata": {},
   "outputs": [],
   "source": []
  },
  {
   "cell_type": "code",
   "execution_count": 108,
   "id": "d7c930c4-194a-4554-99d1-2d5d69a1109d",
   "metadata": {},
   "outputs": [],
   "source": [
    "inst_opts = {'method':'minimization'}\n",
    "partition_size = 6\n",
    "\n",
    "#qfact_workflow = Workflow([\n",
    "#    QuickPartitioner(3),  \n",
    "#    QSearchSynthesisPass(success_threshold=1e-3, instantiate_options=inst_opts), \n",
    "    \n",
    "#    ])\n",
    "\n",
    "passes = [\n",
    "        # Convert U3's to VU\n",
    "        #ToVariablePass(convert_all_single_qudit_gates=True),\n",
    "\n",
    "        # Split the circuit into partitions\n",
    "        QuickPartitioner(partition_size),\n",
    "\n",
    "        # For each partition perform scanning gate removal using QFactor jax\n",
    "        ForEachBlockPass([\n",
    "            ScanningGateRemovalPass(\n",
    "                instantiate_options=inst_opts,\n",
    "            ),\n",
    "        ]),\n",
    "\n",
    "        # Combine the partitions back into a circuit\n",
    "        UnfoldPass(),\n",
    "\n",
    "        # Convert back the VariablueUnitaires into U3s\n",
    "        #ToU3Pass(),\n",
    "    ]\n"
   ]
  },
  {
   "cell_type": "code",
   "execution_count": 16,
   "id": "4d98b967-be95-4dfe-8950-ffea1754f5c1",
   "metadata": {},
   "outputs": [],
   "source": [
    "QisCircQs = qiskit.synthesis.qs_decomposition(EmbUn)\n",
    "bqskit_circuit = qiskit_to_bqskit(QisCircQs)"
   ]
  },
  {
   "cell_type": "code",
   "execution_count": 17,
   "id": "d7c6e787-e3db-49a4-9b89-32ea4c4371f4",
   "metadata": {},
   "outputs": [],
   "source": [
    "#bqskit_circuit = qiskit_to_bqskit(QisCircQs)"
   ]
  },
  {
   "cell_type": "code",
   "execution_count": 18,
   "id": "d39614b7-09cc-418a-83a9-767be9f0dcd4",
   "metadata": {},
   "outputs": [
    {
     "data": {
      "text/plain": [
       "{U3Gate: 518,\n",
       " CircuitGate(Circuit(2)[U3Gate@(0,) ... U3Gate@(1,)]): 63,\n",
       " CNOTGate: 315,\n",
       " CircuitGate(Circuit(2)[U3Gate@(0,) ... U3Gate@(1,)]): 1}"
      ]
     },
     "execution_count": 18,
     "metadata": {},
     "output_type": "execute_result"
    }
   ],
   "source": [
    "bqskit_circuit.gate_counts"
   ]
  },
  {
   "cell_type": "code",
   "execution_count": 22,
   "id": "96e2a654-56e7-4927-b6d4-23135b58a72c",
   "metadata": {},
   "outputs": [
    {
     "name": "stdout",
     "output_type": "stream",
     "text": [
      "16:50:50.531 - INFO     | bqskit.passes.measure: Extracting measurements from circuit.\n",
      "16:50:50.537 - INFO     | bqskit.passes.util.log: Retargeting multi-qudit gates.\n",
      "16:51:10.142 - INFO     | bqskit.passes.util.log: Mapping circuit.\n",
      "16:51:10.142 - INFO     | bqskit.passes.mapping.placement.greedy: Placed qudits on [0, 1, 2, 3, 4]\n",
      "16:51:10.220 - INFO     | bqskit.passes.mapping.layout.sabre: Found layout: [0, 1, 2, 3, 4], new placement: [0, 1, 2, 3, 4]\n",
      "16:51:10.397 - INFO     | bqskit.passes.mapping.routing.sabre: Finished routing with layout: [0, 1, 2, 3, 4]\n",
      "16:51:10.397 - INFO     | bqskit.passes.util.log: Retargeting multi-qudit gates.\n",
      "16:51:20.192 - INFO     | bqskit.passes.util.log: Retargeting single-qudit gates.\n",
      "16:51:23.083 - INFO     | bqskit.passes.util.log: Upper bound on error is 0.0.\n",
      "16:51:23.420 - INFO     | bqskit.passes.measure: Restoring measurements to circuit.\n"
     ]
    }
   ],
   "source": [
    "from bqskit import MachineModel\n",
    "model = MachineModel(bqskit_circuit.num_qudits, gate_set=gate_set)\n",
    "\n",
    "# Compile again and print new gate counts\n",
    "out_circuit = compile(bqskit_circuit, model=model)"
   ]
  },
  {
   "cell_type": "code",
   "execution_count": 25,
   "id": "32eb0083-9319-466b-b7b6-5672ea44634b",
   "metadata": {},
   "outputs": [
    {
     "data": {
      "text/plain": [
       "Circuit(5)\n",
       "\t[RZGate([-2.076634973015725])@(0,), RZGate([0.19232388043645976])@(1,), RZGate([-1.316104582655224])@(2,), RZGate([0.11730505925184298])@(3,), RZGate([-0.09817477040183675])@(4,)]\n",
       "\t[SqrtXGate@(0,), SqrtXGate@(1,), SqrtXGate@(2,), SqrtXGate@(3,), SqrtXGate@(4,)]\n",
       "\t[RZGate([-0.7295527393513623])@(0,), RZGate([-1.032607389012476])@(1,), RZGate([-1.44705055829181])@(2,), RZGate([-1.5707963267948877])@(3,), RZGate([-1.57079632663795])@(4,)]\n",
       "\t[SqrtXGate@(0,), SqrtXGate@(1,), SqrtXGate@(2,), SqrtXGate@(3,), SqrtXGate@(4,)]\n",
       "\t[RZGate([-2.8789894859571836])@(0,), RZGate([-0.2571831280290411])@(1,), RZGate([-2.2889652401942646])@(2,), RZGate([-1.413485126983094])@(3,), RZGate([-0.5998855965277947])@(4,)]\n",
       "\t[None, CZGate@(1, 2), CZGate@(1, 2), None, None]\n",
       "\t[None, RZGate([-1.646939605690726])@(1,), RZGate([-2.626143268765907])@(2,), None, None]\n",
       "\t[None, SqrtXGate@(1,), SqrtXGate@(2,), None, None]\n",
       "\t[None, RZGate([-2.3596629898286645])@(1,), RZGate([-2.799697809480608])@(2,), None, None]\n",
       "\t[None, SqrtXGate@(1,), SqrtXGate@(2,), None, None]\n",
       "\t[None, RZGate([3.0214648697468007])@(1,), RZGate([-1.8239149021369334])@(2,), None, None]\n",
       "\t[CZGate@(0, 1), CZGate@(0, 1), None, None, None]\n",
       "\t[RZGate([1.7139033851748247])@(0,), RZGate([-1.9708233392289398])@(1,), None, None, None]\n",
       "\t[SqrtXGate@(0,), SqrtXGate@(1,), None, None, None]\n",
       "\t[RZGate([-0.295661240038541])@(0,), RZGate([-1.5038140249478449])@(1,), None, None, None]\n",
       "\t[SqrtXGate@(0,), SqrtXGate@(1,), None, None, None]\n",
       "\t[RZGate([-0.8569844907574575])@(0,), RZGate([-0.7415631591498606])@(1,), None, None, None]\n",
       "\t[CZGate@(0, 1), CZGate@(0, 1), None, None, None]\n",
       "\t[RZGate([0.7381283213240901])@(0,), RZGate([1.6239938799460827])@(1,), None, None, None]\n",
       "\t[SqrtXGate@(0,), SqrtXGate@(1,), None, None, None]\n",
       "\t[RZGate([-0.7833887351135544])@(0,), RZGate([-1.9471958014259956])@(1,), None, None, None]\n",
       "\t[SqrtXGate@(0,), SqrtXGate@(1,), None, None, None]\n",
       "\t[RZGate([3.0783830486509114])@(0,), RZGate([-1.654443434171279])@(1,), None, None, None]\n",
       "\t[CZGate@(0, 2), None, CZGate@(0, 2), None, None]\n",
       "\t[RZGate([0.9992653895860961])@(0,), None, RZGate([-0.4187290457258688])@(2,), None, None]\n",
       "\t[SqrtXGate@(0,), None, SqrtXGate@(2,), None, None]\n",
       "\t[RZGate([-1.0270725065518143])@(0,), None, RZGate([-2.3216348133211646])@(2,), None, None]\n",
       "\t[SqrtXGate@(0,), None, SqrtXGate@(2,), None, None]\n",
       "\t[RZGate([-3.1309804776460854])@(0,), None, RZGate([-0.12034735901614013])@(2,), None, None]\n",
       "\t[None, CZGate@(1, 2), CZGate@(1, 2), None, None]\n",
       "\t[None, RZGate([-2.4248756643204814])@(1,), RZGate([-1.0545271645180736])@(2,), None, None]\n",
       "\t[None, SqrtXGate@(1,), SqrtXGate@(2,), None, None]\n",
       "\t[None, RZGate([-2.625410963770527])@(1,), RZGate([-1.522223580399583])@(2,), None, None]\n",
       "\t[None, SqrtXGate@(1,), SqrtXGate@(2,), None, None]\n",
       "\t[None, RZGate([-1.2983206046779152])@(1,), RZGate([-2.1684607262985782])@(2,), None, None]\n",
       "\t[CZGate@(0, 2), None, CZGate@(0, 2), None, None]\n",
       "\t[RZGate([-1.1018020180690669])@(0,), None, RZGate([0.5133524649321641])@(2,), None, None]\n",
       "\t[SqrtXGate@(0,), None, SqrtXGate@(2,), None, None]\n",
       "\t[RZGate([-2.000989451140348])@(0,), None, RZGate([-2.858901476090499])@(2,), None, None]\n",
       "\t[SqrtXGate@(0,), None, SqrtXGate@(2,), None, None]\n",
       "\t[RZGate([-0.3840612723421728])@(0,), None, RZGate([-0.5167362005264238])@(2,), None, None]\n",
       "\t[CZGate@(0, 1), CZGate@(0, 1), None, None, None]\n",
       "\t[RZGate([2.4051657308595455])@(0,), RZGate([-2.1739054911856104])@(1,), None, None, None]\n",
       "\t[SqrtXGate@(0,), SqrtXGate@(1,), None, None, None]\n",
       "\t[RZGate([-1.1057221843068614])@(0,), RZGate([-1.063624182224732])@(1,), None, None, None]\n",
       "\t[SqrtXGate@(0,), SqrtXGate@(1,), None, None, None]\n",
       "\t[RZGate([1.8990312636640212])@(0,), RZGate([-1.9572751898218392])@(1,), None, None, None]\n",
       "\t[CZGate@(0, 1), CZGate@(0, 1), None, None, None]\n",
       "\t[RZGate([-2.27161719011787])@(0,), RZGate([-0.5658490313707292])@(1,), None, None, None]\n",
       "\t[SqrtXGate@(0,), SqrtXGate@(1,), None, None, None]\n",
       "\t[RZGate([-0.7173858624286193])@(0,), RZGate([-0.032373072593074426])@(1,), None, None, None]\n",
       "\t[SqrtXGate@(0,), SqrtXGate@(1,), None, None, None]\n",
       "\t[RZGate([2.949376653899055])@(0,), RZGate([2.375128221873461])@(1,), None, None, None]\n",
       "\t[CZGate@(0, 2), None, CZGate@(0, 2), None, None]\n",
       "\t[RZGate([0.7861475355640959])@(0,), None, RZGate([-0.4660107923553549])@(2,), None, None]\n",
       "\t[SqrtXGate@(0,), None, SqrtXGate@(2,), None, None]\n",
       "\t[RZGate([-0.2885956986710312])@(0,), None, RZGate([-0.7384571541327709])@(2,), None, None]\n",
       "\t[SqrtXGate@(0,), None, SqrtXGate@(2,), None, None]\n",
       "\t[RZGate([2.168749263252562])@(0,), None, RZGate([-1.6104449099534843])@(2,), None, None]\n",
       "\t[None, CZGate@(1, 2), CZGate@(1, 2), None, None]\n",
       "\t[None, RZGate([1.9837681793916095])@(1,), RZGate([2.9297204375756944])@(2,), None, None]\n",
       "\t[None, SqrtXGate@(1,), SqrtXGate@(2,), None, None]\n",
       "\t[None, RZGate([-2.2135679590705912])@(1,), RZGate([-0.11515716040436352])@(2,), None, None]\n",
       "\t[None, SqrtXGate@(1,), SqrtXGate@(2,), None, None]\n",
       "\t[None, RZGate([2.1491977183637054])@(1,), RZGate([-2.950754007411332])@(2,), None, None]\n",
       "\t[CZGate@(0, 2), None, CZGate@(0, 2), None, None]\n",
       "\t[RZGate([-1.7710215053994045])@(0,), None, RZGate([-1.8187766453574228])@(2,), None, None]\n",
       "\t[SqrtXGate@(0,), None, SqrtXGate@(2,), None, None]\n",
       "\t[RZGate([-2.57726218729585])@(0,), None, RZGate([-1.5332924183846108])@(2,), None, None]\n",
       "\t[SqrtXGate@(0,), None, SqrtXGate@(2,), None, None]\n",
       "\t[RZGate([-1.3683307935578988])@(0,), None, RZGate([-1.657027997715181])@(2,), None, None]\n",
       "\t[None, CZGate@(1, 2), CZGate@(1, 2), None, None]\n",
       "\t[None, RZGate([1.3089561955162354])@(1,), RZGate([0.032572973541852956])@(2,), None, None]\n",
       "\t[None, SqrtXGate@(1,), SqrtXGate@(2,), None, None]\n",
       "\t[None, RZGate([-1.1919468555323096])@(1,), RZGate([-1.2946375674266246])@(2,), None, None]\n",
       "\t[None, SqrtXGate@(1,), SqrtXGate@(2,), None, None]\n",
       "\t[None, RZGate([2.471786979832448])@(1,), RZGate([-1.865992063241242])@(2,), None, None]\n",
       "\t[CZGate@(0, 1), CZGate@(0, 1), None, None, None]\n",
       "\t[RZGate([-0.4788345508421936])@(0,), RZGate([1.4592792633675975])@(1,), None, None, None]\n",
       "\t[SqrtXGate@(0,), SqrtXGate@(1,), None, None, None]\n",
       "\t[RZGate([-1.7183983141244878])@(0,), RZGate([-2.7135350470978024])@(1,), None, None, None]\n",
       "\t[SqrtXGate@(0,), SqrtXGate@(1,), None, None, None]\n",
       "\t[RZGate([0.5191187198086933])@(0,), RZGate([0.3371428134170653])@(1,), None, None, None]\n",
       "\t[CZGate@(0, 1), CZGate@(0, 1), None, None, None]\n",
       "\t[RZGate([-1.493068802299822])@(0,), RZGate([0.3673162152347227])@(1,), None, None, None]\n",
       "\t[SqrtXGate@(0,), SqrtXGate@(1,), None, None, None]\n",
       "\t[RZGate([-0.6310598826685876])@(0,), RZGate([-2.779924011739644])@(1,), None, None, None]\n",
       "\t[SqrtXGate@(0,), SqrtXGate@(1,), None, None, None]\n",
       "\t[RZGate([-0.9066099714589075])@(0,), RZGate([1.8473433252522966])@(1,), None, None, None]\n",
       "\t[CZGate@(0, 3), None, None, CZGate@(0, 3), None]\n",
       "\t[RZGate([-0.2620065086970569])@(0,), None, None, RZGate([2.984281516006293])@(3,), None]\n",
       "\t[SqrtXGate@(0,), None, None, SqrtXGate@(3,), None]\n",
       "\t[RZGate([-3.141592653589793])@(0,), None, None, RZGate([-0.2240499944051777])@(3,), None]\n",
       "\t[SqrtXGate@(0,), None, None, SqrtXGate@(3,), None]\n",
       "\t[RZGate([-0.6486147443182713])@(0,), None, None, RZGate([-1.9700605811501646])@(3,), None]\n",
       "\t[None, CZGate@(1, 3), None, CZGate@(1, 3), None]\n",
       "\t[None, RZGate([1.0635325587893236])@(1,), None, RZGate([1.970060645827731])@(3,), None]\n",
       "\t[None, SqrtXGate@(1,), None, SqrtXGate@(3,), None]\n",
       "\t[None, RZGate([-3.141592646859774])@(1,), None, RZGate([-2.5547031980714])@(3,), None]\n",
       "\t[None, SqrtXGate@(1,), None, SqrtXGate@(3,), None]..."
      ]
     },
     "execution_count": 25,
     "metadata": {},
     "output_type": "execute_result"
    }
   ],
   "source": [
    "out_circuit"
   ]
  },
  {
   "cell_type": "code",
   "execution_count": null,
   "id": "9f9cb538-d30b-4487-a7db-a9de635519d8",
   "metadata": {},
   "outputs": [],
   "source": []
  },
  {
   "cell_type": "code",
   "execution_count": null,
   "id": "b0249c3f-0cb0-4661-85d1-129947827efe",
   "metadata": {},
   "outputs": [],
   "source": []
  },
  {
   "cell_type": "code",
   "execution_count": null,
   "id": "2741989d-5b8d-4c15-8a45-2c6651086697",
   "metadata": {},
   "outputs": [],
   "source": []
  },
  {
   "cell_type": "code",
   "execution_count": null,
   "id": "7be8e210-9fe1-4368-a31f-f1846212d9f9",
   "metadata": {},
   "outputs": [],
   "source": []
  },
  {
   "cell_type": "code",
   "execution_count": null,
   "id": "4e84e505-c512-4535-bba3-4de58605b8ff",
   "metadata": {},
   "outputs": [],
   "source": []
  },
  {
   "cell_type": "code",
   "execution_count": null,
   "id": "c34d6141-848d-4378-9fa3-034e4e074d4f",
   "metadata": {},
   "outputs": [],
   "source": []
  },
  {
   "cell_type": "code",
   "execution_count": null,
   "id": "aff1ce43-95ce-412b-afa7-4b989dd56048",
   "metadata": {},
   "outputs": [],
   "source": []
  },
  {
   "cell_type": "code",
   "execution_count": null,
   "id": "e492c353-950f-4183-aa15-c5cfabdc9cf1",
   "metadata": {},
   "outputs": [],
   "source": [
    "with Compiler() as compile:\n",
    "    out_circuit = compiler.compile(bqskit_circuit, )\n",
    "    "
   ]
  },
  {
   "cell_type": "code",
   "execution_count": 21,
   "id": "5e313346-8c25-48a3-93d6-1e536c52319f",
   "metadata": {},
   "outputs": [
    {
     "data": {
      "text/plain": [
       "\u001b[0;31mSignature:\u001b[0m\n",
       "\u001b[0mcompile\u001b[0m\u001b[0;34m(\u001b[0m\u001b[0;34m\u001b[0m\n",
       "\u001b[0;34m\u001b[0m    \u001b[0minput\u001b[0m\u001b[0;34m:\u001b[0m \u001b[0;34m'CompilationInputLike | Sequence[CompilationInput]'\u001b[0m\u001b[0;34m,\u001b[0m\u001b[0;34m\u001b[0m\n",
       "\u001b[0;34m\u001b[0m    \u001b[0mmodel\u001b[0m\u001b[0;34m:\u001b[0m \u001b[0;34m'MachineModel | None'\u001b[0m \u001b[0;34m=\u001b[0m \u001b[0;32mNone\u001b[0m\u001b[0;34m,\u001b[0m\u001b[0;34m\u001b[0m\n",
       "\u001b[0;34m\u001b[0m    \u001b[0moptimization_level\u001b[0m\u001b[0;34m:\u001b[0m \u001b[0;34m'int'\u001b[0m \u001b[0;34m=\u001b[0m \u001b[0;36m1\u001b[0m\u001b[0;34m,\u001b[0m\u001b[0;34m\u001b[0m\n",
       "\u001b[0;34m\u001b[0m    \u001b[0mmax_synthesis_size\u001b[0m\u001b[0;34m:\u001b[0m \u001b[0;34m'int'\u001b[0m \u001b[0;34m=\u001b[0m \u001b[0;36m3\u001b[0m\u001b[0;34m,\u001b[0m\u001b[0;34m\u001b[0m\n",
       "\u001b[0;34m\u001b[0m    \u001b[0msynthesis_epsilon\u001b[0m\u001b[0;34m:\u001b[0m \u001b[0;34m'float'\u001b[0m \u001b[0;34m=\u001b[0m \u001b[0;36m1e-08\u001b[0m\u001b[0;34m,\u001b[0m\u001b[0;34m\u001b[0m\n",
       "\u001b[0;34m\u001b[0m    \u001b[0merror_threshold\u001b[0m\u001b[0;34m:\u001b[0m \u001b[0;34m'float | None'\u001b[0m \u001b[0;34m=\u001b[0m \u001b[0;32mNone\u001b[0m\u001b[0;34m,\u001b[0m\u001b[0;34m\u001b[0m\n",
       "\u001b[0;34m\u001b[0m    \u001b[0merror_sim_size\u001b[0m\u001b[0;34m:\u001b[0m \u001b[0;34m'int'\u001b[0m \u001b[0;34m=\u001b[0m \u001b[0;36m8\u001b[0m\u001b[0;34m,\u001b[0m\u001b[0;34m\u001b[0m\n",
       "\u001b[0;34m\u001b[0m    \u001b[0mcompiler\u001b[0m\u001b[0;34m:\u001b[0m \u001b[0;34m'Compiler | None'\u001b[0m \u001b[0;34m=\u001b[0m \u001b[0;32mNone\u001b[0m\u001b[0;34m,\u001b[0m\u001b[0;34m\u001b[0m\n",
       "\u001b[0;34m\u001b[0m    \u001b[0mseed\u001b[0m\u001b[0;34m:\u001b[0m \u001b[0;34m'int | None'\u001b[0m \u001b[0;34m=\u001b[0m \u001b[0;32mNone\u001b[0m\u001b[0;34m,\u001b[0m\u001b[0;34m\u001b[0m\n",
       "\u001b[0;34m\u001b[0m    \u001b[0mwith_mapping\u001b[0m\u001b[0;34m:\u001b[0m \u001b[0;34m'bool'\u001b[0m \u001b[0;34m=\u001b[0m \u001b[0;32mFalse\u001b[0m\u001b[0;34m,\u001b[0m\u001b[0;34m\u001b[0m\n",
       "\u001b[0;34m\u001b[0m    \u001b[0;34m**\u001b[0m\u001b[0mcompiler_kwargs\u001b[0m\u001b[0;34m:\u001b[0m \u001b[0;34m'Any'\u001b[0m\u001b[0;34m,\u001b[0m\u001b[0;34m\u001b[0m\n",
       "\u001b[0;34m\u001b[0m\u001b[0;34m)\u001b[0m \u001b[0;34m->\u001b[0m \u001b[0;34m'Circuit | tuple[Circuit, tuple[int, ...], tuple[int, ...]] | list[Circuit] | list[tuple[Circuit, tuple[int, ...], tuple[int, ...]]]'\u001b[0m\u001b[0;34m\u001b[0m\u001b[0;34m\u001b[0m\u001b[0m\n",
       "\u001b[0;31mDocstring:\u001b[0m\n",
       "Compile a circuit, unitary, or state with a standard workflow.\n",
       "\n",
       "Args:\n",
       "    input (CompilationInputLike | Sequence[CompilationInput]): The input\n",
       "        or inputs to compile. If a single input is given, a single\n",
       "        circuit will be returned. If an iterable of inputs is given,\n",
       "        a list of circuits will be returned.\n",
       "\n",
       "    model (MachineModel | None): A model of the target machine.\n",
       "        Defaults to an all-to-all connected hardware with CNOTs and U3s\n",
       "        as native gates. See :class:`MachineModel` for information\n",
       "        on loading a preset model or creating a custom one.\n",
       "\n",
       "    optimization_level (int): The degree of optimization in the workflow.\n",
       "        The workflow will produce better circuits at the cost of\n",
       "        performance with a higher number.  An optimization_level\n",
       "        of 0 is not supported due to inherit optimization in any\n",
       "        workflow containing synthesis. Valid inputs are 1, 2, 3, or 4.\n",
       "        (Default: 1)\n",
       "\n",
       "    max_synthesis_size (int): The maximum size of a unitary to\n",
       "        synthesize or instantiate. Larger circuits will be partitioned.\n",
       "        Increasing this will most likely lead to better results with\n",
       "        an exponential time trade-off. (Default: 3)\n",
       "\n",
       "    synthesis_epsilon (float): The maximum distance between target\n",
       "        and circuit unitary during any instantiation or synthesis\n",
       "        algorithms. (Default: 1e-8)\n",
       "\n",
       "    error_threshold (float | None): This parameter controls the\n",
       "        verification mechanism in this compile function. By default,\n",
       "        it is set to None, so no verification is done. If you set\n",
       "        this to a float, the upper bound on compilation error\n",
       "        is calculated. If the upper bound is larger than this number,\n",
       "        a warning will be logged. (Default: None)\n",
       "\n",
       "    error_sim_size (int): If an `error_threshold` is set, the error\n",
       "        upper bound is calculated by simulating blocks of this size.\n",
       "        As you increase `error_sim_size`, the upper bound on error\n",
       "        becomes more accurate. This setting is ignored with direct\n",
       "        synthesis compilations, i.e., when a state, system, or unitary\n",
       "        are given as input. (Default: 8)\n",
       "\n",
       "    compiler (Compiler | None): Pass a :class:`Compiler` to prevent\n",
       "        creating one. Save on startup time by passing a compiler in\n",
       "        when calling `compile` multiple times. (Default: None)\n",
       "\n",
       "    seed (int | None): Set a seed for the compile function for\n",
       "        better reproducibility. If left as None, will not set seed.\n",
       "\n",
       "    with_mapping (bool): If True, three values will be returned\n",
       "        instead of just the compiled circuit. The first value is the\n",
       "        compiled circuit, the second value is the initial mapping,\n",
       "        and the third value is the final mapping. The initial mapping\n",
       "        is a tuple where `initial_mapping[i] = j` implies that logical\n",
       "        qudit `i` in the input system starts on the physical qudit\n",
       "        `j` in the output circuit. Likewise, the final mapping describes\n",
       "        where the logical qudits are in the physical circuit at the end\n",
       "        of execution. (Default: False)\n",
       "\n",
       "    compiler_kwargs (Any): Passed directly to BQSKit compiler construction.\n",
       "        Arguments for connecting to a cluster can go here.\n",
       "        See :class:`Compiler` for more info.\n",
       "\n",
       "Returns:\n",
       "    (Circuit): The compiled circuit.\n",
       "\n",
       "Examples:\n",
       "    >>> from bqskit import Circuit, compile\n",
       "    >>> circuit = Circuit.from_file('input.qasm')\n",
       "    >>> compiled_circuit = compile(circuit)\n",
       "    >>> compiled_circuit.save('output.qasm')\n",
       "\n",
       "    >>> from bqskit import compile\n",
       "    >>> from bqskit.qis.state import StateVector\n",
       "    >>> state = StateVector.random(3)\n",
       "    >>> compiled_circuit = compile(state)\n",
       "    >>> compiled_circuit.save('output.qasm')\n",
       "\n",
       "    >>> from bqskit import compile\n",
       "    >>> from bqskit.qis.unitary import UnitaryMatrix\n",
       "    >>> utry = UnitaryMatrix.random(3)\n",
       "    >>> compiled_circuit = compile(utry)\n",
       "    >>> compiled_circuit.save('output.qasm')\n",
       "\n",
       "    >>> from bqskit import compile, Circuit\n",
       "    >>> circuits = [Circuit.from_file(f'input{i}.qasm') for i in range(5)]\n",
       "    >>> compiled_circuits = compile(circuits)\n",
       "    >>> for i, circuit in enumerate(compiled_circuits):\n",
       "    ...     circuit.save(f'output{i}.qasm')\n",
       "\n",
       "    >>> from bqskit import compile, Circuit, MachineModel\n",
       "    >>> from bqskit.ir.gates import CZGate, RZGate, SqrtXGate\n",
       "    >>> target_gate_set = {CZGate(), RZGate(), SqrtXGate()}\n",
       "    >>> circuit = Circuit.from_file('input.qasm')\n",
       "    >>> model = MachineModel(circuit.num_qudits, gate_set=target_gate_set)\n",
       "    >>> compiled_circuit = compile(circuit, model, optimization_level=2)\n",
       "\n",
       "    You can also use pre-built models from the :obj:`~bqskit.ext` package\n",
       "    for common hardware. For example, to compile to the H1-1 machine\n",
       "    from Quantinuum:\n",
       "\n",
       "    >>> from bqskit import compile, Circuit\n",
       "    >>> from bqskit.ext import H1_1Model\n",
       "    >>> circuit = Circuit.from_file('input.qasm')\n",
       "    >>> compiled_circuit = compile(circuit, H1_1Model)\n",
       "\n",
       "Raises:\n",
       "    ValueError: If the input is an empty iterable.\n",
       "\n",
       "    ValueError: If the input (or any input) is larger than the model.\n",
       "\n",
       "    ValueError: If either the input or the model has mixed radixes.\n",
       "\n",
       "    ValueError: If the model has a mismatched radix with the circuit.\n",
       "\n",
       "    ValueError: If the model doesn't contain any entangling gates and\n",
       "        the input (or any input) is larger than one-qudit.\n",
       "\n",
       "    ValueError: If the model does not contain any entangling gates\n",
       "        that are less than or equal to the input size.\n",
       "\n",
       "    ValueError: If optimization_level is not 1, 2, 3, or 4.\n",
       "\n",
       "    ValueError: If the maximum synthesis size is less than the\n",
       "        largest gate in the model.\n",
       "\n",
       "    ValueError: If the maximum synthesis size is less than 2.\n",
       "\n",
       "    ValueError: If the synthesis epsilon is not between 0 and 1.\n",
       "\n",
       "    ValueError: The error simulation size is less than the maximum\n",
       "        synthesis size.\n",
       "\u001b[0;31mFile:\u001b[0m      ~/BQSKit/lib/python3.11/site-packages/bqskit/compiler/compile.py\n",
       "\u001b[0;31mType:\u001b[0m      function"
      ]
     },
     "metadata": {},
     "output_type": "display_data"
    }
   ],
   "source": [
    "Compiler().compile?"
   ]
  },
  {
   "cell_type": "code",
   "execution_count": null,
   "id": "b834d1bf-a532-4c07-bba9-4f874523562f",
   "metadata": {},
   "outputs": [],
   "source": []
  },
  {
   "cell_type": "code",
   "execution_count": null,
   "id": "8a8ab62c-a694-4c4d-b489-1218866a5186",
   "metadata": {},
   "outputs": [],
   "source": []
  },
  {
   "cell_type": "code",
   "execution_count": null,
   "id": "8b7421e5-d773-416c-9373-65a3ebaf8c44",
   "metadata": {},
   "outputs": [],
   "source": []
  },
  {
   "cell_type": "code",
   "execution_count": null,
   "id": "ebaf4883-5c16-4726-b489-8e11c5df3b59",
   "metadata": {},
   "outputs": [],
   "source": []
  },
  {
   "cell_type": "code",
   "execution_count": 113,
   "id": "32832378-e293-45ff-ae01-b1d0c4278427",
   "metadata": {},
   "outputs": [
    {
     "data": {
      "text/plain": [
       "815"
      ]
     },
     "execution_count": 113,
     "metadata": {},
     "output_type": "execute_result"
    }
   ],
   "source": [
    "bqskit_circuit.depth"
   ]
  },
  {
   "cell_type": "code",
   "execution_count": null,
   "id": "2316f1df-5116-4ccf-adf1-49b9fe23df57",
   "metadata": {},
   "outputs": [],
   "source": [
    "bq"
   ]
  },
  {
   "cell_type": "code",
   "execution_count": null,
   "id": "8970a7c7-afdd-4d8b-87e1-163f67fdbcee",
   "metadata": {},
   "outputs": [],
   "source": [
    "#####"
   ]
  },
  {
   "cell_type": "code",
   "execution_count": null,
   "id": "fc7e3288-acfd-4979-aa89-06a0c225310b",
   "metadata": {},
   "outputs": [],
   "source": []
  },
  {
   "cell_type": "code",
   "execution_count": null,
   "id": "6bcb3fd3-82f4-4634-9803-9cd37212bd62",
   "metadata": {},
   "outputs": [
    {
     "name": "stderr",
     "output_type": "stream",
     "text": [
      "Started outgoing thread.\n",
      "Registered worker 0.\n",
      "Registered worker 1.\n",
      "Registered worker 2.\n",
      "Registered worker 3.\n",
      "Registered worker 4.\n",
      "Registered worker 5.\n",
      "Node has spawned 6 workers.\n"
     ]
    },
    {
     "name": "stdout",
     "output_type": "stream",
     "text": [
      "Starting flow\n"
     ]
    },
    {
     "name": "stderr",
     "output_type": "stream",
     "text": [
      "Connected to client.\n",
      "AttachedServer running...\n",
      "New CompilationTask: 220ee26b-3c17-4f55-9ee6-40cb26e8a682.\n"
     ]
    },
    {
     "name": "stdout",
     "output_type": "stream",
     "text": [
      "16:06:01.945 - CRITICAL | bqskit.compiler.compiler: Compiler interrupted.\n"
     ]
    },
    {
     "name": "stderr",
     "output_type": "stream",
     "text": [
      "Server interrupted.\n",
      "Shutting down node.\n"
     ]
    }
   ],
   "source": [
    "with Compiler(\n",
    "        num_workers=nworkers,\n",
    "        runtime_log_level=logging.INFO,\n",
    "    ) as compiler:\n",
    "\n",
    "        print('Starting flow')\n",
    "        start = timer()\n",
    "        out_circuit = compiler.compile(bqskit_circuit, passes)\n",
    "        end = timer()\n",
    "        run_time = end - start"
   ]
  },
  {
   "cell_type": "code",
   "execution_count": 107,
   "id": "295cd19a-dae5-474d-9a9c-5f1d0605b73f",
   "metadata": {},
   "outputs": [
    {
     "data": {
      "text/plain": [
       "{U3Gate: 776, CNOTGate: 440}"
      ]
     },
     "execution_count": 107,
     "metadata": {},
     "output_type": "execute_result"
    }
   ],
   "source": [
    "out_circuit.gate_counts"
   ]
  },
  {
   "cell_type": "code",
   "execution_count": 102,
   "id": "b49c72e3-1e25-4c64-9d3b-5aacedfa75fb",
   "metadata": {},
   "outputs": [
    {
     "data": {
      "text/plain": [
       "904"
      ]
     },
     "execution_count": 102,
     "metadata": {},
     "output_type": "execute_result"
    }
   ],
   "source": [
    "out_circuit.depth"
   ]
  },
  {
   "cell_type": "code",
   "execution_count": null,
   "id": "c2ed3de0-c14d-4284-98a1-7ef9dddbca69",
   "metadata": {},
   "outputs": [],
   "source": []
  },
  {
   "cell_type": "code",
   "execution_count": null,
   "id": "680a7297-0fb2-4dfa-ab2a-9784126b27fb",
   "metadata": {},
   "outputs": [],
   "source": []
  },
  {
   "cell_type": "code",
   "execution_count": null,
   "id": "4edc16e5-0154-4ce3-b1c1-6d7343e3e623",
   "metadata": {},
   "outputs": [],
   "source": []
  },
  {
   "cell_type": "code",
   "execution_count": null,
   "id": "e2a2c9ad-eb6a-4e96-9232-cc877522ef95",
   "metadata": {},
   "outputs": [],
   "source": []
  },
  {
   "cell_type": "code",
   "execution_count": null,
   "id": "efcf24d9-e75f-40da-9230-2eb850dbe55a",
   "metadata": {},
   "outputs": [],
   "source": []
  },
  {
   "cell_type": "code",
   "execution_count": 48,
   "id": "ad7da234-3834-4695-9f23-2d43b70a4753",
   "metadata": {},
   "outputs": [
    {
     "data": {
      "text/plain": [
       "27"
      ]
     },
     "execution_count": 48,
     "metadata": {},
     "output_type": "execute_result"
    }
   ],
   "source": [
    "bqskit_circuit.depth"
   ]
  },
  {
   "cell_type": "code",
   "execution_count": null,
   "id": "6fcd04ca-0677-4a14-bc18-0aec5ddeea0d",
   "metadata": {},
   "outputs": [],
   "source": []
  },
  {
   "cell_type": "code",
   "execution_count": null,
   "id": "f2acc96e-f097-483e-a8d2-0b94a08de728",
   "metadata": {},
   "outputs": [],
   "source": []
  },
  {
   "cell_type": "code",
   "execution_count": null,
   "id": "b9497c2b-d6bb-4056-96a8-8187626e847c",
   "metadata": {},
   "outputs": [],
   "source": []
  },
  {
   "cell_type": "code",
   "execution_count": null,
   "id": "253d1e6d-ab11-4635-8325-c6a7d24487ce",
   "metadata": {},
   "outputs": [],
   "source": []
  },
  {
   "cell_type": "code",
   "execution_count": null,
   "id": "1ad26bd0-c06c-4973-87b4-3d5ac1299599",
   "metadata": {},
   "outputs": [],
   "source": []
  },
  {
   "cell_type": "code",
   "execution_count": null,
   "id": "748552a3-45ca-4b85-abf6-83a2cf22ce7f",
   "metadata": {},
   "outputs": [],
   "source": []
  },
  {
   "cell_type": "code",
   "execution_count": null,
   "id": "3f020134-64d9-4145-9f65-425e19db8b74",
   "metadata": {},
   "outputs": [],
   "source": []
  },
  {
   "cell_type": "code",
   "execution_count": null,
   "id": "2dd35c69-475f-4a32-9011-43f1c3d95909",
   "metadata": {},
   "outputs": [],
   "source": []
  },
  {
   "cell_type": "code",
   "execution_count": null,
   "id": "661dc15e-30bc-436a-badf-1adfb45b2e9d",
   "metadata": {},
   "outputs": [],
   "source": []
  }
 ],
 "metadata": {
  "kernelspec": {
   "display_name": "BQSkit",
   "language": "python",
   "name": "bqskit"
  },
  "language_info": {
   "codemirror_mode": {
    "name": "ipython",
    "version": 3
   },
   "file_extension": ".py",
   "mimetype": "text/x-python",
   "name": "python",
   "nbconvert_exporter": "python",
   "pygments_lexer": "ipython3",
   "version": "3.11.5"
  }
 },
 "nbformat": 4,
 "nbformat_minor": 5
}
